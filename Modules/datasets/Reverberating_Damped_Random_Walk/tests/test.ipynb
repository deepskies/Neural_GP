{
 "cells": [
  {
   "cell_type": "code",
   "execution_count": 1,
   "metadata": {
    "collapsed": true,
    "pycharm": {
     "name": "#%%\n"
    }
   },
   "outputs": [],
   "source": [
    "import numpy as np\n",
    "import scipy\n",
    "import matplotlib.pyplot as plt\n",
    "import matplotlib as mpl\n",
    "import seaborn as sns\n",
    "from tqdm import tqdm\n",
    "import pandas as pd\n",
    "mpl.style.use('default')\n",
    "plt.rcParams.update({\n",
    "    \"lines.color\": \"white\",\n",
    "    \"patch.edgecolor\": \"white\",\n",
    "    \"text.color\": \"black\",\n",
    "    \"axes.facecolor\": \"lightgray\",\n",
    "    \"axes.edgecolor\": \"lightgray\",\n",
    "    \"axes.labelcolor\": \"white\",\n",
    "    \"xtick.color\": \"white\",\n",
    "    \"ytick.color\": \"white\",\n",
    "    \"grid.color\": \"lightgray\",\n",
    "    \"figure.facecolor\": \"black\",\n",
    "    \"figure.edgecolor\": \"black\",\n",
    "    \"savefig.facecolor\": \"black\",\n",
    "    \"savefig.edgecolor\": \"black\",\n",
    "    \"legend.facecolor\":'lightgray',\n",
    "    \"legend.edgecolor\":'black',\n",
    "    'axes.titlecolor': 'white'})\n",
    "\n",
    "\n",
    "Datafolder = \"../../../../datasets/Reverberating_Damped_Random_Walk/data/\"\n",
    "Modulesfolder = \"../../../../Modules/\"\n",
    "\n",
    "import sys\n",
    "sys.path.append(Modulesfolder)\n",
    "\n",
    "FS = 18 # fontsize"
   ]
  },
  {
   "cell_type": "markdown",
   "source": [
    "# Dataset"
   ],
   "metadata": {
    "collapsed": false,
    "pycharm": {
     "name": "#%% md\n"
    }
   }
  },
  {
   "cell_type": "markdown",
   "source": [
    "## Read data"
   ],
   "metadata": {
    "collapsed": false,
    "pycharm": {
     "name": "#%% md\n"
    }
   }
  },
  {
   "cell_type": "code",
   "execution_count": 2,
   "outputs": [],
   "source": [
    "import pickle\n",
    "\n",
    "with open(Datafolder+'times.pkl', 'rb') as f:\n",
    "    time_arrays = pickle.load(f)\n",
    "\n",
    "with open(Datafolder+'values.pkl', 'rb') as f:\n",
    "    value_arrays = pickle.load(f)\n",
    "\n",
    "with open(Datafolder+'labels.pkl', 'rb') as f:\n",
    "  label_samples = pickle.load(f)\n",
    "\n",
    "# Discard first three years to get evolution history (~407 samples)\n",
    "time_arrays-=np.min(time_arrays,axis=-1,keepdims=True)\n",
    "\n",
    "labels=np.zeros((len(label_samples),4))\n",
    "labels[:,2:]=label_samples\n",
    "# Mean\n",
    "labels[:,0]=0.\n",
    "# Structure function SF_inf^2\n",
    "labels[:,1]=1.\n",
    "label_samples=[]\n",
    "\n",
    "\n",
    "def to_date(time_array,offset_date='2000-01-01T00:00:00'):\n",
    "    return np.array([pd.Timedelta(x,'days').round('d')+pd.Timestamp(offset_date) for x in time_array])"
   ],
   "metadata": {
    "collapsed": false,
    "pycharm": {
     "name": "#%%\n"
    }
   }
  },
  {
   "cell_type": "code",
   "execution_count": 3,
   "outputs": [],
   "source": [
    "from Modules.datasets.Reverberating_Damped_Random_Walk import Masking\n",
    "from Modules.datasets.Reverberating_Damped_Random_Walk.Datasets import Dataset_Template,Year_Dataset\n"
   ],
   "metadata": {
    "collapsed": false,
    "pycharm": {
     "name": "#%%\n"
    }
   }
  },
  {
   "cell_type": "code",
   "execution_count": 4,
   "outputs": [],
   "source": [
    "dataset = Dataset_Template(value_arrays,time_arrays,labels)"
   ],
   "metadata": {
    "collapsed": false,
    "pycharm": {
     "name": "#%%\n"
    }
   }
  },
  {
   "cell_type": "code",
   "execution_count": 5,
   "outputs": [
    {
     "data": {
      "text/plain": "<matplotlib.collections.PathCollection at 0x15ce8e910>"
     },
     "execution_count": 5,
     "metadata": {},
     "output_type": "execute_result"
    },
    {
     "data": {
      "text/plain": "<Figure size 432x288 with 1 Axes>",
      "image/png": "[encoded data removed]"
     },
     "metadata": {
      "needs_background": "dark"
     },
     "output_type": "display_data"
    }
   ],
   "source": [
    "context,target,masks,out_labels,random_params = dataset.get_item(0,0,0)\n",
    "plt.scatter(target[:,0],target[:,1])\n",
    "plt.scatter(context[:,0],context[:,1])"
   ],
   "metadata": {
    "collapsed": false,
    "pycharm": {
     "name": "#%%\n"
    }
   }
  },
  {
   "cell_type": "code",
   "execution_count": 11,
   "outputs": [
    {
     "data": {
      "text/plain": "array([3.41187697, 3.33158703, 3.05829136, 1.94383131])"
     },
     "execution_count": 11,
     "metadata": {},
     "output_type": "execute_result"
    }
   ],
   "source": [
    "out_labels"
   ],
   "metadata": {
    "collapsed": false,
    "pycharm": {
     "name": "#%%\n"
    }
   }
  },
  {
   "cell_type": "code",
   "execution_count": 38,
   "outputs": [
    {
     "data": {
      "text/plain": "3.84"
     },
     "execution_count": 38,
     "metadata": {},
     "output_type": "execute_result"
    }
   ],
   "source": [
    "2.8 + 2 *0.52"
   ],
   "metadata": {
    "collapsed": false,
    "pycharm": {
     "name": "#%%\n"
    }
   }
  },
  {
   "cell_type": "code",
   "execution_count": 39,
   "outputs": [
    {
     "data": {
      "text/plain": "1.7599999999999998"
     },
     "execution_count": 39,
     "metadata": {},
     "output_type": "execute_result"
    }
   ],
   "source": [
    "2.8 - 2 *0.52"
   ],
   "metadata": {
    "collapsed": false,
    "pycharm": {
     "name": "#%%\n"
    }
   }
  },
  {
   "cell_type": "code",
   "execution_count": 41,
   "outputs": [
    {
     "data": {
      "text/plain": "-0.10000000000000009"
     },
     "execution_count": 41,
     "metadata": {},
     "output_type": "execute_result"
    }
   ],
   "source": [
    "1.22 - 3 * 0.44"
   ],
   "metadata": {
    "collapsed": false,
    "pycharm": {
     "name": "#%%\n"
    }
   }
  },
  {
   "cell_type": "code",
   "execution_count": 43,
   "outputs": [
    {
     "data": {
      "text/plain": "3.3404441148401185"
     },
     "execution_count": 43,
     "metadata": {},
     "output_type": "execute_result"
    }
   ],
   "source": [
    "np.log10(6*365)"
   ],
   "metadata": {
    "collapsed": false,
    "pycharm": {
     "name": "#%%\n"
    }
   }
  },
  {
   "cell_type": "code",
   "execution_count": null,
   "outputs": [],
   "source": [],
   "metadata": {
    "collapsed": false,
    "pycharm": {
     "name": "#%%\n"
    }
   }
  },
  {
   "cell_type": "code",
   "execution_count": 34,
   "outputs": [
    {
     "data": {
      "text/plain": "<matplotlib.collections.PathCollection at 0x14a426160>"
     },
     "execution_count": 34,
     "metadata": {},
     "output_type": "execute_result"
    },
    {
     "data": {
      "text/plain": "<Figure size 432x288 with 1 Axes>",
      "image/png": "[encoded data removed]"
     },
     "metadata": {
      "needs_background": "dark"
     },
     "output_type": "display_data"
    }
   ],
   "source": [
    "context,target,masks,out_labels,random_params, indices = dataset.collate_fn([dataset.__getitem__(0),dataset.__getitem__(3426)])\n",
    "import torch\n",
    "index=1\n",
    "plt.scatter(target[index,target[index,:,2].type(torch.bool),0],target[index,target[index,:,2].type(torch.bool),1])\n",
    "plt.scatter(context[index,context[index,:,2].type(torch.bool),0],context[index,context[index,:,2].type(torch.bool),1])"
   ],
   "metadata": {
    "collapsed": false,
    "pycharm": {
     "name": "#%%\n"
    }
   }
  },
  {
   "cell_type": "code",
   "execution_count": 36,
   "outputs": [
    {
     "data": {
      "text/plain": "<matplotlib.collections.PathCollection at 0x14a3f5520>"
     },
     "execution_count": 36,
     "metadata": {},
     "output_type": "execute_result"
    },
    {
     "data": {
      "text/plain": "<Figure size 432x288 with 1 Axes>",
      "image/png": "[encoded data removed]"
     },
     "metadata": {
      "needs_background": "dark"
     },
     "output_type": "display_data"
    }
   ],
   "source": [
    "\n",
    "index=0\n",
    "plt.scatter(target[index,target[index,:,2].type(torch.bool),0],target[index,target[index,:,2].type(torch.bool),1])\n",
    "plt.scatter(context[index,context[index,:,2].type(torch.bool),0],context[index,context[index,:,2].type(torch.bool),1])"
   ],
   "metadata": {
    "collapsed": false,
    "pycharm": {
     "name": "#%%\n"
    }
   }
  },
  {
   "cell_type": "code",
   "execution_count": 35,
   "outputs": [
    {
     "data": {
      "text/plain": "array([array([6, 0, 2, 1, 1]), array([3, 1, 1, 1, 1])], dtype=object)"
     },
     "execution_count": 35,
     "metadata": {},
     "output_type": "execute_result"
    }
   ],
   "source": [
    "random_params"
   ],
   "metadata": {
    "collapsed": false,
    "pycharm": {
     "name": "#%%\n"
    }
   }
  },
  {
   "cell_type": "code",
   "execution_count": null,
   "outputs": [],
   "source": [],
   "metadata": {
    "collapsed": false,
    "pycharm": {
     "name": "#%%\n"
    }
   }
  },
  {
   "cell_type": "code",
   "execution_count": null,
   "outputs": [],
   "source": [],
   "metadata": {
    "collapsed": false,
    "pycharm": {
     "name": "#%%\n"
    }
   }
  },
  {
   "cell_type": "code",
   "execution_count": null,
   "outputs": [],
   "source": [],
   "metadata": {
    "collapsed": false,
    "pycharm": {
     "name": "#%%\n"
    }
   }
  },
  {
   "cell_type": "code",
   "execution_count": 6,
   "outputs": [],
   "source": [
    "labels_index, time_index, random_seed_index = 0,0,0\n",
    "time_arrays, light_curves, padding_masks = dataset.get_full_light_curve(labels_index, time_index, random_seed_index)"
   ],
   "metadata": {
    "collapsed": false,
    "pycharm": {
     "name": "#%%\n"
    }
   }
  },
  {
   "cell_type": "code",
   "execution_count": 7,
   "outputs": [
    {
     "ename": "AttributeError",
     "evalue": "'Dataset_Template' object has no attribute 'augment_series_borders'",
     "output_type": "error",
     "traceback": [
      "\u001B[0;31m---------------------------------------------------------------------------\u001B[0m",
      "\u001B[0;31mAttributeError\u001B[0m                            Traceback (most recent call last)",
      "Input \u001B[0;32mIn [7]\u001B[0m, in \u001B[0;36m<cell line: 22>\u001B[0;34m()\u001B[0m\n\u001B[1;32m     19\u001B[0m     value_next \u001B[38;5;241m=\u001B[39m light_curves[year_index\u001B[38;5;241m+\u001B[39m\u001B[38;5;241m1\u001B[39m,\u001B[38;5;241m0\u001B[39m]\n\u001B[1;32m     21\u001B[0m current_series \u001B[38;5;241m=\u001B[39m np\u001B[38;5;241m.\u001B[39mstack([time_arrays[year_index],light_curves[year_index],padding_masks[year_index]],axis\u001B[38;5;241m=\u001B[39m\u001B[38;5;241m-\u001B[39m\u001B[38;5;241m1\u001B[39m)\n\u001B[0;32m---> 22\u001B[0m aug_series, aug_mask \u001B[38;5;241m=\u001B[39m \u001B[43mdataset\u001B[49m\u001B[38;5;241;43m.\u001B[39;49m\u001B[43maugment_series_borders\u001B[49m(current_series,time_prev,value_prev,time_next,value_next)\n\u001B[1;32m     24\u001B[0m fig \u001B[38;5;241m=\u001B[39m plt\u001B[38;5;241m.\u001B[39mfigure(figsize\u001B[38;5;241m=\u001B[39m(\u001B[38;5;241m20\u001B[39m,\u001B[38;5;241m7\u001B[39m))\n\u001B[1;32m     25\u001B[0m plt\u001B[38;5;241m.\u001B[39mplot(dataset\u001B[38;5;241m.\u001B[39myear_dataset\u001B[38;5;241m.\u001B[39mget_time_array(time_index)\u001B[38;5;241m/\u001B[39m\u001B[38;5;241m365\u001B[39m \u001B[38;5;241m-\u001B[39m year_index,dataset\u001B[38;5;241m.\u001B[39myear_dataset\u001B[38;5;241m.\u001B[39mget_light_curve(labels_index,time_index,random_seed_index))\n",
      "\u001B[0;31mAttributeError\u001B[0m: 'Dataset_Template' object has no attribute 'augment_series_borders'"
     ]
    }
   ],
   "source": [
    "year_index = 0\n",
    "if year_index==0:\n",
    "    time_prev = None\n",
    "    value_prev = None\n",
    "else:\n",
    "    length = padding_masks[year_index-1,:].sum()\n",
    "    # the last observed time and value\n",
    "    time_prev = time_arrays[year_index-1,length-1]-1\n",
    "    value_prev = light_curves[year_index-1,length-1]\n",
    "\n",
    "if year_index==dataset.year_dataset.years_number-1:\n",
    "    # first value from data not big enough to make the full year\n",
    "    following_index = 1 + dataset.year_dataset.year_mask_indices[time_index,-1,-1]\n",
    "    time_next =  dataset.year_dataset.get_time_array(time_index)[following_index]/365 - dataset.year_dataset.years_number + 1\n",
    "    value_next = dataset.year_dataset.get_light_curve(labels_index,time_index,random_seed_index)[following_index]\n",
    "else:\n",
    "    # the first observed time and value\n",
    "    time_next = time_arrays[year_index+1,0] + 1\n",
    "    value_next = light_curves[year_index+1,0]\n",
    "\n",
    "current_series = np.stack([time_arrays[year_index],light_curves[year_index],padding_masks[year_index]],axis=-1)\n",
    "aug_series, aug_mask = dataset.augment_series_borders(current_series,time_prev,value_prev,time_next,value_next)\n",
    "\n",
    "fig = plt.figure(figsize=(20,7))\n",
    "plt.plot(dataset.year_dataset.get_time_array(time_index)/365 - year_index,dataset.year_dataset.get_light_curve(labels_index,time_index,random_seed_index))\n",
    "plt.scatter(time_arrays[year_index,padding_masks[year_index]],light_curves[year_index,padding_masks[year_index]])\n",
    "plt.scatter(aug_series[aug_mask,0],aug_series[aug_mask,1])\n"
   ],
   "metadata": {
    "collapsed": false,
    "pycharm": {
     "name": "#%%\n"
    }
   }
  },
  {
   "cell_type": "code",
   "execution_count": 11,
   "outputs": [
    {
     "data": {
      "text/plain": "<matplotlib.collections.PathCollection at 0x134f9fe50>"
     },
     "execution_count": 11,
     "metadata": {},
     "output_type": "execute_result"
    },
    {
     "data": {
      "text/plain": "<Figure size 1440x504 with 1 Axes>",
      "image/png": "[encoded data removed]"
     },
     "metadata": {
      "needs_background": "dark"
     },
     "output_type": "display_data"
    }
   ],
   "source": [
    "year_index = 5\n",
    "if year_index==0:\n",
    "    time_prev = None\n",
    "    value_prev = None\n",
    "else:\n",
    "    length = padding_masks[year_index-1,:].sum()\n",
    "    # the last observed time and value\n",
    "    time_prev = time_arrays[year_index-1,length-1]-1\n",
    "    value_prev = light_curves[year_index-1,length-1]\n",
    "\n",
    "if year_index==dataset.year_dataset.years_number-1:\n",
    "    # first value from data not big enough to make the full year\n",
    "    following_index = 1 + dataset.year_dataset.year_mask_indices[time_index,-1,-1]\n",
    "    time_next =  dataset.year_dataset.get_time_array(time_index)[following_index]/365 - dataset.year_dataset.years_number + 1\n",
    "    value_next = dataset.year_dataset.get_light_curve(labels_index,time_index,random_seed_index)[following_index]\n",
    "else:\n",
    "    # the first observed time and value\n",
    "    time_next = time_arrays[year_index+1,0] + 1\n",
    "    value_next = light_curves[year_index+1,0]\n",
    "\n",
    "current_series = np.stack([time_arrays[year_index],light_curves[year_index],padding_masks[year_index]],axis=-1)\n",
    "aug_series, aug_mask = dataset.augment_series_borders(current_series,time_prev,value_prev,time_next,value_next)\n",
    "\n",
    "fig = plt.figure(figsize=(20,7))\n",
    "plt.plot(dataset.year_dataset.get_time_array(time_index)/365 - year_index,dataset.year_dataset.get_light_curve(labels_index,time_index,random_seed_index))\n",
    "plt.scatter(time_arrays[year_index,padding_masks[year_index]],light_curves[year_index,padding_masks[year_index]])\n",
    "plt.scatter(aug_series[aug_mask,0],aug_series[aug_mask,1])\n"
   ],
   "metadata": {
    "collapsed": false,
    "pycharm": {
     "name": "#%%\n"
    }
   }
  },
  {
   "cell_type": "code",
   "execution_count": 12,
   "outputs": [
    {
     "data": {
      "text/plain": "array([[ 0.0011821 , -0.04067835,  1.        ],\n       [ 0.00217977, -0.04058506,  1.        ],\n       [ 0.01090522, -0.03973096,  1.        ],\n       [ 0.02868294, -0.03839936,  1.        ],\n       [ 0.03616669, -0.03794086,  1.        ],\n       [ 0.03993386, -0.03768459,  1.        ],\n       [ 0.04145361, -0.03757042,  1.        ],\n       [ 0.04459084, -0.03735313,  1.        ],\n       [ 0.05299595, -0.03672259,  1.        ],\n       [ 0.0601774 , -0.0361264 ,  1.        ],\n       [ 0.07819629, -0.03413233,  1.        ],\n       [ 0.09200698, -0.03252548,  1.        ],\n       [ 0.10360725, -0.03154632,  1.        ],\n       [ 0.12021135, -0.03006522,  1.        ],\n       [ 0.12242662, -0.02982969,  1.        ],\n       [ 0.12558607, -0.02953573,  1.        ],\n       [ 0.12885911, -0.02918353,  1.        ],\n       [ 0.13448928, -0.0285364 ,  1.        ],\n       [ 0.14204598, -0.02770075,  1.        ],\n       [ 0.14436021, -0.02744974,  1.        ],\n       [ 0.14449482, -0.02743574,  1.        ],\n       [ 0.14798476, -0.02703913,  1.        ],\n       [ 0.15051169, -0.02678637,  1.        ],\n       [ 0.17003568, -0.02550263,  1.        ],\n       [ 0.18504682, -0.02418526,  1.        ],\n       [ 0.19852856, -0.02273637,  1.        ],\n       [ 0.20577808, -0.02190112,  1.        ],\n       [ 0.20866873, -0.02153303,  1.        ],\n       [ 0.21412047, -0.02083332,  1.        ],\n       [ 0.22568634, -0.01944033,  1.        ],\n       [ 0.22639742, -0.01934066,  1.        ],\n       [ 0.23745787, -0.01791443,  1.        ],\n       [ 0.2377459 , -0.01790377,  1.        ],\n       [ 0.24935624, -0.01623377,  1.        ],\n       [ 0.26064385, -0.01434458,  1.        ],\n       [ 0.26100244, -0.01426312,  1.        ],\n       [ 0.26776003, -0.01311587,  1.        ],\n       [ 0.2725413 , -0.01238117,  1.        ],\n       [ 0.27381604, -0.01219083,  1.        ],\n       [ 0.27491613, -0.01202613,  1.        ],\n       [ 0.28508016, -0.01040922,  1.        ],\n       [ 0.29082412, -0.0096212 ,  1.        ],\n       [ 0.31873159, -0.00638342,  1.        ],\n       [ 0.34634286, -0.00254459,  1.        ],\n       [ 0.38000977,  0.00150522,  1.        ],\n       [ 0.38087458,  0.00158827,  1.        ],\n       [ 0.39994828,  0.00399794,  1.        ],\n       [ 0.40186929,  0.0042681 ,  1.        ],\n       [ 0.40606711,  0.00479416,  1.        ],\n       [ 0.41576826,  0.00589906,  1.        ],\n       [ 0.41732771,  0.00609219,  1.        ],\n       [ 0.42304983,  0.00667665,  1.        ],\n       [ 0.42445784,  0.00681424,  1.        ],\n       [ 0.42521563,  0.00687929,  1.        ],\n       [ 0.42606446,  0.00697112,  1.        ],\n       [ 0.429096  ,  0.00729106,  1.        ],\n       [ 0.42912796,  0.00729298,  1.        ],\n       [ 0.43291653,  0.00763799,  1.        ],\n       [ 0.44039072,  0.00840771,  1.        ],\n       [ 0.44390882,  0.00876914,  1.        ],\n       [ 0.4445232 ,  0.00881745,  1.        ],\n       [ 0.44496663,  0.00886843,  1.        ],\n       [ 0.44719876,  0.00909295,  1.        ],\n       [ 0.44846932,  0.00922497,  1.        ],\n       [ 0.47144963,  0.01172514,  1.        ],\n       [ 0.47257269,  0.01185798,  1.        ],\n       [ 0.48378591,  0.01296157,  1.        ],\n       [ 0.48982803,  0.01352964,  1.        ],\n       [ 0.4955973 ,  0.01405043,  1.        ],\n       [ 0.50051241,  0.01445636,  1.        ],\n       [ 0.52494477,  0.01571257,  1.        ],\n       [ 0.5280428 ,  0.01584846,  1.        ],\n       [ 0.53866452,  0.01620791,  1.        ],\n       [ 0.54421481,  0.01644006,  1.        ],\n       [ 0.54766395,  0.01658493,  1.        ],\n       [ 0.5689756 ,  0.01747663,  1.        ],\n       [ 0.57522279,  0.01788847,  1.        ],\n       [ 0.57608994,  0.01793927,  1.        ],\n       [ 0.57979195,  0.01825224,  1.        ],\n       [ 0.59021211,  0.01894072,  1.        ],\n       [ 0.5983172 ,  0.01929005,  1.        ],\n       [ 0.61531034,  0.01985014,  1.        ],\n       [ 0.61736694,  0.01993694,  1.        ],\n       [ 0.62709036,  0.02028957,  1.        ],\n       [ 0.63130923,  0.02043805,  1.        ],\n       [ 0.63714759,  0.02048832,  1.        ],\n       [ 0.65839506,  0.0202576 ,  1.        ],\n       [ 0.68494958,  0.01953876,  1.        ],\n       [ 0.69849439,  0.01912164,  1.        ],\n       [ 0.7015415 ,  0.01905849,  1.        ],\n       [ 0.71651813,  0.01866926,  1.        ],\n       [ 0.72348933,  0.01853047,  1.        ],\n       [ 0.72733942,  0.01847509,  1.        ],\n       [ 0.72758872,  0.01846594,  1.        ],\n       [ 0.73765881,  0.01831171,  1.        ],\n       [ 0.7424353 ,  0.01821329,  1.        ],\n       [ 0.75300147,  0.01788864,  1.        ],\n       [ 0.76244268,  0.01762936,  1.        ],\n       [ 0.7732494 ,  0.01760582,  1.        ],\n       [ 0.77569875,  0.01766042,  1.        ],\n       [ 0.7867497 ,  0.01787585,  1.        ],\n       [ 0.79220139,  0.01787565,  1.        ],\n       [ 0.796593  ,  0.01785459,  1.        ],\n       [ 0.8042938 ,  0.01765083,  1.        ],\n       [ 0.80444168,  0.01765048,  1.        ],\n       [ 0.80518098,  0.01761834,  1.        ],\n       [ 0.80754784,  0.01755576,  1.        ],\n       [ 0.83545168,  0.0164797 ,  1.        ],\n       [ 0.83648269,  0.01641787,  1.        ],\n       [ 0.83923178,  0.0162387 ,  1.        ],\n       [ 0.83959071,  0.01620444,  1.        ],\n       [ 0.84234669,  0.01597166,  1.        ],\n       [ 0.8449915 ,  0.01575385,  1.        ],\n       [ 0.86508623,  0.01384117,  1.        ],\n       [ 0.87786243,  0.0122868 ,  1.        ],\n       [ 0.88116725,  0.01187162,  1.        ],\n       [ 0.88133904,  0.01184368,  1.        ],\n       [ 0.8935174 ,  0.01071139,  1.        ],\n       [ 0.90091732,  0.01001285,  1.        ],\n       [ 0.90204954,  0.00990383,  1.        ],\n       [ 0.93999091,  0.00713846,  1.        ],\n       [ 0.94071433,  0.00710738,  1.        ],\n       [ 0.95453808,  0.0068019 ,  1.        ],\n       [ 0.95692519,  0.00682069,  1.        ],\n       [ 0.96083995,  0.00693374,  1.        ],\n       [ 0.97170964,  0.00733632,  1.        ],\n       [ 0.97946086,  0.00757517,  1.        ],\n       [ 0.99849124,  0.00798827,  1.        ],\n       [ 0.        , -0.04075701,  1.        ],\n       [ 1.        ,  0.00802052,  1.        ],\n       [ 0.        ,  0.        ,  0.        ],\n       [ 0.        ,  0.        ,  0.        ],\n       [ 0.        ,  0.        ,  0.        ],\n       [ 0.        ,  0.        ,  0.        ],\n       [ 0.        ,  0.        ,  0.        ],\n       [ 0.        ,  0.        ,  0.        ],\n       [ 0.        ,  0.        ,  0.        ],\n       [ 0.        ,  0.        ,  0.        ],\n       [ 0.        ,  0.        ,  0.        ],\n       [ 0.        ,  0.        ,  0.        ],\n       [ 0.        ,  0.        ,  0.        ],\n       [ 0.        ,  0.        ,  0.        ],\n       [ 0.        ,  0.        ,  0.        ],\n       [ 0.        ,  0.        ,  0.        ],\n       [ 0.        ,  0.        ,  0.        ],\n       [ 0.        ,  0.        ,  0.        ],\n       [ 0.        ,  0.        ,  0.        ],\n       [ 0.        ,  0.        ,  0.        ],\n       [ 0.        ,  0.        ,  0.        ],\n       [ 0.        ,  0.        ,  0.        ],\n       [ 0.        ,  0.        ,  0.        ],\n       [ 0.        ,  0.        ,  0.        ],\n       [ 0.        ,  0.        ,  0.        ],\n       [ 0.        ,  0.        ,  0.        ],\n       [ 0.        ,  0.        ,  0.        ],\n       [ 0.        ,  0.        ,  0.        ],\n       [ 0.        ,  0.        ,  0.        ],\n       [ 0.        ,  0.        ,  0.        ],\n       [ 0.        ,  0.        ,  0.        ],\n       [ 0.        ,  0.        ,  0.        ],\n       [ 0.        ,  0.        ,  0.        ],\n       [ 0.        ,  0.        ,  0.        ],\n       [ 0.        ,  0.        ,  0.        ],\n       [ 0.        ,  0.        ,  0.        ],\n       [ 0.        ,  0.        ,  0.        ]])"
     },
     "execution_count": 12,
     "metadata": {},
     "output_type": "execute_result"
    }
   ],
   "source": [
    "aug_series"
   ],
   "metadata": {
    "collapsed": false,
    "pycharm": {
     "name": "#%%\n"
    }
   }
  },
  {
   "cell_type": "code",
   "execution_count": 14,
   "outputs": [],
   "source": [
    "q,p,r = np.stack(aug_series,1)"
   ],
   "metadata": {
    "collapsed": false,
    "pycharm": {
     "name": "#%%\n"
    }
   }
  },
  {
   "cell_type": "code",
   "execution_count": 15,
   "outputs": [
    {
     "data": {
      "text/plain": "array([0.0011821 , 0.00217977, 0.01090522, 0.02868294, 0.03616669,\n       0.03993386, 0.04145361, 0.04459084, 0.05299595, 0.0601774 ,\n       0.07819629, 0.09200698, 0.10360725, 0.12021135, 0.12242662,\n       0.12558607, 0.12885911, 0.13448928, 0.14204598, 0.14436021,\n       0.14449482, 0.14798476, 0.15051169, 0.17003568, 0.18504682,\n       0.19852856, 0.20577808, 0.20866873, 0.21412047, 0.22568634,\n       0.22639742, 0.23745787, 0.2377459 , 0.24935624, 0.26064385,\n       0.26100244, 0.26776003, 0.2725413 , 0.27381604, 0.27491613,\n       0.28508016, 0.29082412, 0.31873159, 0.34634286, 0.38000977,\n       0.38087458, 0.39994828, 0.40186929, 0.40606711, 0.41576826,\n       0.41732771, 0.42304983, 0.42445784, 0.42521563, 0.42606446,\n       0.429096  , 0.42912796, 0.43291653, 0.44039072, 0.44390882,\n       0.4445232 , 0.44496663, 0.44719876, 0.44846932, 0.47144963,\n       0.47257269, 0.48378591, 0.48982803, 0.4955973 , 0.50051241,\n       0.52494477, 0.5280428 , 0.53866452, 0.54421481, 0.54766395,\n       0.5689756 , 0.57522279, 0.57608994, 0.57979195, 0.59021211,\n       0.5983172 , 0.61531034, 0.61736694, 0.62709036, 0.63130923,\n       0.63714759, 0.65839506, 0.68494958, 0.69849439, 0.7015415 ,\n       0.71651813, 0.72348933, 0.72733942, 0.72758872, 0.73765881,\n       0.7424353 , 0.75300147, 0.76244268, 0.7732494 , 0.77569875,\n       0.7867497 , 0.79220139, 0.796593  , 0.8042938 , 0.80444168,\n       0.80518098, 0.80754784, 0.83545168, 0.83648269, 0.83923178,\n       0.83959071, 0.84234669, 0.8449915 , 0.86508623, 0.87786243,\n       0.88116725, 0.88133904, 0.8935174 , 0.90091732, 0.90204954,\n       0.93999091, 0.94071433, 0.95453808, 0.95692519, 0.96083995,\n       0.97170964, 0.97946086, 0.99849124, 0.        , 1.        ,\n       0.        , 0.        , 0.        , 0.        , 0.        ,\n       0.        , 0.        , 0.        , 0.        , 0.        ,\n       0.        , 0.        , 0.        , 0.        , 0.        ,\n       0.        , 0.        , 0.        , 0.        , 0.        ,\n       0.        , 0.        , 0.        , 0.        , 0.        ,\n       0.        , 0.        , 0.        , 0.        , 0.        ,\n       0.        , 0.        , 0.        , 0.        , 0.        ])"
     },
     "execution_count": 15,
     "metadata": {},
     "output_type": "execute_result"
    }
   ],
   "source": [
    "q"
   ],
   "metadata": {
    "collapsed": false,
    "pycharm": {
     "name": "#%%\n"
    }
   }
  },
  {
   "cell_type": "code",
   "execution_count": 15,
   "outputs": [
    {
     "data": {
      "text/plain": "array([[ 0.00000000e+00, -6.83562961e-03,  1.00000000e+00],\n       [ 3.26380700e-03, -6.42700310e-03,  1.00000000e+00],\n       [ 6.47530122e-03, -6.02265606e-03,  1.00000000e+00],\n       [ 1.59373498e-02, -4.89849172e-03,  1.00000000e+00],\n       [ 1.77973210e-02, -4.69597046e-03,  1.00000000e+00],\n       [ 1.90888602e-02, -4.57738899e-03,  1.00000000e+00],\n       [ 2.31748186e-02, -4.15411536e-03,  1.00000000e+00],\n       [ 2.56616600e-02, -3.88978109e-03,  1.00000000e+00],\n       [ 3.81789632e-02, -2.70257264e-03,  1.00000000e+00],\n       [ 4.00383466e-02, -2.59064882e-03,  1.00000000e+00],\n       [ 4.48187408e-02, -2.33509710e-03,  1.00000000e+00],\n       [ 6.43901469e-02, -1.03417285e-03,  1.00000000e+00],\n       [ 7.12745007e-02, -5.71957337e-04,  1.00000000e+00],\n       [ 8.51072713e-02,  7.52961068e-05,  1.00000000e+00],\n       [ 1.04401187e-01,  8.14727832e-04,  1.00000000e+00],\n       [ 1.13917341e-01,  9.95082274e-04,  1.00000000e+00],\n       [ 1.22154035e-01,  1.14863894e-03,  1.00000000e+00],\n       [ 1.45722144e-01,  1.38020819e-03,  1.00000000e+00],\n       [ 1.81236731e-01,  1.08143287e-03,  1.00000000e+00],\n       [ 1.85354229e-01,  1.06516310e-03,  1.00000000e+00],\n       [ 1.85857697e-01,  1.06840766e-03,  1.00000000e+00],\n       [ 1.88230528e-01,  1.01815025e-03,  1.00000000e+00],\n       [ 1.89362672e-01,  1.01395338e-03,  1.00000000e+00],\n       [ 1.93064060e-01,  9.69910152e-04,  1.00000000e+00],\n       [ 1.94028068e-01,  9.44359089e-04,  1.00000000e+00],\n       [ 2.00374908e-01,  8.67117322e-04,  1.00000000e+00],\n       [ 2.03680218e-01,  8.44398037e-04,  1.00000000e+00],\n       [ 2.19142387e-01,  7.65770827e-04,  1.00000000e+00],\n       [ 2.42674054e-01,  6.15248237e-04,  1.00000000e+00],\n       [ 2.48096034e-01,  5.63746188e-04,  1.00000000e+00],\n       [ 2.50296995e-01,  5.27413641e-04,  1.00000000e+00],\n       [ 2.56441194e-01,  5.14332177e-04,  1.00000000e+00],\n       [ 2.71994003e-01,  5.99285614e-04,  1.00000000e+00],\n       [ 2.75570108e-01,  6.43698533e-04,  1.00000000e+00],\n       [ 2.81071045e-01,  5.58143969e-04,  1.00000000e+00],\n       [ 2.83242123e-01,  4.98437625e-04,  1.00000000e+00],\n       [ 2.87405032e-01,  3.45584576e-04,  1.00000000e+00],\n       [ 2.90923427e-01,  1.95450193e-04,  1.00000000e+00],\n       [ 2.92879378e-01,  1.15737852e-04,  1.00000000e+00],\n       [ 2.97707798e-01, -1.08926797e-04,  1.00000000e+00],\n       [ 3.00253112e-01, -2.35415614e-04,  1.00000000e+00],\n       [ 3.03450813e-01, -3.68105940e-04,  1.00000000e+00],\n       [ 3.08549294e-01, -5.16039463e-04,  1.00000000e+00],\n       [ 3.18060782e-01, -7.12664019e-04,  1.00000000e+00],\n       [ 3.20839730e-01, -7.59774034e-04,  1.00000000e+00],\n       [ 3.38504888e-01, -1.31400660e-03,  1.00000000e+00],\n       [ 3.52085796e-01, -1.68187508e-03,  1.00000000e+00],\n       [ 3.52427684e-01, -1.68338141e-03,  1.00000000e+00],\n       [ 3.54431455e-01, -1.76158011e-03,  1.00000000e+00],\n       [ 3.58478272e-01, -1.88603907e-03,  1.00000000e+00],\n       [ 3.59235230e-01, -1.90321317e-03,  1.00000000e+00],\n       [ 3.62169758e-01, -1.94156584e-03,  1.00000000e+00],\n       [ 3.71398859e-01, -2.05308868e-03,  1.00000000e+00],\n       [ 3.79214224e-01, -2.15336288e-03,  1.00000000e+00],\n       [ 3.85884626e-01, -2.20999827e-03,  1.00000000e+00],\n       [ 3.94375709e-01, -2.27105447e-03,  1.00000000e+00],\n       [ 3.95946374e-01, -2.28839903e-03,  1.00000000e+00],\n       [ 3.98810016e-01, -2.27321218e-03,  1.00000000e+00],\n       [ 4.06534402e-01, -2.27581589e-03,  1.00000000e+00],\n       [ 4.21013216e-01, -1.85350232e-03,  1.00000000e+00],\n       [ 4.26386892e-01, -1.57757328e-03,  1.00000000e+00],\n       [ 4.28662650e-01, -1.48163615e-03,  1.00000000e+00],\n       [ 4.28872936e-01, -1.46121534e-03,  1.00000000e+00],\n       [ 4.37359487e-01, -9.21031848e-04,  1.00000000e+00],\n       [ 4.37413702e-01, -9.23179530e-04,  1.00000000e+00],\n       [ 4.40607517e-01, -6.45350273e-04,  1.00000000e+00],\n       [ 4.45786738e-01, -2.44142470e-04,  1.00000000e+00],\n       [ 4.63269454e-01,  9.70592032e-04,  1.00000000e+00],\n       [ 4.63911614e-01,  1.02274930e-03,  1.00000000e+00],\n       [ 4.67478592e-01,  1.30048380e-03,  1.00000000e+00],\n       [ 4.67647179e-01,  1.32571999e-03,  1.00000000e+00],\n       [ 4.70520325e-01,  1.54541690e-03,  1.00000000e+00],\n       [ 4.77187945e-01,  2.05717911e-03,  1.00000000e+00],\n       [ 4.79429112e-01,  2.23561623e-03,  1.00000000e+00],\n       [ 4.81041481e-01,  2.38989424e-03,  1.00000000e+00],\n       [ 4.81883691e-01,  2.47308046e-03,  1.00000000e+00],\n       [ 4.87778997e-01,  2.97130223e-03,  1.00000000e+00],\n       [ 4.95918238e-01,  3.81860548e-03,  1.00000000e+00],\n       [ 5.03552560e-01,  4.70618487e-03,  1.00000000e+00],\n       [ 5.23917000e-01,  7.69034406e-03,  1.00000000e+00],\n       [ 5.23935540e-01,  7.69153170e-03,  1.00000000e+00],\n       [ 5.31071461e-01,  8.87350125e-03,  1.00000000e+00],\n       [ 5.37354145e-01,  9.92061434e-03,  1.00000000e+00],\n       [ 5.43439958e-01,  1.09334665e-02,  1.00000000e+00],\n       [ 5.65978649e-01,  1.47171694e-02,  1.00000000e+00],\n       [ 5.66095195e-01,  1.47262249e-02,  1.00000000e+00],\n       [ 5.74261741e-01,  1.60032863e-02,  1.00000000e+00],\n       [ 5.85770525e-01,  1.75688550e-02,  1.00000000e+00],\n       [ 5.90653788e-01,  1.81648485e-02,  1.00000000e+00],\n       [ 5.93437438e-01,  1.85051330e-02,  1.00000000e+00],\n       [ 6.04154264e-01,  1.96924367e-02,  1.00000000e+00],\n       [ 6.04854961e-01,  1.97698019e-02,  1.00000000e+00],\n       [ 6.08851264e-01,  2.01963039e-02,  1.00000000e+00],\n       [ 6.13877770e-01,  2.07755773e-02,  1.00000000e+00],\n       [ 6.21987549e-01,  2.17189562e-02,  1.00000000e+00],\n       [ 6.22640183e-01,  2.17910454e-02,  1.00000000e+00],\n       [ 6.24410452e-01,  2.19705204e-02,  1.00000000e+00],\n       [ 6.28027876e-01,  2.23482444e-02,  1.00000000e+00],\n       [ 6.34714808e-01,  2.30012821e-02,  1.00000000e+00],\n       [ 6.49646455e-01,  2.45260346e-02,  1.00000000e+00],\n       [ 6.56252617e-01,  2.52146543e-02,  1.00000000e+00],\n       [ 6.57233773e-01,  2.53253691e-02,  1.00000000e+00],\n       [ 6.84230065e-01,  2.70707641e-02,  1.00000000e+00],\n       [ 6.98298918e-01,  2.74210726e-02,  1.00000000e+00],\n       [ 7.03083874e-01,  2.75372001e-02,  1.00000000e+00],\n       [ 7.20587420e-01,  2.82701275e-02,  1.00000000e+00],\n       [ 7.25926701e-01,  2.85614297e-02,  1.00000000e+00],\n       [ 7.43515281e-01,  2.93467325e-02,  1.00000000e+00],\n       [ 7.55647838e-01,  2.97958482e-02,  1.00000000e+00],\n       [ 7.79284892e-01,  3.10490745e-02,  1.00000000e+00],\n       [ 7.96565834e-01,  3.24373674e-02,  1.00000000e+00],\n       [ 7.96817197e-01,  3.24613761e-02,  1.00000000e+00],\n       [ 7.98132920e-01,  3.25830162e-02,  1.00000000e+00],\n       [ 8.01508802e-01,  3.28659073e-02,  1.00000000e+00],\n       [ 8.22327512e-01,  3.47254374e-02,  1.00000000e+00],\n       [ 8.24770774e-01,  3.48714319e-02,  1.00000000e+00],\n       [ 8.25968789e-01,  3.49676312e-02,  1.00000000e+00],\n       [ 8.40860796e-01,  3.59511830e-02,  1.00000000e+00],\n       [ 8.44910815e-01,  3.62167276e-02,  1.00000000e+00],\n       [ 8.61243797e-01,  3.71796918e-02,  1.00000000e+00],\n       [ 8.62439877e-01,  3.72554706e-02,  1.00000000e+00],\n       [ 8.69851534e-01,  3.75625648e-02,  1.00000000e+00],\n       [ 8.73826120e-01,  3.77149892e-02,  1.00000000e+00],\n       [ 8.74371121e-01,  3.77458472e-02,  1.00000000e+00],\n       [ 8.82537233e-01,  3.81029262e-02,  1.00000000e+00],\n       [ 8.84483943e-01,  3.82119002e-02,  1.00000000e+00],\n       [ 8.84760803e-01,  3.82399796e-02,  1.00000000e+00],\n       [ 8.85184202e-01,  3.82664847e-02,  1.00000000e+00],\n       [ 8.85615869e-01,  3.82762856e-02,  1.00000000e+00],\n       [ 9.01938254e-01,  3.88044780e-02,  1.00000000e+00],\n       [ 9.11161729e-01,  3.90227415e-02,  1.00000000e+00],\n       [ 9.26801414e-01,  3.93733185e-02,  1.00000000e+00],\n       [ 9.34448801e-01,  3.94495915e-02,  1.00000000e+00],\n       [ 9.39604758e-01,  3.93533563e-02,  1.00000000e+00],\n       [ 9.42091382e-01,  3.92350261e-02,  1.00000000e+00],\n       [ 9.84529120e-01,  3.68657118e-02,  1.00000000e+00],\n       [ 9.87609348e-01,  3.67005494e-02,  1.00000000e+00],\n       [ 9.91966221e-01,  3.63670742e-02,  1.00000000e+00],\n       [ 9.95221081e-01,  3.60591890e-02,  1.00000000e+00],\n       [ 0.00000000e+00, -6.83562961e-03,  1.00000000e+00],\n       [ 1.00000000e+00,  3.56341477e-02,  1.00000000e+00],\n       [ 0.00000000e+00,  0.00000000e+00,  0.00000000e+00],\n       [ 0.00000000e+00,  0.00000000e+00,  0.00000000e+00],\n       [ 0.00000000e+00,  0.00000000e+00,  0.00000000e+00],\n       [ 0.00000000e+00,  0.00000000e+00,  0.00000000e+00],\n       [ 0.00000000e+00,  0.00000000e+00,  0.00000000e+00],\n       [ 0.00000000e+00,  0.00000000e+00,  0.00000000e+00],\n       [ 0.00000000e+00,  0.00000000e+00,  0.00000000e+00],\n       [ 0.00000000e+00,  0.00000000e+00,  0.00000000e+00],\n       [ 0.00000000e+00,  0.00000000e+00,  0.00000000e+00],\n       [ 0.00000000e+00,  0.00000000e+00,  0.00000000e+00],\n       [ 0.00000000e+00,  0.00000000e+00,  0.00000000e+00],\n       [ 0.00000000e+00,  0.00000000e+00,  0.00000000e+00],\n       [ 0.00000000e+00,  0.00000000e+00,  0.00000000e+00],\n       [ 0.00000000e+00,  0.00000000e+00,  0.00000000e+00],\n       [ 0.00000000e+00,  0.00000000e+00,  0.00000000e+00],\n       [ 0.00000000e+00,  0.00000000e+00,  0.00000000e+00],\n       [ 0.00000000e+00,  0.00000000e+00,  0.00000000e+00],\n       [ 0.00000000e+00,  0.00000000e+00,  0.00000000e+00],\n       [ 0.00000000e+00,  0.00000000e+00,  0.00000000e+00],\n       [ 0.00000000e+00,  0.00000000e+00,  0.00000000e+00],\n       [ 0.00000000e+00,  0.00000000e+00,  0.00000000e+00],\n       [ 0.00000000e+00,  0.00000000e+00,  0.00000000e+00],\n       [ 0.00000000e+00,  0.00000000e+00,  0.00000000e+00],\n       [ 0.00000000e+00,  0.00000000e+00,  0.00000000e+00]])"
     },
     "execution_count": 15,
     "metadata": {},
     "output_type": "execute_result"
    }
   ],
   "source": [
    "aug_series"
   ],
   "metadata": {
    "collapsed": false,
    "pycharm": {
     "name": "#%%\n"
    }
   }
  },
  {
   "cell_type": "code",
   "execution_count": 8,
   "outputs": [],
   "source": [],
   "metadata": {
    "collapsed": false,
    "pycharm": {
     "name": "#%%\n"
    }
   }
  },
  {
   "cell_type": "code",
   "execution_count": 11,
   "outputs": [
    {
     "data": {
      "text/plain": "(-0.1, -0.04)"
     },
     "execution_count": 11,
     "metadata": {},
     "output_type": "execute_result"
    },
    {
     "data": {
      "text/plain": "<Figure size 1440x504 with 1 Axes>",
      "image/png": "[encoded data removed]"
     },
     "metadata": {
      "needs_background": "dark"
     },
     "output_type": "display_data"
    }
   ],
   "source": [],
   "metadata": {
    "collapsed": false,
    "pycharm": {
     "name": "#%%\n"
    }
   }
  },
  {
   "cell_type": "code",
   "execution_count": 10,
   "outputs": [],
   "source": [],
   "metadata": {
    "collapsed": false,
    "pycharm": {
     "name": "#%%\n"
    }
   }
  },
  {
   "cell_type": "code",
   "execution_count": 11,
   "outputs": [
    {
     "data": {
      "text/plain": "array([0.99294751, 0.        , 1.        , 0.        , 0.        ,\n       0.        , 0.        , 0.        , 0.        , 0.        ,\n       0.        , 0.        , 0.        , 0.        , 0.        ,\n       0.        , 0.        , 0.        , 0.        , 0.        ,\n       0.        ])"
     },
     "execution_count": 11,
     "metadata": {},
     "output_type": "execute_result"
    }
   ],
   "source": [
    "aug_series[padding_masks[year_index].sum()-1:,0]"
   ],
   "metadata": {
    "collapsed": false,
    "pycharm": {
     "name": "#%%\n"
    }
   }
  },
  {
   "cell_type": "code",
   "execution_count": 12,
   "outputs": [
    {
     "data": {
      "text/plain": "array([-0.07576714, -0.06833557, -0.04906367,  0.        ,  0.        ,\n        0.        ,  0.        ,  0.        ,  0.        ,  0.        ,\n        0.        ,  0.        ,  0.        ,  0.        ,  0.        ,\n        0.        ,  0.        ,  0.        ,  0.        ,  0.        ,\n        0.        ])"
     },
     "execution_count": 12,
     "metadata": {},
     "output_type": "execute_result"
    }
   ],
   "source": [
    "aug_series[padding_masks[year_index].sum()-1:,1]"
   ],
   "metadata": {
    "collapsed": false,
    "pycharm": {
     "name": "#%%\n"
    }
   }
  },
  {
   "cell_type": "code",
   "execution_count": 16,
   "outputs": [
    {
     "data": {
      "text/plain": "array([-0.06835313, -0.06987535, -0.07010474])"
     },
     "execution_count": 16,
     "metadata": {},
     "output_type": "execute_result"
    }
   ],
   "source": [
    "aug_series[:3,1]"
   ],
   "metadata": {
    "collapsed": false,
    "pycharm": {
     "name": "#%%\n"
    }
   }
  },
  {
   "cell_type": "code",
   "execution_count": 13,
   "outputs": [
    {
     "data": {
      "text/plain": "array([0.99294751, 0.        , 1.        , 0.        , 0.        ,\n       0.        , 0.        , 0.        , 0.        , 0.        ,\n       0.        , 0.        , 0.        , 0.        , 0.        ,\n       0.        , 0.        , 0.        , 0.        , 0.        ,\n       0.        ])"
     },
     "execution_count": 13,
     "metadata": {},
     "output_type": "execute_result"
    }
   ],
   "source": [
    "aug_series[padding_masks[year_index].sum()-1:,0]"
   ],
   "metadata": {
    "collapsed": false,
    "pycharm": {
     "name": "#%%\n"
    }
   }
  },
  {
   "cell_type": "code",
   "execution_count": 14,
   "outputs": [
    {
     "data": {
      "text/plain": "array([False,  True,  True, False, False, False, False, False, False,\n       False, False, False, False, False, False, False, False, False,\n       False, False, False])"
     },
     "execution_count": 14,
     "metadata": {},
     "output_type": "execute_result"
    }
   ],
   "source": [
    "aug_mask[padding_masks[year_index].sum()-1:]"
   ],
   "metadata": {
    "collapsed": false,
    "pycharm": {
     "name": "#%%\n"
    }
   }
  },
  {
   "cell_type": "code",
   "execution_count": 11,
   "outputs": [
    {
     "data": {
      "text/plain": "<matplotlib.collections.PathCollection at 0x1405f2df0>"
     },
     "execution_count": 11,
     "metadata": {},
     "output_type": "execute_result"
    },
    {
     "data": {
      "text/plain": "<Figure size 432x288 with 1 Axes>",
      "image/png": "[encoded data removed]"
     },
     "metadata": {
      "needs_background": "dark"
     },
     "output_type": "display_data"
    }
   ],
   "source": [
    "plt.scatter(time_arrays[year_index,padding_masks[year_index]],light_curves[year_index,padding_masks[year_index]])\n",
    "plt.scatter(aug_series[:,0],aug_series[:,1])\n"
   ],
   "metadata": {
    "collapsed": false,
    "pycharm": {
     "name": "#%%\n"
    }
   }
  },
  {
   "cell_type": "code",
   "execution_count": 12,
   "outputs": [
    {
     "data": {
      "text/plain": "0.033690288337698375"
     },
     "execution_count": 12,
     "metadata": {},
     "output_type": "execute_result"
    }
   ],
   "source": [
    "value_next"
   ],
   "metadata": {
    "collapsed": false,
    "pycharm": {
     "name": "#%%\n"
    }
   }
  },
  {
   "cell_type": "code",
   "execution_count": null,
   "outputs": [],
   "source": [],
   "metadata": {
    "collapsed": false,
    "pycharm": {
     "name": "#%%\n"
    }
   }
  },
  {
   "cell_type": "code",
   "execution_count": null,
   "outputs": [],
   "source": [],
   "metadata": {
    "collapsed": false,
    "pycharm": {
     "name": "#%%\n"
    }
   }
  },
  {
   "cell_type": "code",
   "execution_count": 26,
   "outputs": [
    {
     "data": {
      "text/plain": "-0.005285736107634831"
     },
     "execution_count": 26,
     "metadata": {},
     "output_type": "execute_result"
    }
   ],
   "source": [
    "time_prev"
   ],
   "metadata": {
    "collapsed": false,
    "pycharm": {
     "name": "#%%\n"
    }
   }
  },
  {
   "cell_type": "code",
   "execution_count": null,
   "outputs": [],
   "source": [
    "val"
   ],
   "metadata": {
    "collapsed": false,
    "pycharm": {
     "name": "#%%\n"
    }
   }
  },
  {
   "cell_type": "code",
   "execution_count": null,
   "outputs": [],
   "source": [],
   "metadata": {
    "collapsed": false,
    "pycharm": {
     "name": "#%%\n"
    }
   }
  },
  {
   "cell_type": "code",
   "execution_count": 24,
   "outputs": [
    {
     "data": {
      "text/plain": "array([[ True,  True,  True,  True,  True,  True,  True,  True,  True,\n         True,  True,  True,  True,  True,  True,  True,  True,  True,\n         True,  True,  True,  True,  True,  True,  True,  True,  True,\n         True,  True,  True,  True,  True,  True,  True,  True,  True,\n         True,  True,  True,  True,  True,  True,  True,  True,  True,\n         True,  True,  True,  True,  True,  True,  True,  True,  True,\n         True,  True,  True,  True,  True,  True,  True,  True,  True,\n         True,  True,  True,  True,  True,  True,  True,  True,  True,\n         True,  True,  True,  True,  True,  True,  True,  True,  True,\n         True,  True,  True,  True,  True,  True,  True,  True,  True,\n         True,  True,  True,  True,  True,  True,  True,  True,  True,\n         True,  True,  True,  True,  True,  True,  True,  True,  True,\n         True,  True,  True,  True,  True,  True,  True,  True,  True,\n         True,  True,  True,  True,  True,  True,  True,  True,  True,\n         True,  True,  True,  True,  True,  True,  True,  True,  True,\n         True,  True,  True,  True, False, False, False, False, False,\n        False, False, False, False, False, False, False, False, False,\n        False, False, False, False, False, False, False, False, False,\n        False, False, False],\n       [ True,  True,  True,  True,  True,  True,  True,  True,  True,\n         True,  True,  True,  True,  True,  True,  True,  True,  True,\n         True,  True,  True,  True,  True,  True,  True,  True,  True,\n         True,  True,  True,  True,  True,  True,  True,  True,  True,\n         True,  True,  True,  True,  True,  True,  True,  True,  True,\n         True,  True,  True,  True,  True,  True,  True,  True,  True,\n         True,  True,  True,  True,  True,  True,  True,  True,  True,\n         True,  True,  True,  True,  True,  True,  True,  True,  True,\n         True,  True,  True,  True,  True,  True,  True,  True,  True,\n         True,  True,  True,  True,  True,  True,  True,  True,  True,\n         True,  True,  True,  True,  True,  True,  True,  True,  True,\n         True,  True,  True,  True,  True,  True,  True,  True,  True,\n         True,  True,  True,  True,  True,  True,  True,  True,  True,\n         True,  True,  True,  True,  True,  True,  True,  True,  True,\n         True,  True,  True,  True,  True,  True,  True,  True,  True,\n         True,  True,  True,  True,  True,  True,  True,  True,  True,\n         True,  True,  True,  True,  True,  True,  True,  True, False,\n        False, False, False, False, False, False, False, False, False,\n        False, False, False],\n       [ True,  True,  True,  True,  True,  True,  True,  True,  True,\n         True,  True,  True,  True,  True,  True,  True,  True,  True,\n         True,  True,  True,  True,  True,  True,  True,  True,  True,\n         True,  True,  True,  True,  True,  True,  True,  True,  True,\n         True,  True,  True,  True,  True,  True,  True,  True,  True,\n         True,  True,  True,  True,  True,  True,  True,  True,  True,\n         True,  True,  True,  True,  True,  True,  True,  True,  True,\n         True,  True,  True,  True,  True,  True,  True,  True,  True,\n         True,  True,  True,  True,  True,  True,  True,  True,  True,\n         True,  True,  True,  True,  True,  True,  True,  True,  True,\n         True,  True,  True,  True,  True,  True,  True,  True,  True,\n         True,  True,  True,  True,  True,  True,  True,  True,  True,\n         True,  True,  True,  True,  True,  True,  True,  True,  True,\n         True,  True,  True,  True,  True,  True,  True,  True,  True,\n         True,  True,  True,  True,  True,  True,  True,  True,  True,\n         True,  True,  True,  True,  True,  True,  True,  True,  True,\n         True, False, False, False, False, False, False, False, False,\n        False, False, False, False, False, False, False, False, False,\n        False, False, False],\n       [ True,  True,  True,  True,  True,  True,  True,  True,  True,\n         True,  True,  True,  True,  True,  True,  True,  True,  True,\n         True,  True,  True,  True,  True,  True,  True,  True,  True,\n         True,  True,  True,  True,  True,  True,  True,  True,  True,\n         True,  True,  True,  True,  True,  True,  True,  True,  True,\n         True,  True,  True,  True,  True,  True,  True,  True,  True,\n         True,  True,  True,  True,  True,  True,  True,  True,  True,\n         True,  True,  True,  True,  True,  True,  True,  True,  True,\n         True,  True,  True,  True,  True,  True,  True,  True,  True,\n         True,  True,  True,  True,  True,  True,  True,  True,  True,\n         True,  True,  True,  True,  True,  True,  True,  True,  True,\n         True,  True,  True,  True,  True,  True,  True,  True,  True,\n         True,  True,  True,  True,  True,  True,  True,  True,  True,\n         True,  True,  True,  True,  True,  True,  True,  True,  True,\n         True,  True,  True,  True,  True,  True,  True,  True,  True,\n         True,  True,  True,  True,  True,  True,  True,  True,  True,\n         True,  True, False, False, False, False, False, False, False,\n        False, False, False, False, False, False, False, False, False,\n        False, False, False],\n       [ True,  True,  True,  True,  True,  True,  True,  True,  True,\n         True,  True,  True,  True,  True,  True,  True,  True,  True,\n         True,  True,  True,  True,  True,  True,  True,  True,  True,\n         True,  True,  True,  True,  True,  True,  True,  True,  True,\n         True,  True,  True,  True,  True,  True,  True,  True,  True,\n         True,  True,  True,  True,  True,  True,  True,  True,  True,\n         True,  True,  True,  True,  True,  True,  True,  True,  True,\n         True,  True,  True,  True,  True,  True,  True,  True,  True,\n         True,  True,  True,  True,  True,  True,  True,  True,  True,\n         True,  True,  True,  True,  True,  True,  True,  True,  True,\n         True,  True,  True,  True,  True,  True,  True,  True,  True,\n         True,  True,  True,  True,  True,  True,  True,  True,  True,\n         True,  True,  True,  True,  True,  True,  True,  True,  True,\n         True,  True,  True,  True,  True,  True,  True,  True,  True,\n         True,  True,  True,  True,  True,  True,  True,  True,  True,\n         True, False, False, False, False, False, False, False, False,\n        False, False, False, False, False, False, False, False, False,\n        False, False, False, False, False, False, False, False, False,\n        False, False, False],\n       [ True,  True,  True,  True,  True,  True,  True,  True,  True,\n         True,  True,  True,  True,  True,  True,  True,  True,  True,\n         True,  True,  True,  True,  True,  True,  True,  True,  True,\n         True,  True,  True,  True,  True,  True,  True,  True,  True,\n         True,  True,  True,  True,  True,  True,  True,  True,  True,\n         True,  True,  True,  True,  True,  True,  True,  True,  True,\n         True,  True,  True,  True,  True,  True,  True,  True,  True,\n         True,  True,  True,  True,  True,  True,  True,  True,  True,\n         True,  True,  True,  True,  True,  True,  True,  True,  True,\n         True,  True,  True,  True,  True,  True,  True,  True,  True,\n         True,  True,  True,  True,  True,  True,  True,  True,  True,\n         True,  True,  True,  True,  True,  True,  True,  True,  True,\n         True,  True,  True,  True,  True,  True,  True,  True,  True,\n         True,  True,  True,  True,  True,  True,  True,  True,  True,\n         True,  True, False, False, False, False, False, False, False,\n        False, False, False, False, False, False, False, False, False,\n        False, False, False, False, False, False, False, False, False,\n        False, False, False, False, False, False, False, False, False,\n        False, False, False]])"
     },
     "execution_count": 24,
     "metadata": {},
     "output_type": "execute_result"
    }
   ],
   "source": [
    "padding_masks"
   ],
   "metadata": {
    "collapsed": false,
    "pycharm": {
     "name": "#%%\n"
    }
   }
  },
  {
   "cell_type": "code",
   "execution_count": null,
   "outputs": [],
   "source": [],
   "metadata": {
    "collapsed": false,
    "pycharm": {
     "name": "#%%\n"
    }
   }
  },
  {
   "cell_type": "code",
   "execution_count": 10,
   "outputs": [
    {
     "data": {
      "text/plain": "845"
     },
     "execution_count": 10,
     "metadata": {},
     "output_type": "execute_result"
    }
   ],
   "source": [],
   "metadata": {
    "collapsed": false,
    "pycharm": {
     "name": "#%%\n"
    }
   }
  },
  {
   "cell_type": "code",
   "execution_count": 12,
   "outputs": [
    {
     "data": {
      "text/plain": "array([-0.04067835, -0.04058506, -0.03973096, -0.03839936, -0.03794086,\n       -0.03768459, -0.03757042, -0.03735313, -0.03672259, -0.0361264 ,\n       -0.03413233, -0.03252548, -0.03154632, -0.03006522, -0.02982969,\n       -0.02953573, -0.02918353, -0.0285364 , -0.02770075, -0.02744974,\n       -0.02743574, -0.02703913, -0.02678637, -0.02550263, -0.02418526,\n       -0.02273637, -0.02190112, -0.02153303, -0.02083332, -0.01944033,\n       -0.01934066, -0.01791443, -0.01790377, -0.01623377, -0.01434458,\n       -0.01426312, -0.01311587, -0.01238117, -0.01219083, -0.01202613,\n       -0.01040922, -0.0096212 , -0.00638342, -0.00254459,  0.00150522,\n        0.00158827,  0.00399794,  0.0042681 ,  0.00479416,  0.00589906,\n        0.00609219,  0.00667665,  0.00681424,  0.00687929,  0.00697112,\n        0.00729106,  0.00729298,  0.00763799,  0.00840771,  0.00876914,\n        0.00881745,  0.00886843,  0.00909295,  0.00922497,  0.01172514,\n        0.01185798,  0.01296157,  0.01352964,  0.01405043,  0.01445636,\n        0.01571257,  0.01584846,  0.01620791,  0.01644006,  0.01658493,\n        0.01747663,  0.01788847,  0.01793927,  0.01825224,  0.01894072,\n        0.01929005,  0.01985014,  0.01993694,  0.02028957,  0.02043805,\n        0.02048832,  0.0202576 ,  0.01953876,  0.01912164,  0.01905849,\n        0.01866926,  0.01853047,  0.01847509,  0.01846594,  0.01831171,\n        0.01821329,  0.01788864,  0.01762936,  0.01760582,  0.01766042,\n        0.01787585,  0.01787565,  0.01785459,  0.01765083,  0.01765048,\n        0.01761834,  0.01755576,  0.0164797 ,  0.01641787,  0.0162387 ,\n        0.01620444,  0.01597166,  0.01575385,  0.01384117,  0.0122868 ,\n        0.01187162,  0.01184368,  0.01071139,  0.01001285,  0.00990383,\n        0.00713846,  0.00710738,  0.0068019 ,  0.00682069,  0.00693374,\n        0.00733632,  0.00757517,  0.00798827,  0.        ,  0.        ,\n        0.        ,  0.        ,  0.        ,  0.        ,  0.        ,\n        0.        ,  0.        ,  0.        ,  0.        ,  0.        ,\n        0.        ,  0.        ,  0.        ,  0.        ,  0.        ,\n        0.        ,  0.        ,  0.        ,  0.        ,  0.        ,\n        0.        ,  0.        ,  0.        ,  0.        ,  0.        ,\n        0.        ,  0.        ,  0.        ,  0.        ,  0.        ,\n        0.        ,  0.        ,  0.        ,  0.        ,  0.        ])"
     },
     "execution_count": 12,
     "metadata": {},
     "output_type": "execute_result"
    }
   ],
   "source": [
    "light_curves[-1]"
   ],
   "metadata": {
    "collapsed": false,
    "pycharm": {
     "name": "#%%\n"
    }
   }
  },
  {
   "cell_type": "code",
   "execution_count": 13,
   "outputs": [],
   "source": [
    "following_index = 1 + dataset.year_dataset.year_mask_indices[time_index,-1,-1]"
   ],
   "metadata": {
    "collapsed": false,
    "pycharm": {
     "name": "#%%\n"
    }
   }
  },
  {
   "cell_type": "code",
   "execution_count": 14,
   "outputs": [
    {
     "data": {
      "text/plain": "846"
     },
     "execution_count": 14,
     "metadata": {},
     "output_type": "execute_result"
    }
   ],
   "source": [
    "following_index"
   ],
   "metadata": {
    "collapsed": false,
    "pycharm": {
     "name": "#%%\n"
    }
   }
  },
  {
   "cell_type": "code",
   "execution_count": 16,
   "outputs": [
    {
     "data": {
      "text/plain": "0.008130376962268263"
     },
     "execution_count": 16,
     "metadata": {},
     "output_type": "execute_result"
    }
   ],
   "source": [
    "dataset.year_dataset.get_light_curve(labels_index,time_index,random_seed_index)[following_index]"
   ],
   "metadata": {
    "collapsed": false,
    "pycharm": {
     "name": "#%%\n"
    }
   }
  },
  {
   "cell_type": "code",
   "execution_count": null,
   "outputs": [],
   "source": [
    "dataset.year_dataset.get_light_curve(labels_index,time_index,random_seed_index)[following_index]"
   ],
   "metadata": {
    "collapsed": false,
    "pycharm": {
     "name": "#%%\n"
    }
   }
  },
  {
   "cell_type": "code",
   "execution_count": 22,
   "outputs": [
    {
     "data": {
      "text/plain": "1.005139114586103"
     },
     "execution_count": 22,
     "metadata": {},
     "output_type": "execute_result"
    }
   ],
   "source": [],
   "metadata": {
    "collapsed": false,
    "pycharm": {
     "name": "#%%\n"
    }
   }
  },
  {
   "cell_type": "code",
   "execution_count": 19,
   "outputs": [
    {
     "data": {
      "text/plain": "array([0.0011821 , 0.00217977, 0.01090522, 0.02868294, 0.03616669,\n       0.03993386, 0.04145361, 0.04459084, 0.05299595, 0.0601774 ,\n       0.07819629, 0.09200698, 0.10360725, 0.12021135, 0.12242662,\n       0.12558607, 0.12885911, 0.13448928, 0.14204598, 0.14436021,\n       0.14449482, 0.14798476, 0.15051169, 0.17003568, 0.18504682,\n       0.19852856, 0.20577808, 0.20866873, 0.21412047, 0.22568634,\n       0.22639742, 0.23745787, 0.2377459 , 0.24935624, 0.26064385,\n       0.26100244, 0.26776003, 0.2725413 , 0.27381604, 0.27491613,\n       0.28508016, 0.29082412, 0.31873159, 0.34634286, 0.38000977,\n       0.38087458, 0.39994828, 0.40186929, 0.40606711, 0.41576826,\n       0.41732771, 0.42304983, 0.42445784, 0.42521563, 0.42606446,\n       0.429096  , 0.42912796, 0.43291653, 0.44039072, 0.44390882,\n       0.4445232 , 0.44496663, 0.44719876, 0.44846932, 0.47144963,\n       0.47257269, 0.48378591, 0.48982803, 0.4955973 , 0.50051241,\n       0.52494477, 0.5280428 , 0.53866452, 0.54421481, 0.54766395,\n       0.5689756 , 0.57522279, 0.57608994, 0.57979195, 0.59021211,\n       0.5983172 , 0.61531034, 0.61736694, 0.62709036, 0.63130923,\n       0.63714759, 0.65839506, 0.68494958, 0.69849439, 0.7015415 ,\n       0.71651813, 0.72348933, 0.72733942, 0.72758872, 0.73765881,\n       0.7424353 , 0.75300147, 0.76244268, 0.7732494 , 0.77569875,\n       0.7867497 , 0.79220139, 0.796593  , 0.8042938 , 0.80444168,\n       0.80518098, 0.80754784, 0.83545168, 0.83648269, 0.83923178,\n       0.83959071, 0.84234669, 0.8449915 , 0.86508623, 0.87786243,\n       0.88116725, 0.88133904, 0.8935174 , 0.90091732, 0.90204954,\n       0.93999091, 0.94071433, 0.95453808, 0.95692519, 0.96083995,\n       0.97170964, 0.97946086, 0.99849124, 0.        , 0.        ,\n       0.        , 0.        , 0.        , 0.        , 0.        ,\n       0.        , 0.        , 0.        , 0.        , 0.        ,\n       0.        , 0.        , 0.        , 0.        , 0.        ,\n       0.        , 0.        , 0.        , 0.        , 0.        ,\n       0.        , 0.        , 0.        , 0.        , 0.        ,\n       0.        , 0.        , 0.        , 0.        , 0.        ,\n       0.        , 0.        , 0.        , 0.        , 0.        ])"
     },
     "execution_count": 19,
     "metadata": {},
     "output_type": "execute_result"
    }
   ],
   "source": [
    "time_arrays[-1]"
   ],
   "metadata": {
    "collapsed": false,
    "pycharm": {
     "name": "#%%\n"
    }
   }
  },
  {
   "cell_type": "code",
   "execution_count": null,
   "outputs": [],
   "source": [],
   "metadata": {
    "collapsed": false,
    "pycharm": {
     "name": "#%%\n"
    }
   }
  },
  {
   "cell_type": "code",
   "execution_count": null,
   "outputs": [],
   "source": [],
   "metadata": {
    "collapsed": false,
    "pycharm": {
     "name": "#%%\n"
    }
   }
  },
  {
   "cell_type": "code",
   "execution_count": null,
   "outputs": [],
   "source": [],
   "metadata": {
    "collapsed": false,
    "pycharm": {
     "name": "#%%\n"
    }
   }
  },
  {
   "cell_type": "code",
   "execution_count": 4,
   "outputs": [],
   "source": [
    "year_dataset = Year_Dataset(value_arrays,time_arrays,labels)"
   ],
   "metadata": {
    "collapsed": false,
    "pycharm": {
     "name": "#%%\n"
    }
   }
  },
  {
   "cell_type": "code",
   "execution_count": 5,
   "outputs": [
    {
     "data": {
      "text/plain": "163"
     },
     "execution_count": 5,
     "metadata": {},
     "output_type": "execute_result"
    }
   ],
   "source": [
    "year_dataset.seasons_lengths('pixel').max()"
   ],
   "metadata": {
    "collapsed": false,
    "pycharm": {
     "name": "#%%\n"
    }
   }
  },
  {
   "cell_type": "code",
   "execution_count": 6,
   "outputs": [
    {
     "data": {
      "text/plain": "165"
     },
     "execution_count": 6,
     "metadata": {},
     "output_type": "execute_result"
    }
   ],
   "source": [
    "year_dataset.output_padding_length"
   ],
   "metadata": {
    "collapsed": false,
    "pycharm": {
     "name": "#%%\n"
    }
   }
  },
  {
   "cell_type": "code",
   "execution_count": null,
   "outputs": [],
   "source": [
    "def augment_series(time_arrays,value_arrays,padding_masks,start_values,end_values):\n",
    "    return"
   ],
   "metadata": {
    "collapsed": false,
    "pycharm": {
     "name": "#%%\n"
    }
   }
  },
  {
   "cell_type": "code",
   "execution_count": null,
   "outputs": [],
   "source": [],
   "metadata": {
    "collapsed": false,
    "pycharm": {
     "name": "#%%\n"
    }
   }
  },
  {
   "cell_type": "code",
   "execution_count": 10,
   "outputs": [],
   "source": [
    "time_arrays, light_curves, padding_masks, _ = year_dataset.get_item(0, 0, 0)"
   ],
   "metadata": {
    "collapsed": false,
    "pycharm": {
     "name": "#%%\n"
    }
   }
  },
  {
   "cell_type": "code",
   "execution_count": 13,
   "outputs": [
    {
     "data": {
      "text/plain": "array([[0.00000000e+00, 3.26380700e-03, 6.47530122e-03, 1.59373498e-02,\n        1.77973210e-02, 1.90888602e-02, 2.31748186e-02, 2.56616600e-02,\n        3.81789632e-02, 4.00383466e-02, 4.48187408e-02, 6.43901469e-02,\n        7.12745007e-02, 8.51072713e-02, 1.04401187e-01, 1.13917341e-01,\n        1.22154035e-01, 1.45722144e-01, 1.81236731e-01, 1.85354229e-01,\n        1.85857697e-01, 1.88230528e-01, 1.89362672e-01, 1.93064060e-01,\n        1.94028068e-01, 2.00374908e-01, 2.03680218e-01, 2.19142387e-01,\n        2.42674054e-01, 2.48096034e-01, 2.50296995e-01, 2.56441194e-01,\n        2.71994003e-01, 2.75570108e-01, 2.81071045e-01, 2.83242123e-01,\n        2.87405032e-01, 2.90923427e-01, 2.92879378e-01, 2.97707798e-01,\n        3.00253112e-01, 3.03450813e-01, 3.08549294e-01, 3.18060782e-01,\n        3.20839730e-01, 3.38504888e-01, 3.52085796e-01, 3.52427684e-01,\n        3.54431455e-01, 3.58478272e-01, 3.59235230e-01, 3.62169758e-01,\n        3.71398859e-01, 3.79214224e-01, 3.85884626e-01, 3.94375709e-01,\n        3.95946374e-01, 3.98810016e-01, 4.06534402e-01, 4.21013216e-01,\n        4.26386892e-01, 4.28662650e-01, 4.28872936e-01, 4.37359487e-01,\n        4.37413702e-01, 4.40607517e-01, 4.45786738e-01, 4.63269454e-01,\n        4.63911614e-01, 4.67478592e-01, 4.67647179e-01, 4.70520325e-01,\n        4.77187945e-01, 4.79429112e-01, 4.81041481e-01, 4.81883691e-01,\n        4.87778997e-01, 4.95918238e-01, 5.03552560e-01, 5.23917000e-01,\n        5.23935540e-01, 5.31071461e-01, 5.37354145e-01, 5.43439958e-01,\n        5.65978649e-01, 5.66095195e-01, 5.74261741e-01, 5.85770525e-01,\n        5.90653788e-01, 5.93437438e-01, 6.04154264e-01, 6.04854961e-01,\n        6.08851264e-01, 6.13877770e-01, 6.21987549e-01, 6.22640183e-01,\n        6.24410452e-01, 6.28027876e-01, 6.34714808e-01, 6.49646455e-01,\n        6.56252617e-01, 6.57233773e-01, 6.84230065e-01, 6.98298918e-01,\n        7.03083874e-01, 7.20587420e-01, 7.25926701e-01, 7.43515281e-01,\n        7.55647838e-01, 7.79284892e-01, 7.96565834e-01, 7.96817197e-01,\n        7.98132920e-01, 8.01508802e-01, 8.22327512e-01, 8.24770774e-01,\n        8.25968789e-01, 8.40860796e-01, 8.44910815e-01, 8.61243797e-01,\n        8.62439877e-01, 8.69851534e-01, 8.73826120e-01, 8.74371121e-01,\n        8.82537233e-01, 8.84483943e-01, 8.84760803e-01, 8.85184202e-01,\n        8.85615869e-01, 9.01938254e-01, 9.11161729e-01, 9.26801414e-01,\n        9.34448801e-01, 9.39604758e-01, 9.42091382e-01, 9.84529120e-01,\n        9.87609348e-01, 9.91966221e-01, 9.95221081e-01, 0.00000000e+00,\n        0.00000000e+00, 0.00000000e+00, 0.00000000e+00, 0.00000000e+00,\n        0.00000000e+00, 0.00000000e+00, 0.00000000e+00, 0.00000000e+00,\n        0.00000000e+00, 0.00000000e+00, 0.00000000e+00, 0.00000000e+00,\n        0.00000000e+00, 0.00000000e+00, 0.00000000e+00, 0.00000000e+00,\n        0.00000000e+00, 0.00000000e+00, 0.00000000e+00, 0.00000000e+00,\n        0.00000000e+00, 0.00000000e+00, 0.00000000e+00, 0.00000000e+00,\n        0.00000000e+00],\n       [2.18556345e-02, 2.31704146e-02, 2.58928741e-02, 3.37046855e-02,\n        3.41519019e-02, 4.05531376e-02, 4.50011562e-02, 4.72893417e-02,\n        4.91547611e-02, 5.41040915e-02, 5.72462237e-02, 6.14226770e-02,\n        6.42425440e-02, 8.83737170e-02, 8.93546983e-02, 9.00520657e-02,\n        9.29333512e-02, 9.90573642e-02, 1.06429901e-01, 1.09897463e-01,\n        1.59441826e-01, 1.62412370e-01, 1.71165810e-01, 1.78117583e-01,\n        1.89603438e-01, 2.15214044e-01, 2.30319529e-01, 2.40225746e-01,\n        2.48432262e-01, 2.51231698e-01, 2.52326217e-01, 2.52769255e-01,\n        2.54666120e-01, 2.58543719e-01, 2.63599451e-01, 2.73758172e-01,\n        2.95592995e-01, 2.96447743e-01, 2.97222902e-01, 3.03324641e-01,\n        3.12694874e-01, 3.25604905e-01, 3.44414850e-01, 3.72496594e-01,\n        3.75993137e-01, 3.79271058e-01, 3.80366567e-01, 3.88277351e-01,\n        3.95601536e-01, 4.09169723e-01, 4.09870535e-01, 4.14587732e-01,\n        4.20547184e-01, 4.22440935e-01, 4.23709127e-01, 4.37155177e-01,\n        4.37568315e-01, 4.41924825e-01, 4.42768047e-01, 4.46951295e-01,\n        4.73733083e-01, 4.77508000e-01, 4.90835292e-01, 4.91690001e-01,\n        4.93857312e-01, 4.97399551e-01, 5.00896213e-01, 5.08518567e-01,\n        5.11413703e-01, 5.19981845e-01, 5.26964003e-01, 5.30453240e-01,\n        5.34324552e-01, 5.40853908e-01, 5.41351278e-01, 5.53188671e-01,\n        5.60446514e-01, 5.69322389e-01, 5.74595416e-01, 5.75397266e-01,\n        5.78953798e-01, 5.82514222e-01, 5.85166260e-01, 5.85374534e-01,\n        5.94529112e-01, 5.95325630e-01, 6.01710471e-01, 6.10030715e-01,\n        6.16929843e-01, 6.38831616e-01, 6.39578410e-01, 6.53404874e-01,\n        6.53607783e-01, 6.58851201e-01, 6.62398622e-01, 6.67485771e-01,\n        6.70597330e-01, 6.72045420e-01, 6.72177668e-01, 6.77178503e-01,\n        6.89850347e-01, 6.93050027e-01, 6.94777011e-01, 6.95352080e-01,\n        6.95962841e-01, 6.97676904e-01, 6.98398659e-01, 7.00507829e-01,\n        7.00976588e-01, 7.01441354e-01, 7.14728078e-01, 7.15939590e-01,\n        7.21557802e-01, 7.31727762e-01, 7.35902825e-01, 7.37043169e-01,\n        7.38568092e-01, 7.42454175e-01, 7.47599876e-01, 7.50544549e-01,\n        7.60961507e-01, 7.70484722e-01, 7.88431308e-01, 7.88632540e-01,\n        8.04114735e-01, 8.07529230e-01, 8.21959314e-01, 8.29998476e-01,\n        8.59929982e-01, 8.69684304e-01, 8.72789875e-01, 8.77552038e-01,\n        8.80786482e-01, 8.83896012e-01, 8.85966753e-01, 8.90659356e-01,\n        8.98501044e-01, 9.00725817e-01, 9.05815787e-01, 9.06670998e-01,\n        9.07863938e-01, 9.08192275e-01, 9.32378861e-01, 9.32405352e-01,\n        9.33752754e-01, 9.40252661e-01, 9.40833972e-01, 9.55465437e-01,\n        9.64175095e-01, 9.87414347e-01, 9.92267334e-01, 9.94714264e-01,\n        0.00000000e+00, 0.00000000e+00, 0.00000000e+00, 0.00000000e+00,\n        0.00000000e+00, 0.00000000e+00, 0.00000000e+00, 0.00000000e+00,\n        0.00000000e+00, 0.00000000e+00, 0.00000000e+00, 0.00000000e+00,\n        0.00000000e+00],\n       [1.75897272e-04, 1.84705886e-02, 2.35086486e-02, 2.56380463e-02,\n        4.00135146e-02, 4.31990334e-02, 4.32085150e-02, 4.51578313e-02,\n        4.77815852e-02, 6.11885605e-02, 6.53900541e-02, 6.94177515e-02,\n        7.22234169e-02, 8.67845853e-02, 1.06653826e-01, 1.39631209e-01,\n        1.42869521e-01, 1.66059527e-01, 1.76810474e-01, 1.84523165e-01,\n        1.86447077e-01, 1.88117828e-01, 1.89361521e-01, 2.06901206e-01,\n        2.09286470e-01, 2.13419887e-01, 2.18085197e-01, 2.28399246e-01,\n        2.41134907e-01, 2.42160560e-01, 2.45973591e-01, 2.58648835e-01,\n        2.70319600e-01, 2.71059641e-01, 2.72224416e-01, 2.74708602e-01,\n        2.75245244e-01, 2.79031541e-01, 2.79811409e-01, 2.85563693e-01,\n        2.87502747e-01, 2.93717904e-01, 2.94574243e-01, 3.20087081e-01,\n        3.38556497e-01, 3.41962295e-01, 3.43861662e-01, 3.45835724e-01,\n        3.50359518e-01, 3.50639069e-01, 3.57631072e-01, 3.61225322e-01,\n        3.64470949e-01, 3.75822967e-01, 3.84278815e-01, 4.05418522e-01,\n        4.08389523e-01, 4.23994385e-01, 4.34059681e-01, 4.37088936e-01,\n        4.43746309e-01, 4.46078351e-01, 4.60288299e-01, 4.61105181e-01,\n        4.62740856e-01, 4.64125493e-01, 4.67658929e-01, 4.77024722e-01,\n        4.82151189e-01, 4.86732002e-01, 4.86735743e-01, 4.90530840e-01,\n        4.90980587e-01, 4.92579996e-01, 5.11032446e-01, 5.12693946e-01,\n        5.26079622e-01, 5.37202981e-01, 5.38390225e-01, 5.44764701e-01,\n        5.45606590e-01, 5.54521262e-01, 5.61470760e-01, 5.72915874e-01,\n        5.77386721e-01, 5.94259971e-01, 5.94606603e-01, 5.96980349e-01,\n        6.05579327e-01, 6.09288042e-01, 6.10588671e-01, 6.11365415e-01,\n        6.23010100e-01, 6.27399319e-01, 6.42053275e-01, 6.51105262e-01,\n        6.54716007e-01, 6.57918912e-01, 6.62884141e-01, 6.77944178e-01,\n        6.87099390e-01, 6.87134776e-01, 6.95249065e-01, 7.12506531e-01,\n        7.20995895e-01, 7.22330184e-01, 7.26855630e-01, 7.27891180e-01,\n        7.30937197e-01, 7.49885691e-01, 7.67474203e-01, 7.69751271e-01,\n        7.72593439e-01, 7.78873049e-01, 8.01490748e-01, 8.02586197e-01,\n        8.04620081e-01, 8.18784206e-01, 8.23421615e-01, 8.39121955e-01,\n        8.40527454e-01, 8.45737841e-01, 8.48442809e-01, 8.51049596e-01,\n        8.55105588e-01, 8.58992798e-01, 8.62021223e-01, 8.78903143e-01,\n        8.87915569e-01, 8.96821659e-01, 8.99166648e-01, 9.05071180e-01,\n        9.15416418e-01, 9.26290591e-01, 9.29183766e-01, 9.39276079e-01,\n        9.48395287e-01, 9.49440329e-01, 9.63204087e-01, 9.67191628e-01,\n        9.71755538e-01, 9.75830033e-01, 9.81576426e-01, 9.88224821e-01,\n        9.92947512e-01, 0.00000000e+00, 0.00000000e+00, 0.00000000e+00,\n        0.00000000e+00, 0.00000000e+00, 0.00000000e+00, 0.00000000e+00,\n        0.00000000e+00, 0.00000000e+00, 0.00000000e+00, 0.00000000e+00,\n        0.00000000e+00, 0.00000000e+00, 0.00000000e+00, 0.00000000e+00,\n        0.00000000e+00, 0.00000000e+00, 0.00000000e+00, 0.00000000e+00,\n        0.00000000e+00],\n       [6.75448154e-03, 1.35226230e-02, 1.70377489e-02, 2.07298004e-02,\n        3.21349698e-02, 3.50665119e-02, 3.66936732e-02, 3.71129844e-02,\n        5.14122327e-02, 6.85884134e-02, 6.94649199e-02, 7.22538047e-02,\n        7.35745101e-02, 7.44182318e-02, 9.01802415e-02, 9.05813294e-02,\n        1.17544383e-01, 1.18239074e-01, 1.31877537e-01, 1.37602726e-01,\n        1.40744749e-01, 1.43615097e-01, 1.53315052e-01, 1.55902132e-01,\n        1.63237441e-01, 1.68226578e-01, 1.72771247e-01, 1.88622444e-01,\n        1.94162744e-01, 2.06174141e-01, 2.15030798e-01, 2.15300115e-01,\n        2.25459637e-01, 2.27133999e-01, 2.43124330e-01, 2.43424827e-01,\n        2.46199302e-01, 2.46918917e-01, 2.51340011e-01, 2.63086060e-01,\n        2.65511326e-01, 2.66632006e-01, 2.69377734e-01, 2.80893929e-01,\n        2.81930021e-01, 2.83696769e-01, 2.84185378e-01, 2.92563390e-01,\n        2.96007996e-01, 2.98557871e-01, 3.07243295e-01, 3.10047674e-01,\n        3.18959405e-01, 3.30524322e-01, 3.32205619e-01, 3.57155686e-01,\n        3.58369141e-01, 3.60723082e-01, 3.62080625e-01, 3.64983997e-01,\n        3.69463748e-01, 3.74522053e-01, 3.87682697e-01, 4.02766727e-01,\n        4.04469429e-01, 4.11149080e-01, 4.11958780e-01, 4.16166179e-01,\n        4.18831248e-01, 4.21437616e-01, 4.25950689e-01, 4.34914354e-01,\n        4.35405396e-01, 4.49880727e-01, 4.58971980e-01, 4.60302056e-01,\n        4.79476869e-01, 4.84311472e-01, 5.42948669e-01, 5.44453626e-01,\n        5.49696917e-01, 5.52045134e-01, 5.54529073e-01, 5.60653730e-01,\n        5.78102026e-01, 5.89308257e-01, 5.98124299e-01, 6.03734604e-01,\n        6.21233787e-01, 6.25877524e-01, 6.40056581e-01, 6.52355601e-01,\n        6.54003471e-01, 6.64106336e-01, 6.64190212e-01, 6.66860296e-01,\n        6.68646619e-01, 6.73488866e-01, 6.82632997e-01, 6.83336984e-01,\n        6.88292093e-01, 7.07383111e-01, 7.09161252e-01, 7.16904677e-01,\n        7.23059800e-01, 7.23129078e-01, 7.27553270e-01, 7.36002881e-01,\n        7.36310906e-01, 7.50806001e-01, 7.55834349e-01, 7.56047643e-01,\n        7.57788300e-01, 7.78830002e-01, 7.84809722e-01, 7.85588476e-01,\n        7.87910652e-01, 7.92089422e-01, 7.92234440e-01, 7.95867143e-01,\n        8.00471825e-01, 8.02384756e-01, 8.08468894e-01, 8.18053411e-01,\n        8.19895675e-01, 8.26531979e-01, 8.33522407e-01, 8.53844026e-01,\n        8.64161304e-01, 8.77080132e-01, 8.81697723e-01, 8.83101798e-01,\n        9.20610829e-01, 9.21559609e-01, 9.25926950e-01, 9.26409980e-01,\n        9.46134253e-01, 9.69081273e-01, 9.77785288e-01, 9.80735780e-01,\n        9.82746345e-01, 9.84857972e-01, 9.85790551e-01, 9.90901133e-01,\n        9.91948655e-01, 9.94557327e-01, 0.00000000e+00, 0.00000000e+00,\n        0.00000000e+00, 0.00000000e+00, 0.00000000e+00, 0.00000000e+00,\n        0.00000000e+00, 0.00000000e+00, 0.00000000e+00, 0.00000000e+00,\n        0.00000000e+00, 0.00000000e+00, 0.00000000e+00, 0.00000000e+00,\n        0.00000000e+00, 0.00000000e+00, 0.00000000e+00, 0.00000000e+00,\n        0.00000000e+00],\n       [1.30657569e-03, 1.02125806e-02, 1.03808829e-02, 1.42324063e-02,\n        2.14646727e-02, 3.46084906e-02, 3.90261333e-02, 6.28647035e-02,\n        6.49794005e-02, 6.50725565e-02, 6.96011160e-02, 7.16276037e-02,\n        8.35157436e-02, 8.53306213e-02, 8.78784022e-02, 9.86079214e-02,\n        1.07209078e-01, 1.12801964e-01, 1.21162264e-01, 1.24877194e-01,\n        1.24913661e-01, 1.24991881e-01, 1.29894938e-01, 1.30490590e-01,\n        1.30849673e-01, 1.53913223e-01, 1.67331128e-01, 1.68460626e-01,\n        1.68465177e-01, 1.87928197e-01, 1.90162312e-01, 1.91571005e-01,\n        1.99626209e-01, 2.00415954e-01, 2.02521489e-01, 2.27813776e-01,\n        2.34801174e-01, 2.39838038e-01, 2.43313125e-01, 2.53514764e-01,\n        2.54555428e-01, 2.77990612e-01, 2.91512302e-01, 2.98097487e-01,\n        2.98397856e-01, 3.06663809e-01, 3.23411211e-01, 3.28504023e-01,\n        3.31499255e-01, 3.32376985e-01, 3.42007762e-01, 3.56822921e-01,\n        3.57546485e-01, 3.67292336e-01, 3.67410197e-01, 3.90786315e-01,\n        3.97325100e-01, 4.02831556e-01, 4.05235020e-01, 4.23380170e-01,\n        4.25497414e-01, 4.37559836e-01, 4.66374745e-01, 4.76852056e-01,\n        4.81864844e-01, 4.82333052e-01, 4.86712799e-01, 4.90662860e-01,\n        4.92215221e-01, 4.95988728e-01, 4.99021536e-01, 5.00245844e-01,\n        5.04234032e-01, 5.06322360e-01, 5.11379039e-01, 5.11624197e-01,\n        5.27836015e-01, 5.39444244e-01, 5.44952878e-01, 5.58029936e-01,\n        5.80499937e-01, 5.81302135e-01, 5.88127497e-01, 6.30672792e-01,\n        6.60903307e-01, 6.67236409e-01, 6.68174695e-01, 6.74168747e-01,\n        6.74182903e-01, 6.75701969e-01, 6.97115453e-01, 6.99862956e-01,\n        7.06830006e-01, 7.09088215e-01, 7.29314873e-01, 7.38246445e-01,\n        7.40985877e-01, 7.51732937e-01, 7.52517011e-01, 7.55928690e-01,\n        7.57641185e-01, 7.65525759e-01, 7.66266048e-01, 7.69730986e-01,\n        7.71949217e-01, 7.76784246e-01, 7.79733735e-01, 7.88128071e-01,\n        7.88298510e-01, 7.95182662e-01, 7.96977915e-01, 7.99121366e-01,\n        8.10153673e-01, 8.31481099e-01, 8.34087963e-01, 8.46097132e-01,\n        8.46849219e-01, 8.53733272e-01, 8.63256780e-01, 8.64418263e-01,\n        8.68220524e-01, 8.83509520e-01, 8.84258455e-01, 8.84383538e-01,\n        8.90500160e-01, 8.94417083e-01, 9.05395888e-01, 9.22997830e-01,\n        9.25432533e-01, 9.28800228e-01, 9.33362294e-01, 9.39438318e-01,\n        9.67699088e-01, 9.75884794e-01, 9.79265317e-01, 9.81362643e-01,\n        0.00000000e+00, 0.00000000e+00, 0.00000000e+00, 0.00000000e+00,\n        0.00000000e+00, 0.00000000e+00, 0.00000000e+00, 0.00000000e+00,\n        0.00000000e+00, 0.00000000e+00, 0.00000000e+00, 0.00000000e+00,\n        0.00000000e+00, 0.00000000e+00, 0.00000000e+00, 0.00000000e+00,\n        0.00000000e+00, 0.00000000e+00, 0.00000000e+00, 0.00000000e+00,\n        0.00000000e+00, 0.00000000e+00, 0.00000000e+00, 0.00000000e+00,\n        0.00000000e+00, 0.00000000e+00, 0.00000000e+00, 0.00000000e+00,\n        0.00000000e+00],\n       [1.18209528e-03, 2.17976651e-03, 1.09052158e-02, 2.86829425e-02,\n        3.61666890e-02, 3.99338628e-02, 4.14536095e-02, 4.45908427e-02,\n        5.29959471e-02, 6.01774007e-02, 7.81962925e-02, 9.20069838e-02,\n        1.03607252e-01, 1.20211347e-01, 1.22426618e-01, 1.25586067e-01,\n        1.28859113e-01, 1.34489285e-01, 1.42045982e-01, 1.44360205e-01,\n        1.44494824e-01, 1.47984759e-01, 1.50511694e-01, 1.70035682e-01,\n        1.85046816e-01, 1.98528559e-01, 2.05778078e-01, 2.08668732e-01,\n        2.14120470e-01, 2.25686337e-01, 2.26397417e-01, 2.37457875e-01,\n        2.37745900e-01, 2.49356245e-01, 2.60643852e-01, 2.61002442e-01,\n        2.67760030e-01, 2.72541300e-01, 2.73816040e-01, 2.74916134e-01,\n        2.85080157e-01, 2.90824121e-01, 3.18731594e-01, 3.46342858e-01,\n        3.80009774e-01, 3.80874577e-01, 3.99948281e-01, 4.01869292e-01,\n        4.06067107e-01, 4.15768260e-01, 4.17327712e-01, 4.23049828e-01,\n        4.24457840e-01, 4.25215626e-01, 4.26064464e-01, 4.29096004e-01,\n        4.29127961e-01, 4.32916531e-01, 4.40390716e-01, 4.43908820e-01,\n        4.44523204e-01, 4.44966628e-01, 4.47198762e-01, 4.48469323e-01,\n        4.71449627e-01, 4.72572691e-01, 4.83785910e-01, 4.89828034e-01,\n        4.95597301e-01, 5.00512406e-01, 5.24944768e-01, 5.28042800e-01,\n        5.38664524e-01, 5.44214812e-01, 5.47663954e-01, 5.68975604e-01,\n        5.75222792e-01, 5.76089939e-01, 5.79791948e-01, 5.90212108e-01,\n        5.98317203e-01, 6.15310342e-01, 6.17366945e-01, 6.27090358e-01,\n        6.31309229e-01, 6.37147587e-01, 6.58395057e-01, 6.84949584e-01,\n        6.98494392e-01, 7.01541497e-01, 7.16518133e-01, 7.23489333e-01,\n        7.27339424e-01, 7.27588719e-01, 7.37658810e-01, 7.42435298e-01,\n        7.53001465e-01, 7.62442675e-01, 7.73249396e-01, 7.75698749e-01,\n        7.86749700e-01, 7.92201394e-01, 7.96592996e-01, 8.04293802e-01,\n        8.04441679e-01, 8.05180981e-01, 8.07547842e-01, 8.35451680e-01,\n        8.36482689e-01, 8.39231784e-01, 8.39590705e-01, 8.42346686e-01,\n        8.44991497e-01, 8.65086235e-01, 8.77862432e-01, 8.81167255e-01,\n        8.81339042e-01, 8.93517403e-01, 9.00917320e-01, 9.02049543e-01,\n        9.39990908e-01, 9.40714333e-01, 9.54538084e-01, 9.56925188e-01,\n        9.60839950e-01, 9.71709640e-01, 9.79460860e-01, 9.98491242e-01,\n        0.00000000e+00, 0.00000000e+00, 0.00000000e+00, 0.00000000e+00,\n        0.00000000e+00, 0.00000000e+00, 0.00000000e+00, 0.00000000e+00,\n        0.00000000e+00, 0.00000000e+00, 0.00000000e+00, 0.00000000e+00,\n        0.00000000e+00, 0.00000000e+00, 0.00000000e+00, 0.00000000e+00,\n        0.00000000e+00, 0.00000000e+00, 0.00000000e+00, 0.00000000e+00,\n        0.00000000e+00, 0.00000000e+00, 0.00000000e+00, 0.00000000e+00,\n        0.00000000e+00, 0.00000000e+00, 0.00000000e+00, 0.00000000e+00,\n        0.00000000e+00, 0.00000000e+00, 0.00000000e+00, 0.00000000e+00,\n        0.00000000e+00, 0.00000000e+00, 0.00000000e+00, 0.00000000e+00,\n        0.00000000e+00]])"
     },
     "execution_count": 13,
     "metadata": {},
     "output_type": "execute_result"
    }
   ],
   "source": [
    "time_arrays"
   ],
   "metadata": {
    "collapsed": false,
    "pycharm": {
     "name": "#%%\n"
    }
   }
  },
  {
   "cell_type": "code",
   "execution_count": 14,
   "outputs": [],
   "source": [
    "year_index = 2"
   ],
   "metadata": {
    "collapsed": false,
    "pycharm": {
     "name": "#%%\n"
    }
   }
  },
  {
   "cell_type": "code",
   "execution_count": 15,
   "outputs": [],
   "source": [
    "time = time_arrays[year_index]\n",
    "light = light_curves[year_index]\n",
    "mask = padding_masks[year_index]"
   ],
   "metadata": {
    "collapsed": false,
    "pycharm": {
     "name": "#%%\n"
    }
   }
  },
  {
   "cell_type": "code",
   "execution_count": 20,
   "outputs": [],
   "source": [
    "obs_length = mask.sum()"
   ],
   "metadata": {
    "collapsed": false,
    "pycharm": {
     "name": "#%%\n"
    }
   }
  },
  {
   "cell_type": "code",
   "execution_count": 37,
   "outputs": [],
   "source": [
    "time_next = time_arrays[year_index+1,0]+1\n",
    "value_next = light_curves[year_index+1,0]\n",
    "pseudo_end = (1-time[obs_length-1])/(time_next-time[obs_length-1])\n",
    "value_end = pseudo_end * value_next + (1-pseudo_end) * light[obs_length-1]"
   ],
   "metadata": {
    "collapsed": false,
    "pycharm": {
     "name": "#%%\n"
    }
   }
  },
  {
   "cell_type": "code",
   "execution_count": 40,
   "outputs": [
    {
     "data": {
      "text/plain": "<matplotlib.collections.PathCollection at 0x168b33eb0>"
     },
     "execution_count": 40,
     "metadata": {},
     "output_type": "execute_result"
    },
    {
     "data": {
      "text/plain": "<Figure size 432x288 with 1 Axes>",
      "image/png": "[encoded data removed]"
     },
     "metadata": {
      "needs_background": "dark"
     },
     "output_type": "display_data"
    }
   ],
   "source": [
    "plt.scatter(time[mask][-10:],light[mask][-10:])\n",
    "plt.scatter(time_next,value_next)\n",
    "plt.scatter(1,value_end)"
   ],
   "metadata": {
    "collapsed": false,
    "pycharm": {
     "name": "#%%\n"
    }
   }
  },
  {
   "cell_type": "code",
   "execution_count": 39,
   "outputs": [
    {
     "data": {
      "text/plain": "1.0067544815428913"
     },
     "execution_count": 39,
     "metadata": {},
     "output_type": "execute_result"
    }
   ],
   "source": [
    "time_next"
   ],
   "metadata": {
    "collapsed": false,
    "pycharm": {
     "name": "#%%\n"
    }
   }
  },
  {
   "cell_type": "code",
   "execution_count": 41,
   "outputs": [
    {
     "ename": "NameError",
     "evalue": "name 'length' is not defined",
     "output_type": "error",
     "traceback": [
      "\u001B[0;31m---------------------------------------------------------------------------\u001B[0m",
      "\u001B[0;31mNameError\u001B[0m                                 Traceback (most recent call last)",
      "Input \u001B[0;32mIn [41]\u001B[0m, in \u001B[0;36m<cell line: 1>\u001B[0;34m()\u001B[0m\n\u001B[0;32m----> 1\u001B[0m \u001B[43mlength\u001B[49m\n",
      "\u001B[0;31mNameError\u001B[0m: name 'length' is not defined"
     ]
    }
   ],
   "source": [
    "length"
   ],
   "metadata": {
    "collapsed": false,
    "pycharm": {
     "name": "#%%\n"
    }
   }
  },
  {
   "cell_type": "code",
   "execution_count": 43,
   "outputs": [
    {
     "data": {
      "text/plain": "0.9929475122757245"
     },
     "execution_count": 43,
     "metadata": {},
     "output_type": "execute_result"
    }
   ],
   "source": [
    "time[obs_length-1]"
   ],
   "metadata": {
    "collapsed": false,
    "pycharm": {
     "name": "#%%\n"
    }
   }
  },
  {
   "cell_type": "code",
   "execution_count": 45,
   "outputs": [],
   "source": [
    "from copy import deepcopy\n",
    "q = deepcopy(mask)"
   ],
   "metadata": {
    "collapsed": false,
    "pycharm": {
     "name": "#%%\n"
    }
   }
  },
  {
   "cell_type": "code",
   "execution_count": 46,
   "outputs": [],
   "source": [
    "q[obs_length]=1"
   ],
   "metadata": {
    "collapsed": false,
    "pycharm": {
     "name": "#%%\n"
    }
   }
  },
  {
   "cell_type": "code",
   "execution_count": 47,
   "outputs": [
    {
     "data": {
      "text/plain": "array([ True,  True,  True,  True,  True,  True,  True,  True,  True,\n        True,  True,  True,  True,  True,  True,  True,  True,  True,\n        True,  True,  True,  True,  True,  True,  True,  True,  True,\n        True,  True,  True,  True,  True,  True,  True,  True,  True,\n        True,  True,  True,  True,  True,  True,  True,  True,  True,\n        True,  True,  True,  True,  True,  True,  True,  True,  True,\n        True,  True,  True,  True,  True,  True,  True,  True,  True,\n        True,  True,  True,  True,  True,  True,  True,  True,  True,\n        True,  True,  True,  True,  True,  True,  True,  True,  True,\n        True,  True,  True,  True,  True,  True,  True,  True,  True,\n        True,  True,  True,  True,  True,  True,  True,  True,  True,\n        True,  True,  True,  True,  True,  True,  True,  True,  True,\n        True,  True,  True,  True,  True,  True,  True,  True,  True,\n        True,  True,  True,  True,  True,  True,  True,  True,  True,\n        True,  True,  True,  True,  True,  True,  True,  True,  True,\n        True,  True,  True,  True,  True,  True,  True,  True,  True,\n        True,  True, False, False, False, False, False, False, False,\n       False, False, False, False, False, False, False, False, False,\n       False, False, False])"
     },
     "execution_count": 47,
     "metadata": {},
     "output_type": "execute_result"
    }
   ],
   "source": [
    "q"
   ],
   "metadata": {
    "collapsed": false,
    "pycharm": {
     "name": "#%%\n"
    }
   }
  },
  {
   "cell_type": "code",
   "execution_count": 48,
   "outputs": [
    {
     "data": {
      "text/plain": "True"
     },
     "execution_count": 48,
     "metadata": {},
     "output_type": "execute_result"
    }
   ],
   "source": [
    "q[obs_length]"
   ],
   "metadata": {
    "collapsed": false,
    "pycharm": {
     "name": "#%%\n"
    }
   }
  },
  {
   "cell_type": "code",
   "execution_count": null,
   "outputs": [],
   "source": [],
   "metadata": {
    "collapsed": false,
    "pycharm": {
     "name": "#%%\n"
    }
   }
  },
  {
   "cell_type": "code",
   "execution_count": null,
   "outputs": [],
   "source": [
    "pseudo_end = (1-)"
   ],
   "metadata": {
    "collapsed": false,
    "pycharm": {
     "name": "#%%\n"
    }
   }
  },
  {
   "cell_type": "code",
   "execution_count": null,
   "outputs": [],
   "source": [],
   "metadata": {
    "collapsed": false,
    "pycharm": {
     "name": "#%%\n"
    }
   }
  },
  {
   "cell_type": "code",
   "execution_count": 19,
   "outputs": [
    {
     "data": {
      "text/plain": "145"
     },
     "execution_count": 19,
     "metadata": {},
     "output_type": "execute_result"
    }
   ],
   "source": [],
   "metadata": {
    "collapsed": false,
    "pycharm": {
     "name": "#%%\n"
    }
   }
  },
  {
   "cell_type": "code",
   "execution_count": 16,
   "outputs": [
    {
     "data": {
      "text/plain": "array([ True,  True,  True,  True,  True,  True,  True,  True,  True,\n        True,  True,  True,  True,  True,  True,  True,  True,  True,\n        True,  True,  True,  True,  True,  True,  True,  True,  True,\n        True,  True,  True,  True,  True,  True,  True,  True,  True,\n        True,  True,  True,  True,  True,  True,  True,  True,  True,\n        True,  True,  True,  True,  True,  True,  True,  True,  True,\n        True,  True,  True,  True,  True,  True,  True,  True,  True,\n        True,  True,  True,  True,  True,  True,  True,  True,  True,\n        True,  True,  True,  True,  True,  True,  True,  True,  True,\n        True,  True,  True,  True,  True,  True,  True,  True,  True,\n        True,  True,  True,  True,  True,  True,  True,  True,  True,\n        True,  True,  True,  True,  True,  True,  True,  True,  True,\n        True,  True,  True,  True,  True,  True,  True,  True,  True,\n        True,  True,  True,  True,  True,  True,  True,  True,  True,\n        True,  True,  True,  True,  True,  True,  True,  True,  True,\n        True,  True,  True,  True,  True,  True,  True,  True,  True,\n        True, False, False, False, False, False, False, False, False,\n       False, False, False, False, False, False, False, False, False,\n       False, False, False])"
     },
     "execution_count": 16,
     "metadata": {},
     "output_type": "execute_result"
    }
   ],
   "source": [
    "mask"
   ],
   "metadata": {
    "collapsed": false,
    "pycharm": {
     "name": "#%%\n"
    }
   }
  },
  {
   "cell_type": "code",
   "execution_count": 18,
   "outputs": [
    {
     "data": {
      "text/plain": "145"
     },
     "execution_count": 18,
     "metadata": {},
     "output_type": "execute_result"
    }
   ],
   "source": [
    "np.where(~mask)[0][0]"
   ],
   "metadata": {
    "collapsed": false,
    "pycharm": {
     "name": "#%%\n"
    }
   }
  },
  {
   "cell_type": "code",
   "execution_count": null,
   "outputs": [],
   "source": [],
   "metadata": {
    "collapsed": false,
    "pycharm": {
     "name": "#%%\n"
    }
   }
  },
  {
   "cell_type": "code",
   "execution_count": null,
   "outputs": [],
   "source": [],
   "metadata": {
    "collapsed": false,
    "pycharm": {
     "name": "#%%\n"
    }
   }
  },
  {
   "cell_type": "code",
   "execution_count": 37,
   "outputs": [
    {
     "data": {
      "text/plain": "array([  0.        ,   1.        , 534.69061752,   9.88524772])"
     },
     "execution_count": 37,
     "metadata": {},
     "output_type": "execute_result"
    }
   ],
   "source": [
    "year_dataset.get_labels(1)"
   ],
   "metadata": {
    "collapsed": false,
    "pycharm": {
     "name": "#%%\n"
    }
   }
  },
  {
   "cell_type": "code",
   "execution_count": 49,
   "outputs": [
    {
     "data": {
      "text/plain": "6"
     },
     "execution_count": 49,
     "metadata": {},
     "output_type": "execute_result"
    }
   ],
   "source": [
    "year_dataset.years_number"
   ],
   "metadata": {
    "collapsed": false,
    "pycharm": {
     "name": "#%%\n"
    }
   }
  },
  {
   "cell_type": "code",
   "execution_count": 52,
   "outputs": [
    {
     "data": {
      "text/plain": "array([0.19726027, 0.06849315, 0.        ,        inf])"
     },
     "execution_count": 52,
     "metadata": {},
     "output_type": "execute_result"
    }
   ],
   "source": [
    "np.array([*(72,25),*(0,np.inf)]) / 365"
   ],
   "metadata": {
    "collapsed": false,
    "pycharm": {
     "name": "#%%\n"
    }
   }
  },
  {
   "cell_type": "code",
   "execution_count": null,
   "outputs": [],
   "source": [],
   "metadata": {
    "collapsed": false,
    "pycharm": {
     "name": "#%%\n"
    }
   }
  },
  {
   "cell_type": "code",
   "execution_count": null,
   "outputs": [],
   "source": [],
   "metadata": {
    "collapsed": false,
    "pycharm": {
     "name": "#%%\n"
    }
   }
  },
  {
   "cell_type": "code",
   "execution_count": 39,
   "outputs": [],
   "source": [
    "rng = np.random.default_rng(42)"
   ],
   "metadata": {
    "collapsed": false,
    "pycharm": {
     "name": "#%%\n"
    }
   }
  },
  {
   "cell_type": "code",
   "execution_count": 48,
   "outputs": [
    {
     "name": "stdout",
     "output_type": "stream",
     "text": [
      "[1581.4885762    2.6786829]\n"
     ]
    },
    {
     "data": {
      "text/plain": "<Figure size 1800x504 with 3 Axes>",
      "image/png": "[encoded data removed]"
     },
     "metadata": {
      "needs_background": "dark"
     },
     "output_type": "display_data"
    }
   ],
   "source": [
    "t,x,m,l = year_dataset.get_item(7,0,0)\n",
    "print(l[2:])\n",
    "\n",
    "simulated_Poisson_scale = 2.5\n",
    "observed_Poisson_scale = 5\n",
    "m_subsampling = Masking.Poisson_process_subsampling_mask(1/simulated_Poisson_scale,1/observed_Poisson_scale, m.shape,rng)\n",
    "\n",
    "gap_sampler = Masking.get_truncnorm_sampler(72/365,25/365,0,np.inf,rng)\n",
    "start_gap_mask,end_gap_mask = Masking.sample_border_masks(t,gap_sampler)\n",
    "m_gaps = start_gap_mask | end_gap_mask\n",
    "\n",
    "fig,ax = plt.subplots(1,3,figsize=(25,7))\n",
    "\n",
    "for i,(time,value,mask,mask_subsampling,mask_gaps) in enumerate(zip(t,x,m,m_subsampling,m_gaps)):\n",
    "    ax[0].scatter(time[mask]+i,value[mask])\n",
    "    ax[1].scatter(time[mask & mask_subsampling]+i,value[mask & mask_subsampling])\n",
    "    ax[2].scatter(time[mask & mask_subsampling & ~mask_gaps]+i,value[mask & mask_subsampling & ~mask_gaps])"
   ],
   "metadata": {
    "collapsed": false,
    "pycharm": {
     "name": "#%%\n"
    }
   }
  },
  {
   "cell_type": "code",
   "execution_count": 21,
   "outputs": [],
   "source": [],
   "metadata": {
    "collapsed": false,
    "pycharm": {
     "name": "#%%\n"
    }
   }
  },
  {
   "cell_type": "code",
   "execution_count": 24,
   "outputs": [],
   "source": [],
   "metadata": {
    "collapsed": false,
    "pycharm": {
     "name": "#%%\n"
    }
   }
  },
  {
   "cell_type": "code",
   "execution_count": 27,
   "outputs": [],
   "source": [],
   "metadata": {
    "collapsed": false,
    "pycharm": {
     "name": "#%%\n"
    }
   }
  },
  {
   "cell_type": "code",
   "execution_count": 30,
   "outputs": [
    {
     "data": {
      "text/plain": "<Figure size 1800x504 with 3 Axes>",
      "image/png": "[encoded data removed]"
     },
     "metadata": {
      "needs_background": "dark"
     },
     "output_type": "display_data"
    }
   ],
   "source": [],
   "metadata": {
    "collapsed": false,
    "pycharm": {
     "name": "#%%\n"
    }
   }
  },
  {
   "cell_type": "code",
   "execution_count": 35,
   "outputs": [
    {
     "data": {
      "text/plain": "array([36, 57, 30, 55, 36, 40])"
     },
     "execution_count": 35,
     "metadata": {},
     "output_type": "execute_result"
    }
   ],
   "source": [
    "(m & m_subsampling & ~m_gaps).sum(-1)"
   ],
   "metadata": {
    "collapsed": false,
    "pycharm": {
     "name": "#%%\n"
    }
   }
  },
  {
   "cell_type": "code",
   "execution_count": null,
   "outputs": [],
   "source": [],
   "metadata": {
    "collapsed": false,
    "pycharm": {
     "name": "#%%\n"
    }
   }
  },
  {
   "cell_type": "code",
   "execution_count": null,
   "outputs": [],
   "source": [
    "for i,(time,value,mask,mask_subsampling) in enumerate(zip(t,x,m)):\n",
    "    plt.scatter(time[mask]+i,value[mask])"
   ],
   "metadata": {
    "collapsed": false,
    "pycharm": {
     "name": "#%%\n"
    }
   }
  },
  {
   "cell_type": "code",
   "execution_count": null,
   "outputs": [],
   "source": [],
   "metadata": {
    "collapsed": false,
    "pycharm": {
     "name": "#%%\n"
    }
   }
  },
  {
   "cell_type": "code",
   "execution_count": null,
   "outputs": [],
   "source": [],
   "metadata": {
    "collapsed": false,
    "pycharm": {
     "name": "#%%\n"
    }
   }
  },
  {
   "cell_type": "code",
   "execution_count": null,
   "outputs": [],
   "source": [],
   "metadata": {
    "collapsed": false,
    "pycharm": {
     "name": "#%%\n"
    }
   }
  },
  {
   "cell_type": "code",
   "execution_count": null,
   "outputs": [],
   "source": [],
   "metadata": {
    "collapsed": false,
    "pycharm": {
     "name": "#%%\n"
    }
   }
  },
  {
   "cell_type": "code",
   "execution_count": null,
   "outputs": [],
   "source": [],
   "metadata": {
    "collapsed": false,
    "pycharm": {
     "name": "#%%\n"
    }
   }
  },
  {
   "cell_type": "code",
   "execution_count": 3,
   "outputs": [],
   "source": [
    "from Modules.datasets.Oversampled_RDRW.Year_Dataset import Year_Dataset\n",
    "from Modules.datasets.Oversampled_RDRW.Observation_schedule import Observation_schedule\n",
    "from Modules.datasets.Oversampled_RDRW.Light_curves_Dataset import Single_Year_LC_Dataset"
   ],
   "metadata": {
    "collapsed": false,
    "pycharm": {
     "name": "#%%\n"
    }
   }
  },
  {
   "cell_type": "code",
   "execution_count": 4,
   "outputs": [],
   "source": [
    "year_dataset = Year_Dataset(Light_curves,time_arrays,labels)\n",
    "obs_schedule = Observation_schedule()"
   ],
   "metadata": {
    "collapsed": false,
    "pycharm": {
     "name": "#%%\n"
    }
   }
  },
  {
   "cell_type": "code",
   "execution_count": 5,
   "outputs": [],
   "source": [
    "dataset = Single_Year_LC_Dataset(light_curves = Light_curves, time_arrays = time_arrays, labels = labels,)"
   ],
   "metadata": {
    "collapsed": false,
    "pycharm": {
     "name": "#%%\n"
    }
   }
  },
  {
   "cell_type": "code",
   "execution_count": 5,
   "outputs": [],
   "source": [],
   "metadata": {
    "collapsed": false,
    "pycharm": {
     "name": "#%%\n"
    }
   }
  },
  {
   "cell_type": "code",
   "execution_count": 6,
   "outputs": [
    {
     "data": {
      "text/plain": "(500, 5, 50, 85)"
     },
     "execution_count": 6,
     "metadata": {},
     "output_type": "execute_result"
    }
   ],
   "source": [
    "dataset.shape"
   ],
   "metadata": {
    "collapsed": false,
    "pycharm": {
     "name": "#%%\n"
    }
   }
  },
  {
   "cell_type": "code",
   "execution_count": 7,
   "outputs": [],
   "source": [
    "context,target = dataset[0]"
   ],
   "metadata": {
    "collapsed": false,
    "pycharm": {
     "name": "#%%\n"
    }
   }
  },
  {
   "cell_type": "code",
   "execution_count": 10,
   "outputs": [
    {
     "data": {
      "text/plain": "(85, 3)"
     },
     "execution_count": 10,
     "metadata": {},
     "output_type": "execute_result"
    }
   ],
   "source": [
    "context.shape"
   ],
   "metadata": {
    "collapsed": false,
    "pycharm": {
     "name": "#%%\n"
    }
   }
  },
  {
   "cell_type": "code",
   "execution_count": 11,
   "outputs": [],
   "source": [
    "context_mask = context[:,-1].astype(bool)"
   ],
   "metadata": {
    "collapsed": false,
    "pycharm": {
     "name": "#%%\n"
    }
   }
  },
  {
   "cell_type": "code",
   "execution_count": 16,
   "outputs": [
    {
     "data": {
      "text/plain": "<matplotlib.collections.PathCollection at 0x1237a0cd0>"
     },
     "execution_count": 16,
     "metadata": {},
     "output_type": "execute_result"
    },
    {
     "data": {
      "text/plain": "<Figure size 2500x1000 with 1 Axes>",
      "image/png": "[encoded data removed]"
     },
     "metadata": {},
     "output_type": "display_data"
    }
   ],
   "source": [
    "plt.figure(figsize=(25,10))\n",
    "\n",
    "context,target = dataset.get_item(0,0,0)\n",
    "context_mask = context[:,-1].astype(bool)\n",
    "target_mask = target[:,-1].astype(bool)\n",
    "\n",
    "plt.plot(to_date(target[target_mask,0]*365),target[target_mask,1],color='C0',linestyle='--')\n",
    "plt.scatter(to_date(context[context_mask,0]*365),context[context_mask,1],color='C1',s=30)"
   ],
   "metadata": {
    "collapsed": false,
    "pycharm": {
     "name": "#%%\n"
    }
   }
  },
  {
   "cell_type": "code",
   "execution_count": 20,
   "outputs": [
    {
     "data": {
      "text/plain": "(500, 5, 50, 85)"
     },
     "execution_count": 20,
     "metadata": {},
     "output_type": "execute_result"
    }
   ],
   "source": [
    "dataset.shape"
   ],
   "metadata": {
    "collapsed": false,
    "pycharm": {
     "name": "#%%\n"
    }
   }
  },
  {
   "cell_type": "code",
   "execution_count": 21,
   "outputs": [
    {
     "data": {
      "text/plain": "125000"
     },
     "execution_count": 21,
     "metadata": {},
     "output_type": "execute_result"
    }
   ],
   "source": [
    "500*50*5"
   ],
   "metadata": {
    "collapsed": false,
    "pycharm": {
     "name": "#%%\n"
    }
   }
  },
  {
   "cell_type": "code",
   "execution_count": 8,
   "outputs": [
    {
     "data": {
      "text/plain": "(85, 3)"
     },
     "execution_count": 8,
     "metadata": {},
     "output_type": "execute_result"
    }
   ],
   "source": [
    "context.shape"
   ],
   "metadata": {
    "collapsed": false,
    "pycharm": {
     "name": "#%%\n"
    }
   }
  },
  {
   "cell_type": "code",
   "execution_count": 9,
   "outputs": [
    {
     "data": {
      "text/plain": "(165, 3)"
     },
     "execution_count": 9,
     "metadata": {},
     "output_type": "execute_result"
    }
   ],
   "source": [
    "target.shape"
   ],
   "metadata": {
    "collapsed": false,
    "pycharm": {
     "name": "#%%\n"
    }
   }
  },
  {
   "cell_type": "code",
   "execution_count": 13,
   "outputs": [
    {
     "data": {
      "text/plain": "(500, 5, 50)"
     },
     "execution_count": 13,
     "metadata": {},
     "output_type": "execute_result"
    }
   ],
   "source": [
    "year_dataset.shape[:3]"
   ],
   "metadata": {
    "collapsed": false,
    "pycharm": {
     "name": "#%%\n"
    }
   }
  },
  {
   "cell_type": "code",
   "execution_count": 10,
   "outputs": [
    {
     "data": {
      "text/plain": "(85,)"
     },
     "execution_count": 10,
     "metadata": {},
     "output_type": "execute_result"
    }
   ],
   "source": [
    "obs_times.shape"
   ],
   "metadata": {
    "collapsed": false,
    "pycharm": {
     "name": "#%%\n"
    }
   }
  },
  {
   "cell_type": "code",
   "execution_count": 13,
   "outputs": [
    {
     "data": {
      "text/plain": "array([[ 0.14002514, -0.88067177,  1.        ],\n       [ 0.14705383, -0.86187675,  1.        ],\n       [ 0.16115098, -0.82259564,  1.        ],\n       [ 0.16619569, -0.80872795,  1.        ],\n       [ 0.16876865, -0.80131402,  1.        ],\n       [ 0.1860362 , -0.75956728,  1.        ],\n       [ 0.18998592, -0.75307311,  1.        ],\n       [ 0.20701651, -0.73988542,  1.        ],\n       [ 0.25883997, -0.74441044,  1.        ],\n       [ 0.29529941, -0.77683346,  1.        ],\n       [ 0.30638784, -0.79272354,  1.        ],\n       [ 0.32480756, -0.81729321,  1.        ],\n       [ 0.32714664, -0.82032142,  1.        ],\n       [ 0.33120003, -0.82451914,  1.        ],\n       [ 0.34588937, -0.84468124,  1.        ],\n       [ 0.35837846, -0.85014555,  1.        ],\n       [ 0.35938425, -0.84965708,  1.        ],\n       [ 0.38699811, -0.82863097,  1.        ],\n       [ 0.38772382, -0.82830177,  1.        ],\n       [ 0.40194706, -0.82901521,  1.        ],\n       [ 0.4099434 , -0.82965248,  1.        ],\n       [ 0.43580204, -0.82096769,  1.        ],\n       [ 0.45391387, -0.80786008,  1.        ],\n       [ 0.46548837, -0.80630714,  1.        ],\n       [ 0.46576251, -0.80629052,  1.        ],\n       [ 0.47261914, -0.80430786,  1.        ],\n       [ 0.47932659, -0.79979629,  1.        ],\n       [ 0.49045882, -0.78877569,  1.        ],\n       [ 0.49875096, -0.78180757,  1.        ],\n       [ 0.52239486, -0.76164527,  1.        ],\n       [ 0.55053862, -0.69986056,  1.        ],\n       [ 0.55935399, -0.68037631,  1.        ],\n       [ 0.57328882, -0.65018453,  1.        ],\n       [ 0.57408989, -0.64868315,  1.        ],\n       [ 0.58970121, -0.62303116,  1.        ],\n       [ 0.59472843, -0.61594895,  1.        ],\n       [ 0.59922422, -0.61055932,  1.        ],\n       [ 0.60338688, -0.60667501,  1.        ],\n       [ 0.62305051, -0.58449572,  1.        ],\n       [ 0.63780636, -0.56630496,  1.        ],\n       [ 0.64987862, -0.54833844,  1.        ],\n       [ 0.67251229, -0.52110325,  1.        ],\n       [ 0.6881201 , -0.51497735,  1.        ],\n       [ 0.        , -0.        ,  0.        ],\n       [ 0.        , -0.        ,  0.        ],\n       [ 0.        , -0.        ,  0.        ],\n       [ 0.        , -0.        ,  0.        ],\n       [ 0.        , -0.        ,  0.        ],\n       [ 0.        , -0.        ,  0.        ],\n       [ 0.        , -0.        ,  0.        ],\n       [ 0.        , -0.        ,  0.        ],\n       [ 0.        , -0.        ,  0.        ],\n       [ 0.        , -0.        ,  0.        ],\n       [ 0.        , -0.        ,  0.        ],\n       [ 0.        , -0.        ,  0.        ],\n       [ 0.        , -0.        ,  0.        ],\n       [ 0.        , -0.        ,  0.        ],\n       [ 0.        , -0.        ,  0.        ],\n       [ 0.        , -0.        ,  0.        ],\n       [ 0.        , -0.        ,  0.        ],\n       [ 0.        , -0.        ,  0.        ],\n       [ 0.        , -0.        ,  0.        ],\n       [ 0.        , -0.        ,  0.        ],\n       [ 0.        , -0.        ,  0.        ],\n       [ 0.        , -0.        ,  0.        ],\n       [ 0.        , -0.        ,  0.        ],\n       [ 0.        , -0.        ,  0.        ],\n       [ 0.        , -0.        ,  0.        ],\n       [ 0.        , -0.        ,  0.        ],\n       [ 0.        , -0.        ,  0.        ],\n       [ 0.        , -0.        ,  0.        ],\n       [ 0.        , -0.        ,  0.        ],\n       [ 0.        , -0.        ,  0.        ],\n       [ 0.        , -0.        ,  0.        ],\n       [ 0.        , -0.        ,  0.        ],\n       [ 0.        , -0.        ,  0.        ],\n       [ 0.        , -0.        ,  0.        ],\n       [ 0.        , -0.        ,  0.        ],\n       [ 0.        , -0.        ,  0.        ],\n       [ 0.        , -0.        ,  0.        ],\n       [ 0.        , -0.        ,  0.        ],\n       [ 0.        , -0.        ,  0.        ],\n       [ 0.        , -0.        ,  0.        ],\n       [ 0.        , -0.        ,  0.        ],\n       [ 0.        , -0.        ,  0.        ]])"
     },
     "execution_count": 13,
     "metadata": {},
     "output_type": "execute_result"
    }
   ],
   "source": [
    "np.stack([obs_times, obs_lights, obs_masks],axis=1)"
   ],
   "metadata": {
    "collapsed": false,
    "pycharm": {
     "name": "#%%\n"
    }
   }
  },
  {
   "cell_type": "code",
   "execution_count": 14,
   "outputs": [
    {
     "data": {
      "text/plain": "array([-0.88067177, -0.86187675, -0.82259564, -0.80872795, -0.80131402,\n       -0.75956728, -0.75307311, -0.73988542, -0.74441044, -0.77683346,\n       -0.79272354, -0.81729321, -0.82032142, -0.82451914, -0.84468124,\n       -0.85014555, -0.84965708, -0.82863097, -0.82830177, -0.82901521,\n       -0.82965248, -0.82096769, -0.80786008, -0.80630714, -0.80629052,\n       -0.80430786, -0.79979629, -0.78877569, -0.78180757, -0.76164527,\n       -0.69986056, -0.68037631, -0.65018453, -0.64868315, -0.62303116,\n       -0.61594895, -0.61055932, -0.60667501, -0.58449572, -0.56630496,\n       -0.54833844, -0.52110325, -0.51497735, -0.        , -0.        ,\n       -0.        , -0.        , -0.        , -0.        , -0.        ,\n       -0.        , -0.        , -0.        , -0.        , -0.        ,\n       -0.        , -0.        , -0.        , -0.        , -0.        ,\n       -0.        , -0.        , -0.        , -0.        , -0.        ,\n       -0.        , -0.        , -0.        , -0.        , -0.        ,\n       -0.        , -0.        , -0.        , -0.        , -0.        ,\n       -0.        , -0.        , -0.        , -0.        , -0.        ,\n       -0.        , -0.        , -0.        , -0.        , -0.        ])"
     },
     "execution_count": 14,
     "metadata": {},
     "output_type": "execute_result"
    }
   ],
   "source": [
    "obs_lights"
   ],
   "metadata": {
    "collapsed": false,
    "pycharm": {
     "name": "#%%\n"
    }
   }
  },
  {
   "cell_type": "code",
   "execution_count": null,
   "outputs": [],
   "source": [],
   "metadata": {
    "collapsed": false,
    "pycharm": {
     "name": "#%%\n"
    }
   }
  },
  {
   "cell_type": "code",
   "execution_count": null,
   "outputs": [],
   "source": [],
   "metadata": {
    "collapsed": false,
    "pycharm": {
     "name": "#%%\n"
    }
   }
  },
  {
   "cell_type": "code",
   "execution_count": 6,
   "outputs": [],
   "source": [
    "time_arrays,light_curves,padding_masks,label = year_dataset.get_item(0,1,2)"
   ],
   "metadata": {
    "collapsed": false,
    "pycharm": {
     "name": "#%%\n"
    }
   }
  },
  {
   "cell_type": "code",
   "execution_count": null,
   "outputs": [],
   "source": [],
   "metadata": {
    "collapsed": false,
    "pycharm": {
     "name": "#%%\n"
    }
   }
  },
  {
   "cell_type": "code",
   "execution_count": null,
   "outputs": [],
   "source": [],
   "metadata": {
    "collapsed": false,
    "pycharm": {
     "name": "#%%\n"
    }
   }
  },
  {
   "cell_type": "code",
   "execution_count": null,
   "outputs": [],
   "source": [],
   "metadata": {
    "collapsed": false,
    "pycharm": {
     "name": "#%%\n"
    }
   }
  },
  {
   "cell_type": "code",
   "execution_count": null,
   "outputs": [],
   "source": [],
   "metadata": {
    "collapsed": false,
    "pycharm": {
     "name": "#%%\n"
    }
   }
  },
  {
   "cell_type": "code",
   "execution_count": 7,
   "outputs": [],
   "source": [
    "downsampling_masks,gaps_masks = obs_schedule.sample_observation_schedule(time_arrays,padding_masks)"
   ],
   "metadata": {
    "collapsed": false,
    "pycharm": {
     "name": "#%%\n"
    }
   }
  },
  {
   "cell_type": "code",
   "execution_count": 8,
   "outputs": [
    {
     "data": {
      "text/plain": "array([[ True,  True,  True,  True,  True,  True,  True,  True,  True,\n         True,  True,  True,  True,  True,  True,  True,  True,  True,\n         True,  True,  True,  True,  True,  True,  True,  True,  True,\n         True,  True,  True,  True, False, False, False, False, False,\n        False, False, False, False, False, False, False, False, False,\n        False, False, False, False, False, False, False, False, False,\n        False, False, False, False, False, False, False, False, False,\n        False, False, False, False, False, False, False, False, False,\n        False, False, False, False, False, False, False, False, False,\n        False, False, False, False, False, False, False, False, False,\n        False, False, False, False, False, False, False, False, False,\n        False, False, False, False, False, False, False,  True,  True,\n         True,  True,  True,  True,  True,  True,  True,  True,  True,\n         True,  True,  True,  True,  True,  True,  True,  True,  True,\n         True,  True,  True,  True,  True,  True,  True,  True,  True,\n         True,  True,  True,  True,  True,  True,  True,  True,  True,\n         True,  True,  True,  True,  True,  True,  True,  True,  True,\n         True,  True,  True,  True,  True,  True,  True,  True,  True,\n         True,  True,  True],\n       [ True,  True,  True,  True,  True,  True,  True,  True,  True,\n         True,  True,  True,  True,  True,  True,  True,  True,  True,\n         True,  True,  True,  True,  True,  True,  True,  True,  True,\n         True,  True,  True,  True,  True,  True,  True, False, False,\n        False, False, False, False, False, False, False, False, False,\n        False, False, False, False, False, False, False, False, False,\n        False, False, False, False, False, False, False, False, False,\n        False, False, False, False, False, False, False, False, False,\n        False, False, False, False, False, False, False, False, False,\n        False, False, False, False, False, False, False, False, False,\n        False, False, False, False, False, False, False, False, False,\n        False, False, False, False, False, False, False, False, False,\n        False, False, False, False, False, False, False, False, False,\n        False, False, False, False, False, False, False,  True,  True,\n         True,  True,  True,  True,  True,  True,  True,  True,  True,\n         True,  True,  True,  True,  True,  True,  True,  True,  True,\n         True,  True,  True,  True,  True,  True,  True,  True,  True,\n         True,  True,  True,  True,  True,  True,  True,  True,  True,\n         True,  True,  True],\n       [ True,  True,  True,  True,  True,  True,  True,  True,  True,\n         True,  True,  True,  True,  True,  True,  True,  True,  True,\n         True,  True,  True,  True,  True,  True,  True,  True,  True,\n         True,  True,  True,  True,  True,  True,  True,  True,  True,\n         True,  True,  True, False, False, False, False, False, False,\n        False, False, False, False, False, False, False, False, False,\n        False, False, False, False, False, False, False, False, False,\n        False, False, False, False, False, False, False, False, False,\n        False, False, False, False, False, False, False, False, False,\n        False, False, False, False, False, False, False, False, False,\n        False, False, False, False, False, False, False, False, False,\n        False, False, False, False, False, False, False, False, False,\n        False, False, False, False, False, False, False, False, False,\n        False, False, False, False, False, False, False, False, False,\n        False, False, False, False, False, False, False, False, False,\n        False, False,  True,  True,  True,  True,  True,  True,  True,\n         True,  True,  True,  True,  True,  True,  True,  True,  True,\n         True,  True,  True,  True,  True,  True,  True,  True,  True,\n         True,  True,  True],\n       [ True,  True,  True,  True,  True,  True,  True,  True,  True,\n         True,  True,  True,  True,  True,  True,  True,  True,  True,\n         True,  True,  True,  True,  True,  True,  True,  True,  True,\n         True,  True,  True,  True,  True,  True,  True, False, False,\n        False, False, False, False, False, False, False, False, False,\n        False, False, False, False, False, False, False, False, False,\n        False, False, False, False, False, False, False, False, False,\n        False, False, False, False, False, False, False, False, False,\n        False, False, False, False, False, False, False, False, False,\n        False, False, False, False, False, False, False, False, False,\n        False, False, False, False, False, False, False, False, False,\n        False, False, False, False, False, False, False, False, False,\n        False, False, False, False, False, False, False, False, False,\n        False, False, False, False, False, False, False, False, False,\n        False, False, False, False, False,  True,  True,  True,  True,\n         True,  True,  True,  True,  True,  True,  True,  True,  True,\n         True,  True,  True,  True,  True,  True,  True,  True,  True,\n         True,  True,  True,  True,  True,  True,  True,  True,  True,\n         True,  True,  True],\n       [ True,  True,  True,  True,  True,  True,  True,  True,  True,\n         True,  True,  True,  True,  True,  True,  True,  True,  True,\n        False, False, False, False, False, False, False, False, False,\n        False, False, False, False, False, False, False, False, False,\n        False, False, False, False, False, False, False, False, False,\n        False, False, False, False, False, False, False, False, False,\n        False, False, False, False, False, False, False, False, False,\n        False, False, False, False, False, False, False, False, False,\n        False, False, False, False, False, False, False, False, False,\n        False, False, False, False, False, False, False, False, False,\n        False, False, False, False, False, False, False, False, False,\n        False, False, False, False, False, False, False, False, False,\n        False, False, False, False, False, False, False, False, False,\n        False, False, False, False, False, False, False, False, False,\n        False, False, False, False,  True,  True,  True,  True,  True,\n         True,  True,  True,  True,  True,  True,  True,  True,  True,\n         True,  True,  True,  True,  True,  True,  True,  True,  True,\n         True,  True,  True,  True,  True,  True,  True,  True,  True,\n         True,  True,  True],\n       [ True,  True,  True,  True,  True,  True,  True,  True,  True,\n         True,  True,  True,  True,  True,  True,  True,  True,  True,\n         True,  True,  True,  True,  True,  True,  True,  True,  True,\n         True,  True,  True,  True,  True,  True,  True,  True,  True,\n         True,  True,  True,  True,  True,  True,  True,  True, False,\n        False, False, False, False, False, False, False, False, False,\n        False, False, False, False, False, False, False, False, False,\n        False, False, False, False, False, False, False, False, False,\n        False, False, False, False, False, False, False, False, False,\n        False, False, False, False, False, False, False, False, False,\n        False, False, False, False, False, False, False, False, False,\n        False, False, False, False, False, False,  True,  True,  True,\n         True,  True,  True,  True,  True,  True,  True,  True,  True,\n         True,  True,  True,  True,  True,  True,  True,  True,  True,\n         True,  True,  True,  True,  True,  True,  True,  True,  True,\n         True,  True,  True,  True,  True,  True,  True,  True,  True,\n         True,  True,  True,  True,  True,  True,  True,  True,  True,\n         True,  True,  True,  True,  True,  True,  True,  True,  True,\n         True,  True,  True]])"
     },
     "execution_count": 8,
     "metadata": {},
     "output_type": "execute_result"
    }
   ],
   "source": [
    "gaps_masks"
   ],
   "metadata": {
    "collapsed": false,
    "pycharm": {
     "name": "#%%\n"
    }
   }
  },
  {
   "cell_type": "code",
   "execution_count": 9,
   "outputs": [
    {
     "data": {
      "text/plain": "82.5"
     },
     "execution_count": 9,
     "metadata": {},
     "output_type": "execute_result"
    }
   ],
   "source": [
    "(dataset.seasons_lengths('pixel').max()/2)"
   ],
   "metadata": {
    "collapsed": false,
    "pycharm": {
     "name": "#%%\n"
    }
   }
  },
  {
   "cell_type": "code",
   "execution_count": 10,
   "outputs": [],
   "source": [
    "obs_times,obs_lights,obs_masks = obs_schedule.apply_observations_masks(time_arrays,light_curves,padding_masks)"
   ],
   "metadata": {
    "collapsed": false,
    "pycharm": {
     "name": "#%%\n"
    }
   }
  },
  {
   "cell_type": "code",
   "execution_count": 37,
   "outputs": [
    {
     "data": {
      "text/plain": "(500, 5, 50, 6)"
     },
     "execution_count": 37,
     "metadata": {},
     "output_type": "execute_result"
    }
   ],
   "source": [
    "dataset.shape"
   ],
   "metadata": {
    "collapsed": false,
    "pycharm": {
     "name": "#%%\n"
    }
   }
  },
  {
   "cell_type": "code",
   "execution_count": 11,
   "outputs": [
    {
     "data": {
      "text/plain": "array([[0.23494364, 0.24983176, 0.25762602, 0.27080736, 0.27629904,\n        0.28417047, 0.30551425, 0.31040598, 0.32707538, 0.33080955,\n        0.33583571, 0.35387817, 0.3724333 , 0.40190842, 0.40426054,\n        0.40599262, 0.40981789, 0.44241088, 0.45102879, 0.47700013,\n        0.5154879 , 0.52688862, 0.53294924, 0.55799749, 0.57356906,\n        0.57987157, 0.58053148, 0.58098558, 0.58818382, 0.61305564,\n        0.63849842, 0.64829646, 0.66670004, 0.67847294, 0.68603633,\n        0.69483301, 0.69907994, 0.70318648, 0.70418128, 0.70425482,\n        0.71379233, 0.        , 0.        , 0.        , 0.        ,\n        0.        , 0.        , 0.        , 0.        , 0.        ,\n        0.        , 0.        , 0.        , 0.        , 0.        ,\n        0.        , 0.        , 0.        , 0.        , 0.        ,\n        0.        , 0.        , 0.        , 0.        , 0.        ,\n        0.        , 0.        , 0.        , 0.        , 0.        ,\n        0.        , 0.        , 0.        , 0.        , 0.        ,\n        0.        , 0.        , 0.        , 0.        , 0.        ,\n        0.        , 0.        , 0.        , 0.        , 0.        ],\n       [0.26969322, 0.27306962, 0.27546607, 0.27602688, 0.29999739,\n        0.30457448, 0.31237498, 0.31441149, 0.32930799, 0.35784132,\n        0.35915104, 0.36485741, 0.39215081, 0.39917017, 0.41865839,\n        0.43209336, 0.46382587, 0.50164276, 0.50385692, 0.52210369,\n        0.54885892, 0.55710323, 0.56728936, 0.58032571, 0.58965384,\n        0.59948586, 0.60753353, 0.63277877, 0.65924261, 0.69371531,\n        0.697448  , 0.70029714, 0.70784566, 0.71629563, 0.72291689,\n        0.74099927, 0.7513067 , 0.76257978, 0.76352939, 0.7673402 ,\n        0.        , 0.        , 0.        , 0.        , 0.        ,\n        0.        , 0.        , 0.        , 0.        , 0.        ,\n        0.        , 0.        , 0.        , 0.        , 0.        ,\n        0.        , 0.        , 0.        , 0.        , 0.        ,\n        0.        , 0.        , 0.        , 0.        , 0.        ,\n        0.        , 0.        , 0.        , 0.        , 0.        ,\n        0.        , 0.        , 0.        , 0.        , 0.        ,\n        0.        , 0.        , 0.        , 0.        , 0.        ,\n        0.        , 0.        , 0.        , 0.        , 0.        ],\n       [0.19198962, 0.22572006, 0.25548292, 0.26227648, 0.26543434,\n        0.27852052, 0.2850122 , 0.30134739, 0.3043189 , 0.31503964,\n        0.31714105, 0.35334386, 0.36807166, 0.45218064, 0.45500242,\n        0.46645453, 0.47031436, 0.47878748, 0.48685873, 0.49469274,\n        0.50457332, 0.51648938, 0.52319744, 0.53783661, 0.54485566,\n        0.5461067 , 0.54719392, 0.56602766, 0.57533022, 0.61932042,\n        0.62037628, 0.62516234, 0.6549385 , 0.65583348, 0.66010523,\n        0.6890574 , 0.70895417, 0.71591186, 0.72386296, 0.73371164,\n        0.73746414, 0.74360634, 0.        , 0.        , 0.        ,\n        0.        , 0.        , 0.        , 0.        , 0.        ,\n        0.        , 0.        , 0.        , 0.        , 0.        ,\n        0.        , 0.        , 0.        , 0.        , 0.        ,\n        0.        , 0.        , 0.        , 0.        , 0.        ,\n        0.        , 0.        , 0.        , 0.        , 0.        ,\n        0.        , 0.        , 0.        , 0.        , 0.        ,\n        0.        , 0.        , 0.        , 0.        , 0.        ,\n        0.        , 0.        , 0.        , 0.        , 0.        ],\n       [0.14962656, 0.15072435, 0.15382132, 0.16356929, 0.18651046,\n        0.19508139, 0.20132423, 0.20149947, 0.20381081, 0.2312124 ,\n        0.23949922, 0.25423591, 0.25586065, 0.25928297, 0.26999184,\n        0.28517323, 0.30087674, 0.30168817, 0.31483534, 0.32031783,\n        0.37426177, 0.39108171, 0.39904394, 0.41764001, 0.42215694,\n        0.42736753, 0.44252229, 0.47268798, 0.48353232, 0.51304204,\n        0.52749332, 0.54776908, 0.56629554, 0.60164153, 0.61171322,\n        0.63917974, 0.64853711, 0.66404417, 0.66432869, 0.66693716,\n        0.67514172, 0.68259541, 0.68637656, 0.69618368, 0.70161457,\n        0.70258706, 0.70677771, 0.71819921, 0.72845686, 0.74526659,\n        0.75913057, 0.77793279, 0.79829712, 0.800448  , 0.80088753,\n        0.80456553, 0.81795759, 0.81852951, 0.        , 0.        ,\n        0.        , 0.        , 0.        , 0.        , 0.        ,\n        0.        , 0.        , 0.        , 0.        , 0.        ,\n        0.        , 0.        , 0.        , 0.        , 0.        ,\n        0.        , 0.        , 0.        , 0.        , 0.        ,\n        0.        , 0.        , 0.        , 0.        , 0.        ],\n       [0.23495268, 0.24103407, 0.24717151, 0.25359499, 0.26332457,\n        0.2832097 , 0.28978475, 0.29917515, 0.31866348, 0.32462538,\n        0.36966471, 0.37226484, 0.37314605, 0.38172753, 0.38653639,\n        0.39276884, 0.40469745, 0.4047792 , 0.40720706, 0.40735219,\n        0.44755489, 0.45574661, 0.47350802, 0.48233305, 0.49034697,\n        0.49279359, 0.51219309, 0.57470042, 0.58219749, 0.58619759,\n        0.59438159, 0.60206946, 0.61009265, 0.61656694, 0.61766629,\n        0.63747626, 0.65322344, 0.65501191, 0.65631769, 0.        ,\n        0.        , 0.        , 0.        , 0.        , 0.        ,\n        0.        , 0.        , 0.        , 0.        , 0.        ,\n        0.        , 0.        , 0.        , 0.        , 0.        ,\n        0.        , 0.        , 0.        , 0.        , 0.        ,\n        0.        , 0.        , 0.        , 0.        , 0.        ,\n        0.        , 0.        , 0.        , 0.        , 0.        ,\n        0.        , 0.        , 0.        , 0.        , 0.        ,\n        0.        , 0.        , 0.        , 0.        , 0.        ,\n        0.        , 0.        , 0.        , 0.        , 0.        ],\n       [0.13675764, 0.14644485, 0.16111171, 0.1647704 , 0.18304491,\n        0.18319619, 0.19475598, 0.20393382, 0.23372519, 0.24851685,\n        0.25688329, 0.25688842, 0.26120606, 0.29029465, 0.29838787,\n        0.31444796, 0.34490952, 0.35144237, 0.36596746, 0.37158618,\n        0.38007887, 0.38150144, 0.39453033, 0.4181086 , 0.42494011,\n        0.42760568, 0.44234641, 0.4561794 , 0.47449941, 0.47692257,\n        0.51405969, 0.51535096, 0.55642235, 0.57574718, 0.58592399,\n        0.6070615 , 0.61304931, 0.62344475, 0.62415418, 0.63238701,\n        0.63861417, 0.66003629, 0.66338749, 0.67724316, 0.69986631,\n        0.706624  , 0.70827538, 0.        , 0.        , 0.        ,\n        0.        , 0.        , 0.        , 0.        , 0.        ,\n        0.        , 0.        , 0.        , 0.        , 0.        ,\n        0.        , 0.        , 0.        , 0.        , 0.        ,\n        0.        , 0.        , 0.        , 0.        , 0.        ,\n        0.        , 0.        , 0.        , 0.        , 0.        ,\n        0.        , 0.        , 0.        , 0.        , 0.        ,\n        0.        , 0.        , 0.        , 0.        , 0.        ]])"
     },
     "execution_count": 11,
     "metadata": {},
     "output_type": "execute_result"
    }
   ],
   "source": [
    "obs_times"
   ],
   "metadata": {
    "collapsed": false,
    "pycharm": {
     "name": "#%%\n"
    }
   }
  },
  {
   "cell_type": "code",
   "execution_count": 12,
   "outputs": [
    {
     "data": {
      "text/plain": "array([[-13.77859553, -13.31279169, -13.02297429, -12.57227839,\n        -12.40565122, -12.15725577, -11.37210472, -11.18256133,\n        -10.49564624, -10.34441604, -10.11787951,  -9.32747582,\n         -8.65478816,  -7.26133049,  -7.12394872,  -7.02434242,\n         -6.78929875,  -4.79748238,  -4.27204902,  -2.75923882,\n         -0.86100001,  -0.26661078,   0.05675647,   1.15941423,\n          1.87044444,   2.14656221,   2.17375011,   2.19155996,\n          2.44855596,   3.54777204,   4.35681049,   4.66146148,\n          5.12008504,   5.38881601,   5.57504074,   5.79548129,\n          5.90067663,   6.00181872,   6.03107135,   6.03319873,\n          6.31849437,   0.        ,   0.        ,   0.        ,\n          0.        ,   0.        ,   0.        ,   0.        ,\n          0.        ,   0.        ,   0.        ,   0.        ,\n          0.        ,   0.        ,   0.        ,   0.        ,\n          0.        ,   0.        ,   0.        ,   0.        ,\n          0.        ,   0.        ,   0.        ,   0.        ,\n          0.        ,   0.        ,   0.        ,   0.        ,\n          0.        ,   0.        ,   0.        ,   0.        ,\n          0.        ,   0.        ,   0.        ,   0.        ,\n          0.        ,   0.        ,   0.        ,   0.        ,\n          0.        ,   0.        ,   0.        ,   0.        ,\n          0.        ],\n       [ 21.78682339,  21.95149563,  22.07650078,  22.10653281,\n         23.50707361,  23.79551139,  24.29550798,  24.41454526,\n         25.30214899,  27.51030081,  27.59969803,  27.98607964,\n         29.54547369,  29.84333033,  30.57245036,  31.24797638,\n         32.56488066,  33.7048384 ,  33.77854195,  34.57799294,\n         35.83508416,  36.15417057,  36.55682326,  37.07375522,\n         37.40363999,  37.7791932 ,  38.02195324,  38.9418074 ,\n         39.41748441,  39.56024536,  39.56778547,  39.58569828,\n         39.64519028,  39.72912493,  39.82725714,  40.32495712,\n         40.57419186,  40.75428786,  40.77302575,  40.84719549,\n          0.        ,   0.        ,   0.        ,   0.        ,\n          0.        ,   0.        ,   0.        ,   0.        ,\n          0.        ,   0.        ,   0.        ,   0.        ,\n          0.        ,   0.        ,   0.        ,   0.        ,\n          0.        ,   0.        ,   0.        ,   0.        ,\n          0.        ,   0.        ,   0.        ,   0.        ,\n          0.        ,   0.        ,   0.        ,   0.        ,\n          0.        ,   0.        ,   0.        ,   0.        ,\n          0.        ,   0.        ,   0.        ,   0.        ,\n          0.        ,   0.        ,   0.        ,   0.        ,\n          0.        ,   0.        ,   0.        ,   0.        ,\n          0.        ],\n       [ 40.06879759,  38.97707483,  38.09834463,  37.92107739,\n         37.84757913,  37.51751115,  37.37607277,  37.13941096,\n         37.11971449,  37.09463343,  37.11773618,  37.12128122,\n         37.07352754,  35.88942785,  35.8450353 ,  35.60228669,\n         35.52523649,  35.32981488,  35.12597251,  34.94840196,\n         34.65164534,  34.25507639,  33.96453839,  33.36411318,\n         33.13617558,  33.09448495,  33.05560038,  32.36664282,\n         32.01309849,  30.63359002,  30.60623214,  30.48967405,\n         29.52848891,  29.48215906,  29.26233514,  28.11461198,\n         27.46684704,  27.187687  ,  26.84190152,  26.30594027,\n         26.09118953,  25.74056782,   0.        ,   0.        ,\n          0.        ,   0.        ,   0.        ,   0.        ,\n          0.        ,   0.        ,   0.        ,   0.        ,\n          0.        ,   0.        ,   0.        ,   0.        ,\n          0.        ,   0.        ,   0.        ,   0.        ,\n          0.        ,   0.        ,   0.        ,   0.        ,\n          0.        ,   0.        ,   0.        ,   0.        ,\n          0.        ,   0.        ,   0.        ,   0.        ,\n          0.        ,   0.        ,   0.        ,   0.        ,\n          0.        ,   0.        ,   0.        ,   0.        ,\n          0.        ,   0.        ,   0.        ,   0.        ,\n          0.        ],\n       [ 10.79471089,  10.74171723,  10.60510613,  10.16572964,\n          9.21275204,   8.84732209,   8.60373022,   8.59704757,\n          8.51081879,   7.90672542,   7.79568934,   7.70296996,\n          7.70792468,   7.72544146,   7.77733848,   7.67978152,\n          7.58761673,   7.58790382,   7.58583425,   7.5654271 ,\n          7.16874595,   6.96790389,   6.88505427,   6.72722444,\n          6.68247021,   6.58827762,   6.3913888 ,   6.19671132,\n          6.21322975,   6.51814585,   6.70270241,   6.9472017 ,\n          7.17199293,   7.74164591,   7.93122739,   8.42083803,\n          8.51064964,   8.66693485,   8.67102035,   8.7091519 ,\n          8.83544451,   8.93090357,   8.9610606 ,   9.02693204,\n          9.08040011,   9.08786378,   9.11059742,   9.11070897,\n          9.05985473,   9.04665517,   9.01946706,   9.09169111,\n          8.95964451,   8.96218524,   8.96328922,   8.99445698,\n          9.15549254,   9.16008526,   0.        ,   0.        ,\n          0.        ,   0.        ,   0.        ,   0.        ,\n          0.        ,   0.        ,   0.        ,   0.        ,\n          0.        ,   0.        ,   0.        ,   0.        ,\n          0.        ,   0.        ,   0.        ,   0.        ,\n          0.        ,   0.        ,   0.        ,   0.        ,\n          0.        ,   0.        ,   0.        ,   0.        ,\n          0.        ],\n       [ 13.83075102,  13.76219806,  13.69682675,  13.60780124,\n         13.54787399,  13.29524612,  13.22013605,  13.11921901,\n         12.95191896,  12.88103044,  12.44240489,  12.44037836,\n         12.44188096,  12.43234883,  12.44035773,  12.4921205 ,\n         12.76276952,  12.76508901,  12.83208425,  12.83618489,\n         13.95097514,  14.10954067,  14.47969293,  14.70499145,\n         14.90242544,  14.95776354,  15.46262453,  17.73514141,\n         17.91042818,  17.98846266,  18.14912153,  18.27443573,\n         18.44475476,  18.58639083,  18.61447096,  19.15215882,\n         19.7893865 ,  19.87854079,  19.93908271,   0.        ,\n          0.        ,   0.        ,   0.        ,   0.        ,\n          0.        ,   0.        ,   0.        ,   0.        ,\n          0.        ,   0.        ,   0.        ,   0.        ,\n          0.        ,   0.        ,   0.        ,   0.        ,\n          0.        ,   0.        ,   0.        ,   0.        ,\n          0.        ,   0.        ,   0.        ,   0.        ,\n          0.        ,   0.        ,   0.        ,   0.        ,\n          0.        ,   0.        ,   0.        ,   0.        ,\n          0.        ,   0.        ,   0.        ,   0.        ,\n          0.        ,   0.        ,   0.        ,   0.        ,\n          0.        ,   0.        ,   0.        ,   0.        ,\n          0.        ],\n       [ 24.57905391,  24.49310943,  24.31512659,  24.27438398,\n         24.04660758,  24.04443987,  23.73873735,  23.49622308,\n         22.83046324,  22.55179898,  22.3271571 ,  22.32645559,\n         22.19365113,  21.39713152,  21.20196587,  20.87947411,\n         20.0379311 ,  19.91920727,  19.64961166,  19.53208138,\n         19.31362887,  19.27627914,  19.05260476,  19.02692245,\n         19.085413  ,  19.11160378,  19.28687374,  19.41451919,\n         19.65418552,  19.68043238,  20.37072228,  20.40458613,\n         21.32083782,  21.78008061,  22.00361535,  22.4304543 ,\n         22.52479175,  22.59447533,  22.5919054 ,  22.53245585,\n         22.43663872,  21.75539389,  21.61715356,  20.96132962,\n         19.88513738,  19.57718401,  19.49682297,   0.        ,\n          0.        ,   0.        ,   0.        ,   0.        ,\n          0.        ,   0.        ,   0.        ,   0.        ,\n          0.        ,   0.        ,   0.        ,   0.        ,\n          0.        ,   0.        ,   0.        ,   0.        ,\n          0.        ,   0.        ,   0.        ,   0.        ,\n          0.        ,   0.        ,   0.        ,   0.        ,\n          0.        ,   0.        ,   0.        ,   0.        ,\n          0.        ,   0.        ,   0.        ,   0.        ,\n          0.        ,   0.        ,   0.        ,   0.        ,\n          0.        ]])"
     },
     "execution_count": 12,
     "metadata": {},
     "output_type": "execute_result"
    }
   ],
   "source": [
    "obs_lights"
   ],
   "metadata": {
    "collapsed": false,
    "pycharm": {
     "name": "#%%\n"
    }
   }
  },
  {
   "cell_type": "code",
   "execution_count": 18,
   "outputs": [
    {
     "data": {
      "text/plain": "array([43, 51, 58, 47, 57, 49])"
     },
     "execution_count": 18,
     "metadata": {},
     "output_type": "execute_result"
    }
   ],
   "source": [
    "obs_masks.sum(axis=-1)"
   ],
   "metadata": {
    "collapsed": false,
    "pycharm": {
     "name": "#%%\n"
    }
   }
  },
  {
   "cell_type": "code",
   "execution_count": 55,
   "outputs": [
    {
     "data": {
      "text/plain": "False"
     },
     "execution_count": 55,
     "metadata": {},
     "output_type": "execute_result"
    }
   ],
   "source": [
    "(np.random.randint(low=2, high=6,size=100) ==6).any()"
   ],
   "metadata": {
    "collapsed": false,
    "pycharm": {
     "name": "#%%\n"
    }
   }
  },
  {
   "cell_type": "code",
   "execution_count": 40,
   "outputs": [
    {
     "data": {
      "text/plain": "4"
     },
     "execution_count": 40,
     "metadata": {},
     "output_type": "execute_result"
    }
   ],
   "source": [
    "length"
   ],
   "metadata": {
    "collapsed": false,
    "pycharm": {
     "name": "#%%\n"
    }
   }
  },
  {
   "cell_type": "code",
   "execution_count": 57,
   "outputs": [
    {
     "data": {
      "text/plain": "(6, 165)"
     },
     "execution_count": 57,
     "metadata": {},
     "output_type": "execute_result"
    }
   ],
   "source": [
    "time_arrays.shape"
   ],
   "metadata": {
    "collapsed": false,
    "pycharm": {
     "name": "#%%\n"
    }
   }
  },
  {
   "cell_type": "code",
   "execution_count": 35,
   "outputs": [],
   "source": [
    "from Modules.datasets.Oversampled_RDRW.Utils import Normalise\n",
    "normalize_class = Normalise(1,-1)"
   ],
   "metadata": {
    "collapsed": false,
    "pycharm": {
     "name": "#%%\n"
    }
   }
  },
  {
   "cell_type": "code",
   "execution_count": 36,
   "outputs": [
    {
     "data": {
      "text/plain": "<Figure size 2500x1000 with 1 Axes>",
      "image/png": "[encoded data removed]"
     },
     "metadata": {},
     "output_type": "display_data"
    }
   ],
   "source": [
    "plt.figure(figsize=(25,10))\n",
    "\n",
    "time_arrays,light_curves,padding_masks,label = dataset.get_item(0,1,2)\n",
    "\n",
    "years_num = 6\n",
    "time_arrays,light_curves,padding_masks = time_arrays[:years_num],light_curves[:years_num],padding_masks[:years_num]\n",
    "\n",
    "obs_times,obs_lights,obs_masks = obs_schedule.apply_observations_masks(time_arrays,light_curves,padding_masks)\n",
    "\n",
    "concat_light = obs_lights[obs_masks]\n",
    "light_bounds = (np.max(concat_light),np.min(concat_light))\n",
    "light_normalisation = normalize_class.light_curve_normalisation(*light_bounds)\n",
    "\n",
    "light_curves = normalize_class.normalise_light_curve(light_curves,*light_normalisation)\n",
    "obs_lights = normalize_class.normalise_light_curve(obs_lights,*light_normalisation)\n",
    "\n",
    "for year, (time,light,pad_mask,obs_time,obs_light,obs_mask) in enumerate(zip(time_arrays,light_curves,padding_masks,\n",
    "                                                                             obs_times,obs_lights,obs_masks)):\n",
    "\n",
    "    concat_light = obs_lights[obs_masks]\n",
    "    light_bounds = (np.max(concat_light),np.min(concat_light))\n",
    "    light_normalisation = normalize_class.light_curve_normalisation(*light_bounds)\n",
    "\n",
    "    pad_mask = pad_mask.astype(bool)\n",
    "    cont_time = (time[pad_mask]+year)*365\n",
    "    cont_light = normalize_class.normalise_light_curve(light,*light_normalisation)[pad_mask]\n",
    "\n",
    "    obs_time = (obs_time[obs_mask]+year)*365\n",
    "    obs_light = obs_light[obs_mask]\n",
    "\n",
    "    plt.plot(to_date(cont_time),cont_light,color='C0',linestyle='--')\n",
    "    plt.scatter(to_date(obs_time),obs_light,color='C1',s=20)"
   ],
   "metadata": {
    "collapsed": false,
    "pycharm": {
     "name": "#%%\n"
    }
   }
  },
  {
   "cell_type": "code",
   "execution_count": 22,
   "outputs": [],
   "source": [],
   "metadata": {
    "collapsed": false,
    "pycharm": {
     "name": "#%%\n"
    }
   }
  },
  {
   "cell_type": "code",
   "execution_count": 23,
   "outputs": [],
   "source": [],
   "metadata": {
    "collapsed": false,
    "pycharm": {
     "name": "#%%\n"
    }
   }
  },
  {
   "cell_type": "code",
   "execution_count": 26,
   "outputs": [
    {
     "data": {
      "text/plain": "array([-13.31279169, -13.30580145, -12.57227839, -12.15725577,\n       -10.49564624, -10.11787951,  -9.32747582,  -8.65478816,\n        -7.26133049,  -7.15977729,  -7.02434242,  -6.78929875,\n        -5.48919966,  -5.4076311 ,  -4.27204902,  -3.43502977,\n         0.05675647,   1.87044444,   2.44855596,   3.54777204,\n         4.35681049,   5.12008504,   5.29014613,   5.39120232,\n         5.46575161,   5.57504074,   5.79548129,   6.03319873,\n         6.38885495,   7.04129873,   7.26254126,   7.32617121,\n         7.36194048,   7.57567769,   7.78339946,   7.87332889,\n         7.9484355 ,  18.16271791,  18.70334559,  18.81527745,\n        19.29164827,  21.06345138,  22.10653281,  23.16917699,\n        23.50707361,  23.85736137,  23.99388783,  24.29550798,\n        24.57897728,  24.62084388,  27.51030081,  27.59969803,\n        28.64023908,  28.71944308,  29.84333033,  30.20320948,\n        30.51803003,  30.57245036,  31.24106265,  32.56488066,\n        32.89342271,  33.7048384 ,  35.21870589,  35.63288348,\n        36.67907455,  37.07375522,  37.64199122,  37.7791932 ,\n        38.02195324,  38.9418074 ,  38.98190441,  39.0001797 ,\n        39.03956802,  39.08593203,  39.36272327,  39.42798537,\n        39.4383565 ,  39.49696115,  39.50696268,  39.52010388,\n        39.56024536,  39.6932002 ,  39.72912493,  40.19542524,\n        40.32495712,  40.57419186,  40.64671392,  40.84719549,\n        41.06224595,  41.31435244,  41.57813721,  41.54195653,\n        40.88296689,  40.45766155,  40.37821295,  40.20377653,\n        40.10267096,  39.95208067,  39.88472751,  38.88967922,\n        37.92107739,  37.84757913,  37.37607277,  37.17249058,\n        37.13941096,  37.11971449,  37.10634634,  37.11773618,\n        37.13349111,  37.12128122,  37.0657336 ,  37.03040691,\n        36.81860762,  36.57699902,  36.411682  ,  36.25534625,\n        36.21603233,  35.62736151,  35.54700969,  35.52523649,\n        35.32981488,  34.94840196,  34.26937132,  33.96453839,\n        33.05560038,  32.86063147,  32.36664282,  32.15562331,\n        31.85283727,  31.81213312,  31.2641791 ,  30.80096995,\n        30.63359002,  30.48967405,  27.46684704,  27.1436383 ,\n        26.84190152,  26.55123173,  25.74056782,  24.94394249,\n        24.06735287,  23.32213115,  22.58858648,  22.51368384,\n        22.51093724,  22.50506866,   8.60373022,   8.51081879,\n         8.3596521 ,   7.90672542,   7.70557319,   7.72544146,\n         7.63113391,   7.58441035,   7.5960448 ,   7.58513938,\n         7.58583425,   7.36755771,   7.16874595,   6.96790389,\n         6.88505427,   6.68247021,   6.58827762,   6.35351507,\n         6.24299663,   6.22315958,   6.20811095,   6.35174829,\n         6.51814585,   6.70270241,   7.10060397,   7.22104764,\n         7.6680559 ,   7.8923933 ,   7.93122739,   8.15636471,\n         8.42083803,   8.59097428,   8.6455195 ,   8.66693485,\n         8.83544451,   8.93090357,   9.02693204,   9.08786378,\n         9.10048407,   9.11059742,   9.11114397,   9.11388272,\n         9.08208359,   9.05985473,   9.01946706,   9.04343584,\n         9.09169111,  14.57260727,  14.35551031,  14.34247389,\n        14.32373944,  13.86413095,  13.83075102,  13.76219806,\n        13.69682675,  13.54787399,  13.29524612,  13.22013605,\n        13.1184367 ,  12.95191896,  12.44240489,  12.44037836,\n        12.43234883,  12.44035773,  12.48836542,  12.4921205 ,\n        12.51802335,  12.76276952,  12.76508901,  12.83208425,\n        12.83618489,  14.06628068,  14.47969293,  14.70499145,\n        14.90242544,  14.95776354,  15.01736769,  15.44444284,\n        15.46262453,  16.38445294,  17.4913163 ,  17.50608122,\n        17.91042818,  18.14912153,  18.27443573,  18.58639083,\n        18.61447096,  19.15215882,  19.7893865 ,  19.87854079,\n        19.93908271,  20.08856552,  20.76531926,  20.90983578,\n        20.91875378,  20.94823602,  21.16787347,  21.22792409,\n        21.29280249,  21.3990069 ,  21.42794407,  22.50684556,\n        22.92822741,  23.1709892 ,  23.53927197,  23.91837619,\n        23.97395444,  22.55179898,  22.3271571 ,  22.32645559,\n        22.24172426,  21.39713152,  20.87947411,  20.74391416,\n        19.94994504,  19.58172099,  19.25293551,  19.01059813,\n        19.03281184,  19.02692245,  19.11666633,  19.32248624,\n        19.41451919,  19.42925194,  19.50107313,  19.60948256,\n        19.64519377,  19.80968855,  19.92946312,  20.04412834,\n        20.0449537 ,  20.21492762,  20.3271144 ,  20.40458613,\n        20.44595003,  21.32083782,  21.72982539,  21.78008061,\n        22.00361535,  22.11044195,  22.4304543 ,  22.59447533,\n        22.56584648,  22.53245585,  21.61715356,  20.96132962,\n        20.62180793,  20.08424687,  19.93000376,  19.88513738,\n        19.70358778,  19.57718401,  19.49682297,  17.74036586,\n        17.29257264,  15.87351251,  15.77507342,  15.65595283,\n        15.63111909,  15.54963021,  15.54234269,  15.45803827,\n        15.39998158,  15.34323113])"
     },
     "execution_count": 26,
     "metadata": {},
     "output_type": "execute_result"
    }
   ],
   "source": [],
   "metadata": {
    "collapsed": false,
    "pycharm": {
     "name": "#%%\n"
    }
   }
  },
  {
   "cell_type": "code",
   "execution_count": 28,
   "outputs": [],
   "source": [
    "concat_light = obs_lights[obs_masks]\n",
    "light_bounds = (np.max(concat_light),np.min(concat_light))\n",
    "light_normalisation = normalize_class.light_curve_normalisation(*light_bounds)"
   ],
   "metadata": {
    "collapsed": false,
    "pycharm": {
     "name": "#%%\n"
    }
   }
  },
  {
   "cell_type": "markdown",
   "source": [],
   "metadata": {
    "collapsed": false,
    "pycharm": {
     "name": "#%% md\n"
    }
   }
  },
  {
   "cell_type": "code",
   "execution_count": 31,
   "outputs": [],
   "source": [
    "q = normalize_class.normalise_light_curve(obs_lights,*light_normalisation)\n",
    "p = normalize_class.normalise_light_curve(light_curves,*light_normalisation)"
   ],
   "metadata": {
    "collapsed": false,
    "pycharm": {
     "name": "#%%\n"
    }
   }
  },
  {
   "cell_type": "code",
   "execution_count": 32,
   "outputs": [
    {
     "data": {
      "text/plain": "array([[-1.        , -0.9997453 , -0.97301874, -0.95789702, -0.89735479,\n        -0.88359052, -0.85479146, -0.83028148, -0.77950961, -0.77580943,\n        -0.77087474, -0.76231071, -0.71494044, -0.71196842, -0.67059247,\n        -0.64009493, -0.51286858, -0.44678524, -0.42572123, -0.38567031,\n        -0.35619227, -0.32838168, -0.32218535, -0.31850328, -0.31578701,\n        -0.31180496, -0.30377301, -0.29511157, -0.28215292, -0.25838054,\n        -0.25031937, -0.24800096, -0.24669768, -0.23890997, -0.23134144,\n        -0.22806478, -0.22532821, -0.51493655, -0.51493655, -0.51493655,\n        -0.51493655, -0.51493655, -0.51493655, -0.51493655, -0.51493655,\n        -0.51493655, -0.51493655, -0.51493655, -0.51493655, -0.51493655,\n        -0.51493655, -0.51493655, -0.51493655, -0.51493655, -0.51493655,\n        -0.51493655, -0.51493655, -0.51493655, -0.51493655, -0.51493655,\n        -0.51493655, -0.51493655, -0.51493655, -0.51493655, -0.51493655,\n        -0.51493655, -0.51493655, -0.51493655, -0.51493655, -0.51493655,\n        -0.51493655, -0.51493655, -0.51493655, -0.51493655, -0.51493655,\n        -0.51493655, -0.51493655, -0.51493655, -0.51493655, -0.51493655,\n        -0.51493655, -0.51493655, -0.51493655, -0.51493655, -0.51493655],\n       [ 0.14683829,  0.16653655,  0.17061488,  0.18797188,  0.25252911,\n         0.29053471,  0.3292531 ,  0.34156466,  0.35432771,  0.35930218,\n         0.37029197,  0.38062043,  0.38214588,  0.48742582,  0.49068309,\n         0.52859613,  0.531482  ,  0.57243183,  0.58554435,  0.59701512,\n         0.59899797,  0.62335946,  0.67159395,  0.68356467,  0.71312933,\n         0.76828844,  0.78337937,  0.82149828,  0.83587882,  0.85658301,\n         0.86158208,  0.87042726,  0.90394297,  0.90540394,  0.90606982,\n         0.90750497,  0.90919428,  0.91927942,  0.9216573 ,  0.92203518,\n         0.92417049,  0.92453491,  0.92501372,  0.92647631,  0.93132064,\n         0.93262959,  0.94961965,  0.95433926,  0.96342035,  0.96606276,\n         0.97336749,  0.98120304,  0.99038877,  1.        , -0.51493655,\n        -0.51493655, -0.51493655, -0.51493655, -0.51493655, -0.51493655,\n        -0.51493655, -0.51493655, -0.51493655, -0.51493655, -0.51493655,\n        -0.51493655, -0.51493655, -0.51493655, -0.51493655, -0.51493655,\n        -0.51493655, -0.51493655, -0.51493655, -0.51493655, -0.51493655,\n        -0.51493655, -0.51493655, -0.51493655, -0.51493655, -0.51493655,\n        -0.51493655, -0.51493655, -0.51493655, -0.51493655, -0.51493655],\n       [ 0.99868172,  0.97467085,  0.95917447,  0.95627969,  0.94992394,\n         0.94624007,  0.94075318,  0.93829911,  0.90204363,  0.86675176,\n         0.86407379,  0.84689403,  0.83947633,  0.83827105,  0.83755339,\n         0.83706631,  0.83748131,  0.83805535,  0.83761047,  0.83558655,\n         0.83429939,  0.82658229,  0.81777906,  0.81175559,  0.80605936,\n         0.80462692,  0.78317817,  0.78025048,  0.77945716,  0.7723368 ,\n         0.75843968,  0.73369859,  0.72259173,  0.68947376,  0.6823699 ,\n         0.66437098,  0.65668229,  0.64565001,  0.64416692,  0.62420173,\n         0.60732429,  0.60122565,  0.59598195,  0.48584254,  0.47406615,\n         0.4630721 ,  0.45248128,  0.42294402,  0.39391826,  0.36197894,\n         0.33482612,  0.30809877,  0.30536962,  0.30526955,  0.30505572,\n        -0.51493655, -0.51493655, -0.51493655, -0.51493655, -0.51493655,\n        -0.51493655, -0.51493655, -0.51493655, -0.51493655, -0.51493655,\n        -0.51493655, -0.51493655, -0.51493655, -0.51493655, -0.51493655,\n        -0.51493655, -0.51493655, -0.51493655, -0.51493655, -0.51493655,\n        -0.51493655, -0.51493655, -0.51493655, -0.51493655, -0.51493655,\n        -0.51493655, -0.51493655, -0.51493655, -0.51493655, -0.51493655],\n       [-0.20145196, -0.20483727, -0.21034516, -0.22684795, -0.23417711,\n        -0.23345319, -0.23688937, -0.23859179, -0.23816788, -0.23856522,\n        -0.23853991, -0.24649301, -0.25373689, -0.26105475, -0.26407345,\n        -0.27145478, -0.27488677, -0.28344056, -0.28746739, -0.28819017,\n        -0.28873848, -0.28350493, -0.27744209, -0.2707176 , -0.2562197 ,\n        -0.25183123, -0.23554409, -0.22737015, -0.2259552 , -0.21775212,\n        -0.2081158 , -0.20191673, -0.19992933, -0.19914904, -0.19300924,\n        -0.1895311 , -0.18603222, -0.18381212, -0.18335229, -0.1829838 ,\n        -0.18296388, -0.1828641 , -0.18402273, -0.18483265, -0.18630421,\n        -0.18543089, -0.18367267, -0.51493655, -0.51493655, -0.51493655,\n        -0.51493655, -0.51493655, -0.51493655, -0.51493655, -0.51493655,\n        -0.51493655, -0.51493655, -0.51493655, -0.51493655, -0.51493655,\n        -0.51493655, -0.51493655, -0.51493655, -0.51493655, -0.51493655,\n        -0.51493655, -0.51493655, -0.51493655, -0.51493655, -0.51493655,\n        -0.51493655, -0.51493655, -0.51493655, -0.51493655, -0.51493655,\n        -0.51493655, -0.51493655, -0.51493655, -0.51493655, -0.51493655,\n        -0.51493655, -0.51493655, -0.51493655, -0.51493655, -0.51493655],\n       [ 0.01602941,  0.00811928,  0.00764429,  0.00696168, -0.00978456,\n        -0.01100079, -0.01349858, -0.01588044, -0.02130767, -0.03051239,\n        -0.03324909, -0.0369546 , -0.04302182, -0.06158642, -0.06166026,\n        -0.06195282, -0.06166101, -0.05991181, -0.05977499, -0.05883119,\n        -0.04991365, -0.04982914, -0.0473881 , -0.04723869, -0.00241905,\n         0.01264399,  0.02085294,  0.02804663,  0.03006292,  0.03223465,\n         0.04779551,  0.04845798,  0.08204562,  0.12237518,  0.12291315,\n         0.13764589,  0.1463429 ,  0.15090883,  0.16227519,  0.16329832,\n         0.18288946,  0.20610742,  0.20935583,  0.21156173,  0.21700827,\n         0.2416664 ,  0.24693198,  0.24725692,  0.24833113,  0.25633382,\n         0.25852182,  0.26088572,  0.26475537,  0.26580972,  0.30512046,\n         0.32047389,  0.32931913,  0.34273784,  0.35655084,  0.35857588,\n        -0.51493655, -0.51493655, -0.51493655, -0.51493655, -0.51493655,\n        -0.51493655, -0.51493655, -0.51493655, -0.51493655, -0.51493655,\n        -0.51493655, -0.51493655, -0.51493655, -0.51493655, -0.51493655,\n        -0.51493655, -0.51493655, -0.51493655, -0.51493655, -0.51493655,\n        -0.51493655, -0.51493655, -0.51493655, -0.51493655, -0.51493655],\n       [ 0.30675838,  0.29857335,  0.29854779,  0.29546053,  0.26468704,\n         0.24582573,  0.24088648,  0.21195751,  0.19854094,  0.18656134,\n         0.17773157,  0.17854094,  0.17832636,  0.18159626,  0.18909549,\n         0.19244879,  0.19298559,  0.19560246,  0.19955245,  0.20085362,\n         0.20684714,  0.21121123,  0.21538916,  0.21541923,  0.22161239,\n         0.22570001,  0.22852276,  0.23002989,  0.26190721,  0.27680904,\n         0.27864013,  0.28678482,  0.29067714,  0.30233708,  0.30831333,\n         0.30727021,  0.3060536 ,  0.27270374,  0.24880821,  0.23643743,\n         0.21685092,  0.21123093,  0.20959618,  0.20298126,  0.19837563,\n         0.1954476 ,  0.13144952,  0.11513377,  0.06342905,  0.05984233,\n         0.05550207,  0.05459723,  0.05162811,  0.05136258,  0.04829088,\n         0.04617553,  0.04410777, -0.51493655, -0.51493655, -0.51493655,\n        -0.51493655, -0.51493655, -0.51493655, -0.51493655, -0.51493655,\n        -0.51493655, -0.51493655, -0.51493655, -0.51493655, -0.51493655,\n        -0.51493655, -0.51493655, -0.51493655, -0.51493655, -0.51493655,\n        -0.51493655, -0.51493655, -0.51493655, -0.51493655, -0.51493655,\n        -0.51493655, -0.51493655, -0.51493655, -0.51493655, -0.51493655]])"
     },
     "execution_count": 32,
     "metadata": {},
     "output_type": "execute_result"
    }
   ],
   "source": [
    "q"
   ],
   "metadata": {
    "collapsed": false,
    "pycharm": {
     "name": "#%%\n"
    }
   }
  },
  {
   "cell_type": "code",
   "execution_count": 33,
   "outputs": [
    {
     "data": {
      "text/plain": "array([[-1.10895604e+00, -1.09784234e+00, -1.09729706e+00,\n        -1.09653472e+00, -1.09566346e+00, -1.09251150e+00,\n        -1.08992595e+00, -1.09280100e+00, -1.09550069e+00,\n        -1.09774846e+00, -1.09980120e+00, -1.09911979e+00,\n        -1.09843730e+00, -1.09786709e+00, -1.09739900e+00,\n        -1.09383143e+00, -1.09344705e+00, -1.09290696e+00,\n        -1.08803178e+00, -1.08721448e+00, -1.07474106e+00,\n        -1.07324914e+00, -1.07006487e+00, -1.06832274e+00,\n        -1.05473274e+00, -1.05150213e+00, -1.04790319e+00,\n        -1.04301016e+00, -1.02475965e+00, -1.02461481e+00,\n        -1.01697198e+00, -1.00000000e+00, -9.99745304e-01,\n        -9.93316679e-01, -9.89440245e-01, -9.73018737e-01,\n        -9.66947527e-01, -9.57897017e-01, -9.52892460e-01,\n        -9.43646076e-01, -9.40394018e-01, -9.40322645e-01,\n        -9.32473781e-01, -9.29289338e-01, -9.22383155e-01,\n        -8.97354791e-01, -8.91844583e-01, -8.88750255e-01,\n        -8.83590522e-01, -8.54791459e-01, -8.30281483e-01,\n        -8.14044066e-01, -7.79509609e-01, -7.75809427e-01,\n        -7.74503981e-01, -7.70874737e-01, -7.65260275e-01,\n        -7.62310711e-01, -7.47267529e-01, -7.39435666e-01,\n        -7.14940440e-01, -7.11968416e-01, -6.93960356e-01,\n        -6.89737103e-01, -6.76976205e-01, -6.70592469e-01,\n        -6.69742934e-01, -6.65929816e-01, -6.50128256e-01,\n        -6.40094926e-01, -6.29208380e-01, -6.26475339e-01,\n        -6.15471879e-01, -5.46307854e-01, -5.24650751e-01,\n        -5.12868577e-01, -4.72692257e-01, -4.46785236e-01,\n        -4.37047515e-01, -4.36724639e-01, -4.35734024e-01,\n        -4.35085106e-01, -4.29648088e-01, -4.25721227e-01,\n        -3.85670308e-01, -3.83983269e-01, -3.56192270e-01,\n        -3.45092039e-01, -3.33690657e-01, -3.28381680e-01,\n        -3.22185352e-01, -3.18590227e-01, -3.18503280e-01,\n        -3.15787010e-01, -3.11804963e-01, -3.03773015e-01,\n        -2.99940128e-01, -2.96254926e-01, -2.95189080e-01,\n        -2.95111567e-01, -2.84716566e-01, -2.82152915e-01,\n        -2.61150852e-01, -2.60157895e-01, -2.58380544e-01,\n        -2.55907097e-01, -2.50319375e-01, -2.48496059e-01,\n        -2.48000961e-01, -2.46697675e-01, -2.44452345e-01,\n        -2.38909969e-01, -2.31341441e-01, -2.30699433e-01,\n        -2.30601202e-01, -2.28064782e-01, -2.25328206e-01,\n        -2.25320956e-01, -2.23380267e-01, -2.20806893e-01,\n        -2.19318561e-01, -2.14752732e-01, -2.14289846e-01,\n        -2.14262535e-01, -2.15151094e-01, -2.16306205e-01,\n        -2.11927079e-01, -2.05350981e-01, -1.95972822e-01,\n        -1.87951173e-01, -1.84912642e-01, -1.75699334e-01,\n        -1.62969372e-01, -1.57594314e-01, -1.33245248e-01,\n        -1.30536680e-01, -1.16971038e-01, -1.13832232e-01,\n        -1.00074751e-01, -9.38900847e-02, -7.59681347e-02,\n        -7.17388120e-02, -6.98668863e-02, -5.72385973e-02,\n        -5.41877906e-02, -4.44105689e-02, -5.14936550e-01,\n        -5.14936550e-01, -5.14936550e-01, -5.14936550e-01,\n        -5.14936550e-01, -5.14936550e-01, -5.14936550e-01,\n        -5.14936550e-01, -5.14936550e-01, -5.14936550e-01,\n        -5.14936550e-01, -5.14936550e-01, -5.14936550e-01,\n        -5.14936550e-01, -5.14936550e-01, -5.14936550e-01,\n        -5.14936550e-01, -5.14936550e-01, -5.14936550e-01],\n       [-3.62548300e-02, -3.46067735e-02, -3.31460765e-02,\n        -3.19414765e-02, -3.11006558e-02, -2.83847180e-02,\n        -2.82094678e-02, -2.75372462e-02, -2.21786821e-02,\n        -1.61759736e-02, -1.58115010e-02, -1.46391619e-02,\n        -1.35227745e-02, -3.18290275e-03,  1.55912894e-03,\n         5.67036820e-03,  7.56817737e-03,  1.46597575e-02,\n         1.65350007e-02,  2.52636339e-02,  2.76238063e-02,\n         3.09648656e-02,  3.17171860e-02,  5.87955788e-02,\n         6.02827586e-02,  6.22453281e-02,  6.77214119e-02,\n         7.31551541e-02,  7.47297064e-02,  8.78232074e-02,\n         9.01855736e-02,  1.00648254e-01,  1.14296942e-01,\n         1.17082403e-01,  1.29573416e-01,  1.46838293e-01,\n         1.57326983e-01,  1.66536545e-01,  1.70614882e-01,\n         1.87971878e-01,  2.27735988e-01,  2.34643887e-01,\n         2.51866566e-01,  2.52529107e-01,  2.76313117e-01,\n         2.78885812e-01,  2.84885791e-01,  2.89440466e-01,\n         2.90534710e-01,  3.22238041e-01,  3.29253099e-01,\n         3.41564664e-01,  3.52074152e-01,  3.54327711e-01,\n         3.58067277e-01,  3.59302175e-01,  3.70291974e-01,\n         3.74629204e-01,  3.80620431e-01,  3.82145878e-01,\n         4.05164757e-01,  4.06969838e-01,  4.87425821e-01,\n         4.90683089e-01,  5.04761248e-01,  5.05469522e-01,\n         5.28596131e-01,  5.31481999e-01,  5.41112594e-01,\n         5.59699581e-01,  5.61579162e-01,  5.69922665e-01,\n         5.72431835e-01,  5.85544353e-01,  5.97015121e-01,\n         5.98997974e-01,  6.23359460e-01,  6.23611367e-01,\n         6.44810518e-01,  6.53016604e-01,  6.58540710e-01,\n         6.71593951e-01,  6.83564674e-01,  7.13129329e-01,\n         7.15784165e-01,  7.15814783e-01,  7.44943494e-01,\n         7.68288442e-01,  7.83379372e-01,  7.90746735e-01,\n         8.02372933e-01,  8.17043943e-01,  8.21498278e-01,\n         8.35878821e-01,  8.47898467e-01,  8.56583007e-01,\n         8.61582083e-01,  8.70403036e-01,  8.70427262e-01,\n         8.81772410e-01,  9.03942970e-01,  9.05403940e-01,\n         9.06069817e-01,  9.07504965e-01,  9.09194279e-01,\n         9.19279415e-01,  9.21274686e-01,  9.21657298e-01,\n         9.21795436e-01,  9.22035179e-01,  9.23849104e-01,\n         9.24170492e-01,  9.24534907e-01,  9.25013718e-01,\n         9.26476309e-01,  9.26751039e-01,  9.27403709e-01,\n         9.29571353e-01,  9.29894091e-01,  9.31320637e-01,\n         9.32629587e-01,  9.36205121e-01,  9.49619655e-01,\n         9.54339265e-01,  9.63420355e-01,  9.66062761e-01,\n         9.69982313e-01,  9.70665045e-01,  9.73367486e-01,\n         9.81203041e-01,  9.84296837e-01,  9.90388766e-01,\n         9.92572452e-01,  9.95180168e-01,  1.00000000e+00,\n         1.00011008e+00,  1.00235870e+00,  1.02018914e+00,\n         1.02412449e+00,  1.02512258e+00,  1.03320745e+00,\n         1.03428873e+00,  1.04006699e+00,  1.04322435e+00,\n         1.05301172e+00,  1.05393246e+00,  1.05136718e+00,\n         1.05133207e+00,  1.04221209e+00,  1.04205866e+00,\n         1.04137037e+00,  1.04201270e+00,  1.04202375e+00,\n         1.04398154e+00,  1.04642096e+00, -5.14936550e-01,\n        -5.14936550e-01, -5.14936550e-01, -5.14936550e-01,\n        -5.14936550e-01, -5.14936550e-01, -5.14936550e-01,\n        -5.14936550e-01, -5.14936550e-01, -5.14936550e-01],\n       [ 1.04797393e+00,  1.04895665e+00,  1.05296908e+00,\n         1.05317829e+00,  1.05314557e+00,  1.05181572e+00,\n         1.04822379e+00,  1.04698941e+00,  1.04297268e+00,\n         1.04185887e+00,  1.03836702e+00,  1.03667684e+00,\n         1.03430755e+00,  1.03362727e+00,  1.01710612e+00,\n         1.01479848e+00,  1.01407576e+00,  1.01304046e+00,\n         1.01295970e+00,  1.00456362e+00,  9.98681724e-01,\n         9.87101989e-01,  9.82490856e-01,  9.74670849e-01,\n         9.68178052e-01,  9.59174469e-01,  9.56279688e-01,\n         9.49923942e-01,  9.48566551e-01,  9.46240070e-01,\n         9.45005863e-01,  9.40753178e-01,  9.38299106e-01,\n         9.33838040e-01,  9.05227970e-01,  9.02043633e-01,\n         8.73210651e-01,  8.66751760e-01,  8.64073786e-01,\n         8.52047464e-01,  8.46894031e-01,  8.45539117e-01,\n         8.39476332e-01,  8.38271046e-01,  8.37553388e-01,\n         8.37066307e-01,  8.36639537e-01,  8.37481306e-01,\n         8.38055351e-01,  8.38017994e-01,  8.38134693e-01,\n         8.38176479e-01,  8.37610473e-01,  8.35870525e-01,\n         8.35586546e-01,  8.34299386e-01,  8.28252556e-01,\n         8.26582290e-01,  8.17779065e-01,  8.16241680e-01,\n         8.11755592e-01,  8.06059359e-01,  8.04706178e-01,\n         8.04626921e-01,  8.02325180e-01,  7.92726796e-01,\n         7.91109313e-01,  7.83178175e-01,  7.82264551e-01,\n         7.80250484e-01,  7.79457158e-01,  7.72336797e-01,\n         7.64909619e-01,  7.58439677e-01,  7.56379432e-01,\n         7.47627085e-01,  7.45588290e-01,  7.41245396e-01,\n         7.37420259e-01,  7.33698590e-01,  7.33177741e-01,\n         7.22591729e-01,  7.09344701e-01,  7.00714701e-01,\n         6.92409591e-01,  6.90890556e-01,  6.89473762e-01,\n         6.82369895e-01,  6.64370978e-01,  6.62535148e-01,\n         6.56682294e-01,  6.51489275e-01,  6.45650014e-01,\n         6.44166922e-01,  6.40795146e-01,  6.38448946e-01,\n         6.24201728e-01,  6.11537080e-01,  6.07324289e-01,\n         6.01225652e-01,  6.00228843e-01,  5.95981945e-01,\n         5.94105011e-01,  5.81502069e-01,  5.71705891e-01,\n         5.60960307e-01,  5.59272237e-01,  5.51262756e-01,\n         5.09444438e-01,  4.85842544e-01,  4.75671099e-01,\n         4.74066145e-01,  4.63072096e-01,  4.52481283e-01,\n         4.43543870e-01,  4.35719235e-01,  4.22944020e-01,\n         3.93918264e-01,  3.73903081e-01,  3.61978939e-01,\n         3.34826120e-01,  3.34417169e-01,  3.11729772e-01,\n         3.11482789e-01,  3.10457421e-01,  3.08483687e-01,\n         3.08098765e-01,  3.05369621e-01,  3.05269546e-01,\n         3.05098265e-01,  3.05055719e-01,  3.04425363e-01,\n         3.03708915e-01,  3.03586449e-01,  3.03719687e-01,\n         3.03351126e-01,  3.02597383e-01,  2.98173601e-01,\n         2.96084099e-01,  2.93681317e-01,  2.93604155e-01,\n         2.90160894e-01,  2.88174142e-01,  2.86748253e-01,\n         2.83470155e-01,  2.80574840e-01,  2.76641834e-01,\n         2.53408065e-01,  2.50390513e-01,  2.41185118e-01,\n         2.34393254e-01,  2.15773988e-01,  2.11618331e-01,\n         2.08781713e-01,  1.80537359e-01,  1.79961521e-01,\n        -5.14936550e-01, -5.14936550e-01, -5.14936550e-01,\n        -5.14936550e-01, -5.14936550e-01, -5.14936550e-01,\n        -5.14936550e-01, -5.14936550e-01, -5.14936550e-01],\n       [ 1.46910288e-01,  1.37929694e-01,  1.31108231e-01,\n         6.00383179e-02,  5.92485472e-02,  4.93353949e-02,\n         4.88856670e-02,  3.68996726e-02,  3.39002279e-02,\n         1.89507514e-02, -4.01148862e-02, -6.52421394e-02,\n        -7.23942957e-02, -8.79653626e-02, -1.05336006e-01,\n        -1.12588458e-01, -1.21621621e-01, -1.23552492e-01,\n        -1.28530040e-01, -1.30052018e-01, -1.44539114e-01,\n        -1.51691633e-01, -1.58422613e-01, -1.79261704e-01,\n        -1.87400965e-01, -1.92576470e-01, -1.95625938e-01,\n        -1.96345133e-01, -2.01451958e-01, -2.01695446e-01,\n        -2.04837269e-01, -2.10345162e-01, -2.26847950e-01,\n        -2.27256151e-01, -2.30893649e-01, -2.32821324e-01,\n        -2.34271962e-01, -2.34177111e-01, -2.34091432e-01,\n        -2.33453193e-01, -2.31562279e-01, -2.31600566e-01,\n        -2.33462646e-01, -2.34374389e-01, -2.35116854e-01,\n        -2.35169448e-01, -2.36119069e-01, -2.36889373e-01,\n        -2.38591787e-01, -2.38578924e-01, -2.38468590e-01,\n        -2.38474960e-01, -2.38464500e-01, -2.38167876e-01,\n        -2.38565224e-01, -2.38539906e-01, -2.39283459e-01,\n        -2.46493007e-01, -2.49054100e-01, -2.53736891e-01,\n        -2.61054750e-01, -2.61112822e-01, -2.61259366e-01,\n        -2.63140387e-01, -2.64073450e-01, -2.69824121e-01,\n        -2.71454782e-01, -2.74886773e-01, -2.82060593e-01,\n        -2.83440556e-01, -2.87467394e-01, -2.87835062e-01,\n        -2.88190174e-01, -2.88667431e-01, -2.89153840e-01,\n        -2.89057623e-01, -2.88738484e-01, -2.88641151e-01,\n        -2.88551977e-01, -2.84128571e-01, -2.83504930e-01,\n        -2.81990331e-01, -2.79630888e-01, -2.77442086e-01,\n        -2.77260301e-01, -2.70717603e-01, -2.61809053e-01,\n        -2.56219705e-01, -2.55104023e-01, -2.53618584e-01,\n        -2.52773799e-01, -2.51831232e-01, -2.35544087e-01,\n        -2.32862769e-01, -2.27370153e-01, -2.25955199e-01,\n        -2.17752120e-01, -2.15829823e-01, -2.08115798e-01,\n        -2.04843432e-01, -2.01916732e-01, -1.99929328e-01,\n        -1.99149040e-01, -1.99000182e-01, -1.97610825e-01,\n        -1.97478118e-01, -1.93009241e-01, -1.89531104e-01,\n        -1.88432306e-01, -1.86032222e-01, -1.84172743e-01,\n        -1.84084065e-01, -1.83812119e-01, -1.83352288e-01,\n        -1.82983799e-01, -1.82963885e-01, -1.82864096e-01,\n        -1.82979734e-01, -1.84022726e-01, -1.84832654e-01,\n        -1.84728595e-01, -1.85292803e-01, -1.85313592e-01,\n        -1.86304215e-01, -1.85430891e-01, -1.83672667e-01,\n        -1.88483903e-01, -1.88490318e-01, -1.88391329e-01,\n        -1.88351104e-01, -1.87215480e-01, -1.81348005e-01,\n        -1.81180665e-01, -1.79630430e-01, -1.79318802e-01,\n        -1.74538152e-01, -1.65093300e-01, -1.64788168e-01,\n        -1.60597408e-01, -1.58872269e-01, -1.35770252e-01,\n        -1.12062440e-01, -1.08818431e-01, -9.84658674e-02,\n        -9.76770791e-02, -8.82465790e-02, -8.52233395e-02,\n        -8.37351820e-02, -6.65959685e-02, -5.79182810e-02,\n        -5.74455313e-02, -3.93096502e-02, -2.78435940e-02,\n        -5.14936550e-01, -5.14936550e-01, -5.14936550e-01,\n        -5.14936550e-01, -5.14936550e-01, -5.14936550e-01,\n        -5.14936550e-01, -5.14936550e-01, -5.14936550e-01,\n        -5.14936550e-01, -5.14936550e-01, -5.14936550e-01],\n       [-1.86023902e-02, -5.60730919e-03, -2.94051511e-03,\n         4.40680399e-03,  1.62685154e-02,  1.66379386e-02,\n         1.75664599e-02,  2.84219680e-02,  3.08653342e-02,\n         3.18231275e-02,  3.22793103e-02,  3.25836255e-02,\n         3.15906414e-02,  3.10437020e-02,  3.09848259e-02,\n         2.97073376e-02,  2.96927404e-02,  2.75268874e-02,\n         2.04667459e-02,  1.85989792e-02,  1.69059810e-02,\n         1.60294066e-02,  1.34235262e-02,  1.04909363e-02,\n         1.05685930e-02,  8.92556342e-03,  8.19119299e-03,\n         8.11928500e-03,  8.16531681e-03,  7.64429141e-03,\n         7.27017415e-03,  6.96168488e-03,  6.60395900e-03,\n         3.18651114e-03,  6.02246609e-04, -9.78456089e-03,\n        -1.10007883e-02, -1.34985767e-02, -1.58804386e-02,\n        -1.91241625e-02, -1.93095004e-02, -2.13076653e-02,\n        -3.05123872e-02, -3.25084882e-02, -3.32490900e-02,\n        -3.69260922e-02, -3.69545964e-02, -3.77316484e-02,\n        -4.30218190e-02, -4.56047054e-02, -5.35596827e-02,\n        -5.52065331e-02, -5.79232734e-02, -6.15864190e-02,\n        -6.16602573e-02, -6.16055090e-02, -6.19528204e-02,\n        -6.16571212e-02, -6.16610092e-02, -5.99118060e-02,\n        -5.97749865e-02, -5.88311928e-02, -4.99136476e-02,\n        -4.98291351e-02, -4.73881037e-02, -4.72386931e-02,\n        -6.62031527e-03, -2.41905497e-03, -8.42838566e-04,\n         1.26439895e-02,  1.71268163e-02,  2.08529424e-02,\n         2.61182418e-02,  2.80466261e-02,  3.00629189e-02,\n         3.22346496e-02,  3.33354448e-02,  3.86579437e-02,\n         4.77955137e-02,  4.84579798e-02,  8.20456210e-02,\n         9.73417594e-02,  1.12975666e-01,  1.22375176e-01,\n         1.22913149e-01,  1.27328500e-01,  1.31259161e-01,\n         1.37645891e-01,  1.40489147e-01,  1.46342897e-01,\n         1.50908831e-01,  1.57114557e-01,  1.62275194e-01,\n         1.63298318e-01,  1.73065588e-01,  1.82889456e-01,\n         2.06107415e-01,  2.09355831e-01,  2.11561730e-01,\n         2.17008270e-01,  2.20898237e-01,  2.36350405e-01,\n         2.41666397e-01,  2.46135283e-01,  2.46931985e-01,\n         2.47074889e-01,  2.47256920e-01,  2.48331132e-01,\n         2.49005696e-01,  2.54567201e-01,  2.56333819e-01,\n         2.58521817e-01,  2.60885719e-01,  2.61197829e-01,\n         2.62137750e-01,  2.64755371e-01,  2.65714523e-01,\n         2.65809723e-01,  2.73390313e-01,  2.84648615e-01,\n         2.87650424e-01,  3.00927234e-01,  3.05120462e-01,\n         3.20473886e-01,  3.29319128e-01,  3.36007596e-01,\n         3.37678437e-01,  3.42737840e-01,  3.56550841e-01,\n         3.58575884e-01,  3.67519762e-01,  3.69732422e-01,\n         3.69260607e-01,  3.70448170e-01,  3.71604847e-01,\n         3.71779076e-01,  3.80240487e-01,  3.80970995e-01,\n         3.85867025e-01,  3.89972262e-01,  3.91895609e-01,\n         3.92501661e-01,  3.96584209e-01,  4.01796922e-01,\n         4.07554691e-01,  4.10824185e-01,  4.17640494e-01,\n         4.18025832e-01,  4.18065760e-01,  4.18340140e-01,\n         4.18408797e-01, -5.14936550e-01, -5.14936550e-01,\n        -5.14936550e-01, -5.14936550e-01, -5.14936550e-01,\n        -5.14936550e-01, -5.14936550e-01, -5.14936550e-01,\n        -5.14936550e-01, -5.14936550e-01, -5.14936550e-01,\n        -5.14936550e-01, -5.14936550e-01, -5.14936550e-01],\n       [ 4.14928322e-01,  4.15267744e-01,  4.06236410e-01,\n         4.01913377e-01,  4.00926581e-01,  4.00588558e-01,\n         3.98705468e-01,  3.98195752e-01,  3.93827965e-01,\n         3.92254131e-01,  3.87390439e-01,  3.82045658e-01,\n         3.81702781e-01,  3.80623223e-01,  3.79099837e-01,\n         3.77491760e-01,  3.73452173e-01,  3.71006796e-01,\n         3.69522302e-01,  3.68945695e-01,  3.61223066e-01,\n         3.61144084e-01,  3.50005539e-01,  3.48535031e-01,\n         3.41169315e-01,  3.38704920e-01,  3.18893930e-01,\n         3.18134901e-01,  3.16911761e-01,  3.06758380e-01,\n         3.01448078e-01,  2.98573353e-01,  2.98547792e-01,\n         2.96656765e-01,  2.95460531e-01,  2.93708944e-01,\n         2.76976111e-01,  2.64687040e-01,  2.57576006e-01,\n         2.55178199e-01,  2.45825730e-01,  2.40886483e-01,\n         2.38020544e-01,  2.35788699e-01,  2.18097890e-01,\n         2.15163360e-01,  2.11957509e-01,  2.10837551e-01,\n         2.01014594e-01,  1.98540937e-01,  1.96732273e-01,\n         1.88772761e-01,  1.87411891e-01,  1.86561344e-01,\n         1.79262115e-01,  1.77731566e-01,  1.78540942e-01,\n         1.78409503e-01,  1.78326357e-01,  1.80457512e-01,\n         1.81411797e-01,  1.81596255e-01,  1.87797914e-01,\n         1.89095487e-01,  1.92448790e-01,  1.92985591e-01,\n         1.95602460e-01,  1.97978995e-01,  1.99552454e-01,\n         1.99920048e-01,  2.00853624e-01,  2.01181247e-01,\n         2.02137574e-01,  2.06847138e-01,  2.11211232e-01,\n         2.15389161e-01,  2.15419234e-01,  2.21612386e-01,\n         2.25700011e-01,  2.27288903e-01,  2.28522763e-01,\n         2.30029893e-01,  2.43343265e-01,  2.61907211e-01,\n         2.76809039e-01,  2.78640132e-01,  2.86784820e-01,\n         2.90677143e-01,  2.99285176e-01,  3.02337078e-01,\n         3.05774347e-01,  3.08313331e-01,  3.08219693e-01,\n         3.07270213e-01,  3.06053596e-01,  3.02562413e-01,\n         2.77740650e-01,  2.72703740e-01,  2.67076476e-01,\n         2.48808209e-01,  2.36437433e-01,  2.30342608e-01,\n         2.16850916e-01,  2.11230931e-01,  2.09596184e-01,\n         2.02981262e-01,  1.98375628e-01,  1.95447602e-01,\n         1.65544960e-01,  1.52459164e-01,  1.43102533e-01,\n         1.31449519e-01,  1.25155895e-01,  1.15133773e-01,\n         9.79008458e-02,  8.75625869e-02,  8.66497242e-02,\n         8.50604122e-02,  8.46873855e-02,  6.98092646e-02,\n         6.86915280e-02,  6.38163513e-02,  6.34290504e-02,\n         6.24050848e-02,  5.98423343e-02,  5.94765611e-02,\n         5.77684771e-02,  5.55020692e-02,  5.45972295e-02,\n         5.29969927e-02,  5.16281096e-02,  5.13625823e-02,\n         4.82908755e-02,  4.76169705e-02,  4.61755281e-02,\n         4.41077750e-02,  4.27572802e-02,  3.91565933e-02,\n         3.75505235e-02,  3.57878144e-02,  2.68677631e-02,\n         2.54192042e-02,  2.18344629e-02,  2.17264743e-02,\n         1.89616448e-02,  1.72243086e-02,  1.72136814e-02,\n         1.65968426e-02,  1.51135384e-02,  1.49457077e-02,\n         1.50345194e-02, -5.14936550e-01, -5.14936550e-01,\n        -5.14936550e-01, -5.14936550e-01, -5.14936550e-01,\n        -5.14936550e-01, -5.14936550e-01, -5.14936550e-01,\n        -5.14936550e-01, -5.14936550e-01, -5.14936550e-01,\n        -5.14936550e-01, -5.14936550e-01, -5.14936550e-01]])"
     },
     "execution_count": 33,
     "metadata": {},
     "output_type": "execute_result"
    }
   ],
   "source": [
    "p"
   ],
   "metadata": {
    "collapsed": false,
    "pycharm": {
     "name": "#%%\n"
    }
   }
  },
  {
   "cell_type": "code",
   "execution_count": null,
   "outputs": [],
   "source": [],
   "metadata": {
    "collapsed": false,
    "pycharm": {
     "name": "#%%\n"
    }
   }
  },
  {
   "cell_type": "code",
   "execution_count": null,
   "outputs": [],
   "source": [],
   "metadata": {
    "collapsed": false,
    "pycharm": {
     "name": "#%%\n"
    }
   }
  },
  {
   "cell_type": "code",
   "execution_count": null,
   "outputs": [],
   "source": [
    "light_bounds = (np.max(concat_light),np.min(concat_light))"
   ],
   "metadata": {
    "collapsed": false,
    "pycharm": {
     "name": "#%%\n"
    }
   }
  },
  {
   "cell_type": "code",
   "execution_count": 9,
   "outputs": [
    {
     "data": {
      "text/plain": "(6, 165)"
     },
     "execution_count": 9,
     "metadata": {},
     "output_type": "execute_result"
    }
   ],
   "source": [
    "normalize_class()"
   ],
   "metadata": {
    "collapsed": false,
    "pycharm": {
     "name": "#%%\n"
    }
   }
  },
  {
   "cell_type": "code",
   "execution_count": 10,
   "outputs": [
    {
     "data": {
      "text/plain": "array([[ True,  True,  True,  True,  True,  True,  True,  True,  True,\n         True,  True,  True,  True,  True,  True,  True,  True,  True,\n         True,  True,  True,  True,  True,  True,  True,  True,  True,\n         True,  True,  True,  True, False, False, False, False, False,\n        False, False, False, False, False, False, False, False, False,\n        False, False, False, False, False, False, False, False, False,\n        False, False, False, False, False, False, False, False, False,\n        False, False, False, False, False, False, False, False, False,\n        False, False, False, False, False, False, False, False, False,\n        False, False, False, False, False, False, False, False, False,\n        False, False, False, False, False, False, False, False, False,\n        False, False, False, False, False, False, False,  True,  True,\n         True,  True,  True,  True,  True,  True,  True,  True,  True,\n         True,  True,  True,  True,  True,  True,  True,  True,  True,\n         True,  True,  True,  True,  True,  True,  True,  True,  True,\n         True,  True,  True,  True,  True,  True,  True,  True,  True,\n         True,  True,  True,  True,  True,  True,  True,  True,  True,\n         True,  True,  True,  True,  True,  True,  True,  True,  True,\n         True,  True,  True],\n       [ True,  True,  True,  True,  True,  True,  True,  True,  True,\n         True,  True,  True,  True,  True,  True,  True,  True,  True,\n         True,  True,  True,  True,  True,  True,  True,  True,  True,\n         True,  True,  True,  True,  True,  True,  True, False, False,\n        False, False, False, False, False, False, False, False, False,\n        False, False, False, False, False, False, False, False, False,\n        False, False, False, False, False, False, False, False, False,\n        False, False, False, False, False, False, False, False, False,\n        False, False, False, False, False, False, False, False, False,\n        False, False, False, False, False, False, False, False, False,\n        False, False, False, False, False, False, False, False, False,\n        False, False, False, False, False, False, False, False, False,\n        False, False, False, False, False, False, False, False, False,\n        False, False, False, False, False, False, False,  True,  True,\n         True,  True,  True,  True,  True,  True,  True,  True,  True,\n         True,  True,  True,  True,  True,  True,  True,  True,  True,\n         True,  True,  True,  True,  True,  True,  True,  True,  True,\n         True,  True,  True,  True,  True,  True,  True,  True,  True,\n         True,  True,  True],\n       [ True,  True,  True,  True,  True,  True,  True,  True,  True,\n         True,  True,  True,  True,  True,  True,  True,  True,  True,\n         True,  True,  True,  True,  True,  True,  True,  True,  True,\n         True,  True,  True,  True,  True,  True,  True,  True,  True,\n         True,  True,  True, False, False, False, False, False, False,\n        False, False, False, False, False, False, False, False, False,\n        False, False, False, False, False, False, False, False, False,\n        False, False, False, False, False, False, False, False, False,\n        False, False, False, False, False, False, False, False, False,\n        False, False, False, False, False, False, False, False, False,\n        False, False, False, False, False, False, False, False, False,\n        False, False, False, False, False, False, False, False, False,\n        False, False, False, False, False, False, False, False, False,\n        False, False, False, False, False, False, False, False, False,\n        False, False, False, False, False, False, False, False, False,\n        False, False,  True,  True,  True,  True,  True,  True,  True,\n         True,  True,  True,  True,  True,  True,  True,  True,  True,\n         True,  True,  True,  True,  True,  True,  True,  True,  True,\n         True,  True,  True],\n       [ True,  True,  True,  True,  True,  True,  True,  True,  True,\n         True,  True,  True,  True,  True,  True,  True,  True,  True,\n         True,  True,  True,  True,  True,  True,  True,  True,  True,\n         True,  True,  True,  True,  True,  True,  True, False, False,\n        False, False, False, False, False, False, False, False, False,\n        False, False, False, False, False, False, False, False, False,\n        False, False, False, False, False, False, False, False, False,\n        False, False, False, False, False, False, False, False, False,\n        False, False, False, False, False, False, False, False, False,\n        False, False, False, False, False, False, False, False, False,\n        False, False, False, False, False, False, False, False, False,\n        False, False, False, False, False, False, False, False, False,\n        False, False, False, False, False, False, False, False, False,\n        False, False, False, False, False, False, False, False, False,\n        False, False, False, False, False,  True,  True,  True,  True,\n         True,  True,  True,  True,  True,  True,  True,  True,  True,\n         True,  True,  True,  True,  True,  True,  True,  True,  True,\n         True,  True,  True,  True,  True,  True,  True,  True,  True,\n         True,  True,  True],\n       [ True,  True,  True,  True,  True,  True,  True,  True,  True,\n         True,  True,  True,  True,  True,  True,  True,  True,  True,\n        False, False, False, False, False, False, False, False, False,\n        False, False, False, False, False, False, False, False, False,\n        False, False, False, False, False, False, False, False, False,\n        False, False, False, False, False, False, False, False, False,\n        False, False, False, False, False, False, False, False, False,\n        False, False, False, False, False, False, False, False, False,\n        False, False, False, False, False, False, False, False, False,\n        False, False, False, False, False, False, False, False, False,\n        False, False, False, False, False, False, False, False, False,\n        False, False, False, False, False, False, False, False, False,\n        False, False, False, False, False, False, False, False, False,\n        False, False, False, False, False, False, False, False, False,\n        False, False, False, False,  True,  True,  True,  True,  True,\n         True,  True,  True,  True,  True,  True,  True,  True,  True,\n         True,  True,  True,  True,  True,  True,  True,  True,  True,\n         True,  True,  True,  True,  True,  True,  True,  True,  True,\n         True,  True,  True],\n       [ True,  True,  True,  True,  True,  True,  True,  True,  True,\n         True,  True,  True,  True,  True,  True,  True,  True,  True,\n         True,  True,  True,  True,  True,  True,  True,  True,  True,\n         True,  True,  True,  True,  True,  True,  True,  True,  True,\n         True,  True,  True,  True,  True,  True,  True,  True, False,\n        False, False, False, False, False, False, False, False, False,\n        False, False, False, False, False, False, False, False, False,\n        False, False, False, False, False, False, False, False, False,\n        False, False, False, False, False, False, False, False, False,\n        False, False, False, False, False, False, False, False, False,\n        False, False, False, False, False, False, False, False, False,\n        False, False, False, False, False, False,  True,  True,  True,\n         True,  True,  True,  True,  True,  True,  True,  True,  True,\n         True,  True,  True,  True,  True,  True,  True,  True,  True,\n         True,  True,  True,  True,  True,  True,  True,  True,  True,\n         True,  True,  True,  True,  True,  True,  True,  True,  True,\n         True,  True,  True,  True,  True,  True,  True,  True,  True,\n         True,  True,  True,  True,  True,  True,  True,  True,  True,\n         True,  True,  True]])"
     },
     "execution_count": 10,
     "metadata": {},
     "output_type": "execute_result"
    }
   ],
   "source": [
    "gaps_masks"
   ],
   "metadata": {
    "collapsed": false,
    "pycharm": {
     "name": "#%%\n"
    }
   }
  },
  {
   "cell_type": "code",
   "execution_count": 25,
   "outputs": [],
   "source": [
    "obs_masks = downsampling_masks & ~gaps_masks"
   ],
   "metadata": {
    "collapsed": false,
    "pycharm": {
     "name": "#%%\n"
    }
   }
  },
  {
   "cell_type": "code",
   "execution_count": 26,
   "outputs": [
    {
     "data": {
      "text/plain": "array([45, 49, 55, 41, 54, 51])"
     },
     "execution_count": 26,
     "metadata": {},
     "output_type": "execute_result"
    }
   ],
   "source": [
    "obs_masks.sum(axis=1)"
   ],
   "metadata": {
    "collapsed": false,
    "pycharm": {
     "name": "#%%\n"
    }
   }
  },
  {
   "cell_type": "code",
   "execution_count": 28,
   "outputs": [
    {
     "data": {
      "text/plain": "82"
     },
     "execution_count": 28,
     "metadata": {},
     "output_type": "execute_result"
    }
   ],
   "source": [
    "round(dataset.seasons_lengths('pixel').max()/2)"
   ],
   "metadata": {
    "collapsed": false,
    "pycharm": {
     "name": "#%%\n"
    }
   }
  },
  {
   "cell_type": "code",
   "execution_count": 30,
   "outputs": [
    {
     "data": {
      "text/plain": "array([[ True,  True,  True,  True,  True,  True,  True,  True,  True,\n         True,  True,  True,  True,  True,  True,  True,  True,  True,\n         True,  True,  True,  True,  True,  True,  True,  True,  True,\n         True,  True,  True, False, False, False, False, False, False,\n        False, False, False, False, False, False, False, False, False,\n        False, False, False, False, False, False, False, False, False,\n        False, False, False, False, False, False, False, False, False,\n        False, False, False, False, False, False, False, False, False,\n        False, False, False, False, False, False, False, False, False,\n        False, False, False, False, False, False, False, False, False,\n        False, False, False, False, False, False, False, False, False,\n        False, False, False, False, False, False, False, False, False,\n        False, False, False, False,  True,  True,  True,  True,  True,\n         True,  True,  True,  True,  True,  True,  True,  True,  True,\n         True,  True,  True,  True,  True,  True,  True,  True,  True,\n         True,  True,  True,  True,  True,  True,  True,  True,  True,\n         True,  True,  True,  True,  True,  True,  True,  True,  True,\n         True,  True,  True,  True,  True,  True,  True,  True,  True,\n         True,  True,  True],\n       [ True,  True,  True,  True,  True,  True,  True,  True,  True,\n         True,  True,  True,  True,  True,  True,  True,  True,  True,\n         True,  True,  True,  True,  True,  True,  True,  True,  True,\n         True,  True,  True,  True,  True,  True,  True,  True, False,\n        False, False, False, False, False, False, False, False, False,\n        False, False, False, False, False, False, False, False, False,\n        False, False, False, False, False, False, False, False, False,\n        False, False, False, False, False, False, False, False, False,\n        False, False, False, False, False, False, False, False, False,\n        False, False, False, False, False, False, False, False, False,\n        False, False, False, False, False, False, False, False, False,\n        False, False, False, False, False, False, False, False, False,\n        False, False, False, False, False, False, False, False, False,\n        False, False, False, False, False, False, False, False, False,\n        False, False, False, False, False, False, False, False, False,\n        False, False,  True,  True,  True,  True,  True,  True,  True,\n         True,  True,  True,  True,  True,  True,  True,  True,  True,\n         True,  True,  True,  True,  True,  True,  True,  True,  True,\n         True,  True,  True],\n       [ True,  True,  True,  True,  True,  True,  True,  True,  True,\n         True,  True,  True,  True,  True,  True,  True,  True,  True,\n         True,  True,  True,  True,  True,  True,  True,  True,  True,\n         True,  True,  True,  True,  True,  True,  True, False, False,\n        False, False, False, False, False, False, False, False, False,\n        False, False, False, False, False, False, False, False, False,\n        False, False, False, False, False, False, False, False, False,\n        False, False, False, False, False, False, False, False, False,\n        False, False, False, False, False, False, False, False, False,\n        False, False, False, False, False, False, False, False, False,\n        False, False, False, False, False, False, False, False, False,\n        False, False, False, False, False, False, False, False, False,\n        False, False, False, False, False, False, False, False, False,\n        False, False, False, False, False, False, False, False, False,\n        False, False, False, False, False, False, False, False, False,\n        False, False, False, False, False, False, False, False, False,\n        False, False, False,  True,  True,  True,  True,  True,  True,\n         True,  True,  True,  True,  True,  True,  True,  True,  True,\n         True,  True,  True],\n       [ True,  True,  True,  True,  True,  True,  True,  True,  True,\n         True,  True,  True,  True,  True,  True,  True,  True,  True,\n         True,  True,  True,  True,  True,  True,  True,  True,  True,\n         True,  True,  True,  True,  True,  True,  True,  True,  True,\n        False, False, False, False, False, False, False, False, False,\n        False, False, False, False, False, False, False, False, False,\n        False, False, False, False, False, False, False, False, False,\n        False, False, False, False, False, False, False, False, False,\n        False, False, False, False, False, False, False, False, False,\n        False, False, False, False, False, False, False, False, False,\n        False, False, False, False, False, False, False, False, False,\n        False, False, False, False, False, False, False, False, False,\n        False, False, False, False, False, False, False, False, False,\n        False, False, False, False, False, False, False, False, False,\n        False, False, False, False, False,  True,  True,  True,  True,\n         True,  True,  True,  True,  True,  True,  True,  True,  True,\n         True,  True,  True,  True,  True,  True,  True,  True,  True,\n         True,  True,  True,  True,  True,  True,  True,  True,  True,\n         True,  True,  True],\n       [ True,  True,  True,  True,  True,  True,  True,  True,  True,\n         True,  True,  True,  True,  True,  True,  True,  True,  True,\n         True,  True,  True,  True,  True,  True,  True,  True,  True,\n         True,  True,  True,  True,  True,  True,  True,  True, False,\n        False, False, False, False, False, False, False, False, False,\n        False, False, False, False, False, False, False, False, False,\n        False, False, False, False, False, False, False, False, False,\n        False, False, False, False, False, False, False, False, False,\n        False, False, False, False, False, False, False, False, False,\n        False, False, False, False, False, False, False, False, False,\n        False, False, False, False, False, False, False, False, False,\n        False, False, False, False, False, False, False, False, False,\n        False, False, False, False, False, False, False, False, False,\n        False, False, False, False, False, False, False, False, False,\n        False, False, False, False, False, False,  True,  True,  True,\n         True,  True,  True,  True,  True,  True,  True,  True,  True,\n         True,  True,  True,  True,  True,  True,  True,  True,  True,\n         True,  True,  True,  True,  True,  True,  True,  True,  True,\n         True,  True,  True],\n       [ True,  True,  True,  True,  True,  True,  True,  True,  True,\n         True,  True,  True,  True,  True,  True,  True,  True,  True,\n         True,  True,  True,  True,  True,  True,  True, False, False,\n        False, False, False, False, False, False, False, False, False,\n        False, False, False, False, False, False, False, False, False,\n        False, False, False, False, False, False, False, False, False,\n        False, False, False, False, False, False, False, False, False,\n        False, False, False, False, False, False, False, False, False,\n        False, False, False, False, False, False, False, False, False,\n        False, False, False, False, False, False, False, False, False,\n        False, False, False, False, False, False, False, False, False,\n        False, False, False, False, False, False, False, False, False,\n        False, False, False, False, False, False, False, False, False,\n        False, False,  True,  True,  True,  True,  True,  True,  True,\n         True,  True,  True,  True,  True,  True,  True,  True,  True,\n         True,  True,  True,  True,  True,  True,  True,  True,  True,\n         True,  True,  True,  True,  True,  True,  True,  True,  True,\n         True,  True,  True,  True,  True,  True,  True,  True,  True,\n         True,  True,  True]])"
     },
     "execution_count": 30,
     "metadata": {},
     "output_type": "execute_result"
    }
   ],
   "source": [
    "gaps_masks"
   ],
   "metadata": {
    "collapsed": false,
    "pycharm": {
     "name": "#%%\n"
    }
   }
  },
  {
   "cell_type": "code",
   "execution_count": 21,
   "outputs": [
    {
     "data": {
      "text/plain": "<Figure size 2500x1000 with 1 Axes>",
      "image/png": "[encoded data removed]"
     },
     "metadata": {},
     "output_type": "display_data"
    }
   ],
   "source": [
    "plt.figure(figsize=(25,10))\n",
    "\n",
    "time_arrays,light_curves,padding_masks,label = dataset.get_item(0,1,2)\n",
    "downsampling_masks,gaps_masks = obs_schedule.sample_observation_schedule(time_arrays,padding_masks)\n",
    "for year, (time,light,pad_mask,down_mask,gap_mask) in enumerate(zip(time_arrays,light_curves,padding_masks,downsampling_masks,gaps_masks)):\n",
    "    pad_mask = pad_mask.astype(bool)\n",
    "    cont_time = (time[pad_mask]+year)*365\n",
    "    cont_light = light[pad_mask]\n",
    "\n",
    "    obs_mask = (down_mask & ~gap_mask).astype(bool)\n",
    "    obs_time = (time[obs_mask]+year)*365\n",
    "    obs_light = light[obs_mask]\n",
    "\n",
    "    plt.plot(to_date(cont_time),cont_light,color='C0',linestyle='--')\n",
    "    plt.scatter(to_date(obs_time),obs_light,color='C1',s=20)"
   ],
   "metadata": {
    "collapsed": false,
    "pycharm": {
     "name": "#%%\n"
    }
   }
  },
  {
   "cell_type": "code",
   "execution_count": 24,
   "outputs": [
    {
     "data": {
      "text/plain": "82.5"
     },
     "execution_count": 24,
     "metadata": {},
     "output_type": "execute_result"
    }
   ],
   "source": [
    "dataset.seasons_lengths('pixel').max()/2"
   ],
   "metadata": {
    "collapsed": false,
    "pycharm": {
     "name": "#%%\n"
    }
   }
  },
  {
   "cell_type": "code",
   "execution_count": null,
   "outputs": [],
   "source": [],
   "metadata": {
    "collapsed": false,
    "pycharm": {
     "name": "#%%\n"
    }
   }
  },
  {
   "cell_type": "code",
   "execution_count": null,
   "outputs": [],
   "source": [],
   "metadata": {
    "collapsed": false,
    "pycharm": {
     "name": "#%%\n"
    }
   }
  },
  {
   "cell_type": "code",
   "execution_count": 16,
   "outputs": [],
   "source": [
    "length = padding_masks[0].sum()\n",
    "obs_points = np.sort(\n",
    "                np.random.choice(np.arange(length,dtype=int), size=round(length/2), replace=False)\n",
    "            )"
   ],
   "metadata": {
    "collapsed": false,
    "pycharm": {
     "name": "#%%\n"
    }
   }
  },
  {
   "cell_type": "code",
   "execution_count": 17,
   "outputs": [
    {
     "data": {
      "text/plain": "array([  0,   1,   2,   3,   4,   5,   6,   7,   8,   9,  10,  11,  12,\n        13,  14,  15,  16,  17,  18,  19,  20,  21,  22,  23,  24,  25,\n        26,  27,  28,  29,  30,  31,  32,  33,  34,  35,  36,  37,  38,\n        39,  40,  41,  42,  43,  44,  45,  46,  47,  48,  49,  50,  51,\n        52,  53,  54,  55,  56,  57,  58,  59,  60,  61,  62,  63,  64,\n        65,  66,  67,  68,  69,  70,  71,  72,  73,  74,  75,  76,  77,\n        78,  79,  80,  81,  82,  83,  84,  85,  86,  87,  88,  89,  90,\n        91,  92,  93,  94,  95,  96,  97,  98,  99, 100, 101, 102, 103,\n       104, 105, 106, 107, 108, 109, 110, 111, 112, 113, 114, 115, 116,\n       117, 118, 119, 120, 121, 122, 123, 124, 125, 126, 127, 128, 129,\n       130, 131, 132, 133, 134, 135, 136, 137, 138, 139, 140, 141, 142,\n       143, 144, 145])"
     },
     "execution_count": 17,
     "metadata": {},
     "output_type": "execute_result"
    }
   ],
   "source": [
    "np.arange(length,dtype=int)"
   ],
   "metadata": {
    "collapsed": false,
    "pycharm": {
     "name": "#%%\n"
    }
   }
  },
  {
   "cell_type": "code",
   "execution_count": 18,
   "outputs": [
    {
     "data": {
      "text/plain": "array([  3,   6,   7,   8,  10,  13,  15,  16,  17,  22,  23,  25,  26,\n        27,  28,  31,  32,  35,  36,  37,  46,  47,  48,  49,  50,  52,\n        59,  60,  62,  63,  70,  71,  72,  75,  76,  78,  79,  81,  82,\n        84,  87,  88,  96,  97, 100, 101, 103, 104, 105, 108, 109, 110,\n       112, 114, 115, 116, 117, 119, 120, 121, 122, 123, 125, 126, 127,\n       130, 131, 135, 140, 141, 143, 144, 145])"
     },
     "execution_count": 18,
     "metadata": {},
     "output_type": "execute_result"
    }
   ],
   "source": [
    "obs_points"
   ],
   "metadata": {
    "collapsed": false,
    "pycharm": {
     "name": "#%%\n"
    }
   }
  },
  {
   "cell_type": "code",
   "execution_count": 11,
   "outputs": [],
   "source": [
    "length = padding_masks[0].sum()"
   ],
   "metadata": {
    "collapsed": false,
    "pycharm": {
     "name": "#%%\n"
    }
   }
  },
  {
   "cell_type": "code",
   "execution_count": 19,
   "outputs": [
    {
     "data": {
      "text/plain": "74"
     },
     "execution_count": 19,
     "metadata": {},
     "output_type": "execute_result"
    }
   ],
   "source": [
    "round(147/2)"
   ],
   "metadata": {
    "collapsed": false,
    "pycharm": {
     "name": "#%%\n"
    }
   }
  },
  {
   "cell_type": "code",
   "execution_count": 17,
   "outputs": [
    {
     "data": {
      "text/plain": "146.0"
     },
     "execution_count": 17,
     "metadata": {},
     "output_type": "execute_result"
    }
   ],
   "source": [
    "length"
   ],
   "metadata": {
    "collapsed": false,
    "pycharm": {
     "name": "#%%\n"
    }
   }
  },
  {
   "cell_type": "code",
   "execution_count": 5,
   "outputs": [],
   "source": [],
   "metadata": {
    "collapsed": false,
    "pycharm": {
     "name": "#%%\n"
    }
   }
  },
  {
   "cell_type": "code",
   "execution_count": 9,
   "outputs": [
    {
     "data": {
      "text/plain": "<Figure size 640x480 with 1 Axes>",
      "image/png": "[encoded data removed]"
     },
     "metadata": {},
     "output_type": "display_data"
    }
   ],
   "source": [
    "time_arrays,light_curves,padding_masks,label = dataset.get_item(0,1,2)\n",
    "for year, (time,light,mask) in enumerate(zip(time_arrays,light_curves,padding_masks)):\n",
    "    mask = mask.astype(bool)\n",
    "    day_time = (time[mask]+year)*365\n",
    "    plt.scatter(to_date(day_time),light[mask])"
   ],
   "metadata": {
    "collapsed": false,
    "pycharm": {
     "name": "#%%\n"
    }
   }
  },
  {
   "cell_type": "code",
   "execution_count": 12,
   "outputs": [
    {
     "data": {
      "text/plain": "<Figure size 640x480 with 1 Axes>",
      "image/png": "[encoded data removed]"
     },
     "metadata": {},
     "output_type": "display_data"
    }
   ],
   "source": [
    "time_arrays,light_curves,padding_masks,label = dataset.get_item(1,1,2)\n",
    "for year, (time,light,mask) in enumerate(zip(time_arrays,light_curves,padding_masks)):\n",
    "    mask = mask.astype(bool)\n",
    "    day_time = (time[mask]+year)*365\n",
    "    plt.scatter(to_date(day_time),light[mask])"
   ],
   "metadata": {
    "collapsed": false,
    "pycharm": {
     "name": "#%%\n"
    }
   }
  },
  {
   "cell_type": "code",
   "execution_count": 14,
   "outputs": [],
   "source": [
    "def get_season_bounds_sampler(mean,std,lower_limit,upper_limit,rng):\n",
    "    normalised_limits = (lower_limit - mean) / std , (upper_limit - mean) / std\n",
    "\n",
    "    def sampler(size):\n",
    "        return stats.truncnorm.rvs(*normalised_limits, size=size, loc=mean, scale=std,random_state=rng)\n",
    "\n",
    "    return sampler\n"
   ],
   "metadata": {
    "collapsed": false,
    "pycharm": {
     "name": "#%%\n"
    }
   }
  },
  {
   "cell_type": "code",
   "execution_count": 15,
   "outputs": [],
   "source": [
    "from scipy import stats"
   ],
   "metadata": {
    "collapsed": false,
    "pycharm": {
     "name": "#%%\n"
    }
   }
  },
  {
   "cell_type": "code",
   "execution_count": 16,
   "outputs": [],
   "source": [
    "season_gap_params = (72, 25); season_gap_bounds = (0, np.inf); random_seed=42\n",
    "rng = np.random.default_rng(random_seed)\n",
    "_season_gap_sampler = get_season_bounds_sampler(*season_gap_params, *season_gap_bounds, rng)"
   ],
   "metadata": {
    "collapsed": false,
    "pycharm": {
     "name": "#%%\n"
    }
   }
  },
  {
   "cell_type": "code",
   "execution_count": 17,
   "outputs": [],
   "source": [
    "gaps_lengths = _season_gap_sampler(2)\n"
   ],
   "metadata": {
    "collapsed": false,
    "pycharm": {
     "name": "#%%\n"
    }
   }
  },
  {
   "cell_type": "code",
   "execution_count": 18,
   "outputs": [
    {
     "data": {
      "text/plain": "array([90.83585731, 68.22539947])"
     },
     "execution_count": 18,
     "metadata": {},
     "output_type": "execute_result"
    }
   ],
   "source": [
    "gaps_lengths\n"
   ],
   "metadata": {
    "collapsed": false,
    "pycharm": {
     "name": "#%%\n"
    }
   }
  },
  {
   "cell_type": "code",
   "execution_count": 21,
   "outputs": [],
   "source": [
    "time_arrays,light_curves,padding_masks,label = dataset.get_item(0,0,0)"
   ],
   "metadata": {
    "collapsed": false,
    "pycharm": {
     "name": "#%%\n"
    }
   }
  },
  {
   "cell_type": "code",
   "execution_count": 22,
   "outputs": [
    {
     "data": {
      "text/plain": "array([[0.        , 0.02843192, 0.05175807, 0.06756473, 0.06992744,\n        0.10236725, 0.10429434, 0.10504623, 0.12529689, 0.1270823 ,\n        0.13494377, 0.13534764, 0.14415971, 0.15849787, 0.16063415,\n        0.16383477, 0.16698408, 0.17626294, 0.1780869 , 0.17935343,\n        0.18336028, 0.18579898, 0.19807393, 0.19989732, 0.20458516,\n        0.22377764, 0.23052871, 0.24409366, 0.26301403, 0.27234594,\n        0.28042316, 0.30353497, 0.33836196, 0.34239974, 0.34289346,\n        0.34522035, 0.34633057, 0.3499603 , 0.35090564, 0.3571296 ,\n        0.36037092, 0.37553372, 0.39860979, 0.4039268 , 0.40608515,\n        0.41211039, 0.42736208, 0.43086895, 0.43626338, 0.43839243,\n        0.44247474, 0.44592501, 0.44784309, 0.45257803, 0.45507406,\n        0.45820985, 0.46320962, 0.47253696, 0.47526211, 0.49258525,\n        0.50590322, 0.50623849, 0.50820346, 0.51217193, 0.51291423,\n        0.51579194, 0.52484236, 0.53250641, 0.53904767, 0.54737435,\n        0.54891461, 0.55172281, 0.55929764, 0.57349613, 0.57876577,\n        0.58099747, 0.58120368, 0.58952592, 0.58957909, 0.59271107,\n        0.59779002, 0.61493425, 0.61556398, 0.61906189, 0.61922722,\n        0.62204474, 0.62858326, 0.63078104, 0.63236219, 0.63318809,\n        0.63896926, 0.64695092, 0.65443743, 0.6744076 , 0.67442578,\n        0.68142354, 0.68758459, 0.69355257, 0.71565489, 0.71576918,\n        0.72377761, 0.73506358, 0.7398523 , 0.74258205, 0.75309139,\n        0.75377852, 0.75769745, 0.76262664, 0.7705794 , 0.7712194 ,\n        0.7729554 , 0.77650278, 0.78306025, 0.79770281, 0.80418107,\n        0.80514323, 0.83161684, 0.84541331, 0.85010562, 0.86727028,\n        0.87250619, 0.88975424, 0.9016519 , 0.92483131, 0.94177768,\n        0.94202418, 0.94331443, 0.94662495, 0.96704059, 0.96943654,\n        0.97061136, 0.98521505, 0.98918665, 0.        , 0.        ,\n        0.        , 0.        , 0.        , 0.        , 0.        ,\n        0.        , 0.        , 0.        , 0.        , 0.        ,\n        0.        , 0.        , 0.        , 0.        , 0.        ,\n        0.        , 0.        , 0.        , 0.        , 0.        ,\n        0.        , 0.        , 0.        , 0.        , 0.        ,\n        0.        , 0.        , 0.        , 0.        , 0.        ],\n       [0.00520341, 0.00637634, 0.0136445 , 0.01754213, 0.01807658,\n        0.02608459, 0.02799361, 0.02826511, 0.02868031, 0.02910362,\n        0.04510998, 0.05415488, 0.06949177, 0.0769911 , 0.08204723,\n        0.08448571, 0.12610181, 0.1291224 , 0.13339492, 0.13658676,\n        0.16270564, 0.16399497, 0.16666472, 0.17432529, 0.17476384,\n        0.18104115, 0.18540305, 0.18764693, 0.18947623, 0.19432974,\n        0.19741104, 0.20150663, 0.2042719 , 0.22793587, 0.22889786,\n        0.22958173, 0.23240723, 0.23841267, 0.24564247, 0.2490429 ,\n        0.29762803, 0.30054106, 0.30912503, 0.31594221, 0.32720568,\n        0.35232044, 0.36713347, 0.37684789, 0.38489552, 0.38764076,\n        0.38871409, 0.38914855, 0.39100869, 0.39481121, 0.39976906,\n        0.4097311 , 0.43114318, 0.43198138, 0.43274153, 0.43872513,\n        0.44791395, 0.46057403, 0.47901979, 0.50655785, 0.50998669,\n        0.51320115, 0.51427545, 0.52203307, 0.52921545, 0.54252095,\n        0.54320819, 0.54783406, 0.55367813, 0.55553522, 0.55677885,\n        0.56996458, 0.57036971, 0.57464188, 0.57546877, 0.57957103,\n        0.6058343 , 0.60953613, 0.62260539, 0.62344355, 0.6255689 ,\n        0.62904256, 0.63247152, 0.6399463 , 0.64278538, 0.65118764,\n        0.65803461, 0.66145629, 0.66525265, 0.6716556 , 0.67214334,\n        0.68375155, 0.69086887, 0.6995729 , 0.70474383, 0.70553016,\n        0.70901783, 0.71250932, 0.71511002, 0.71531426, 0.72429159,\n        0.72507269, 0.73133391, 0.73949307, 0.74625863, 0.76773636,\n        0.76846869, 0.78202746, 0.78222644, 0.78736834, 0.79084708,\n        0.79583574, 0.79888706, 0.80030711, 0.8004368 , 0.80534081,\n        0.81776732, 0.82090505, 0.82259859, 0.82316253, 0.82376147,\n        0.82544234, 0.82615012, 0.82821846, 0.82867814, 0.82913391,\n        0.84216339, 0.84335144, 0.84886088, 0.85883394, 0.86292817,\n        0.86404644, 0.86554184, 0.86935268, 0.87439876, 0.87728642,\n        0.88750169, 0.89684053, 0.91443965, 0.91463699, 0.92981943,\n        0.93316782, 0.94731852, 0.95520204, 0.98455404, 0.99411951,\n        0.99716495, 0.        , 0.        , 0.        , 0.        ,\n        0.        , 0.        , 0.        , 0.        , 0.        ,\n        0.        , 0.        , 0.        , 0.        , 0.        ],\n       [0.00183492, 0.00500674, 0.00805606, 0.01008671, 0.01468846,\n        0.02237833, 0.02456003, 0.02955145, 0.0303901 , 0.03155995,\n        0.03188193, 0.05560024, 0.05562621, 0.05694753, 0.06332159,\n        0.06389165, 0.07823983, 0.08678086, 0.10957018, 0.11432921,\n        0.11672876, 0.12208465, 0.14002514, 0.14496566, 0.14705383,\n        0.16115098, 0.16427482, 0.16428412, 0.16619569, 0.16876865,\n        0.18191605, 0.1860362 , 0.18998592, 0.19273726, 0.20701651,\n        0.22650106, 0.25883997, 0.26201559, 0.28475661, 0.29529941,\n        0.30286278, 0.30474944, 0.30638784, 0.30760746, 0.32480756,\n        0.32714664, 0.33120003, 0.33577501, 0.34588937, 0.35837846,\n        0.35938425, 0.36312346, 0.3755533 , 0.38699811, 0.38772382,\n        0.38886604, 0.39130213, 0.39182839, 0.39554138, 0.39630614,\n        0.40194706, 0.40384857, 0.4099434 , 0.41078316, 0.43580204,\n        0.45391387, 0.45725373, 0.45911632, 0.46105216, 0.46548837,\n        0.46576251, 0.47261914, 0.4761438 , 0.47932659, 0.49045882,\n        0.49875096, 0.51948138, 0.52239486, 0.53769759, 0.54756802,\n        0.55053862, 0.5570671 , 0.55935399, 0.57328882, 0.57408989,\n        0.5756939 , 0.57705172, 0.58051675, 0.58970121, 0.59472843,\n        0.59922055, 0.59922422, 0.60294584, 0.60338688, 0.60495532,\n        0.62305051, 0.62467984, 0.63780636, 0.64871436, 0.64987862,\n        0.65612968, 0.65695527, 0.66569734, 0.67251229, 0.68373582,\n        0.6881201 , 0.70466667, 0.70500659, 0.70733438, 0.71576687,\n        0.71940378, 0.72067923, 0.72144094, 0.73286017, 0.73716441,\n        0.75153465, 0.76041138, 0.76395222, 0.76709311, 0.77196221,\n        0.78673067, 0.79570863, 0.79574333, 0.80370051, 0.82062386,\n        0.82894886, 0.83025732, 0.83469514, 0.83571065, 0.83869769,\n        0.85727932, 0.8745273 , 0.87676028, 0.87954742, 0.88570546,\n        0.90788525, 0.90895949, 0.910954  , 0.92484389, 0.92939152,\n        0.94478788, 0.94616617, 0.95127568, 0.95392828, 0.95648459,\n        0.96046206, 0.96427401, 0.9672438 , 0.98379887, 0.9926368 ,\n        0.        , 0.        , 0.        , 0.        , 0.        ,\n        0.        , 0.        , 0.        , 0.        , 0.        ,\n        0.        , 0.        , 0.        , 0.        , 0.        ],\n       [0.00137046, 0.00367005, 0.00946026, 0.01960521, 0.03026885,\n        0.03310601, 0.04300292, 0.05194557, 0.05297038, 0.06646766,\n        0.070378  , 0.07485355, 0.07884916, 0.08448429, 0.09100397,\n        0.09563522, 0.10917488, 0.11581198, 0.11925905, 0.12287962,\n        0.13406397, 0.13693876, 0.13853442, 0.13894561, 0.15296801,\n        0.16981164, 0.17067118, 0.17340607, 0.1747012 , 0.17552859,\n        0.19098543, 0.19137875, 0.21781978, 0.21850102, 0.23187543,\n        0.23748977, 0.24057096, 0.24338573, 0.25289789, 0.25543488,\n        0.26262817, 0.26752071, 0.27197739, 0.28752169, 0.29295473,\n        0.30473357, 0.31341876, 0.31368286, 0.32364568, 0.32528763,\n        0.34096837, 0.34126305, 0.34398381, 0.34468949, 0.34902499,\n        0.36054362, 0.36292193, 0.36402091, 0.36671348, 0.37800671,\n        0.37902274, 0.38075529, 0.38123444, 0.38945024, 0.39282816,\n        0.39532866, 0.40384593, 0.40659601, 0.4153352 , 0.42667621,\n        0.42832496, 0.45279197, 0.45398193, 0.45629029, 0.45762155,\n        0.46046871, 0.46486173, 0.4698221 , 0.48272794, 0.49751993,\n        0.49918967, 0.50573999, 0.50653402, 0.51065996, 0.51327343,\n        0.51582933, 0.52025503, 0.52904515, 0.52952668, 0.54372176,\n        0.55263699, 0.55394132, 0.57274489, 0.57748589, 0.63498781,\n        0.63646363, 0.64160541, 0.64390816, 0.64634401, 0.65235008,\n        0.66946056, 0.68044983, 0.68909519, 0.69459687, 0.71175725,\n        0.71631108, 0.73021562, 0.74227652, 0.74389248, 0.75379975,\n        0.753882  , 0.75650039, 0.75825212, 0.76300062, 0.77196771,\n        0.77265807, 0.77751724, 0.79623864, 0.79798235, 0.80557586,\n        0.81161181, 0.81167975, 0.81601828, 0.8243043 , 0.82460636,\n        0.83882082, 0.84375181, 0.84396098, 0.84566793, 0.86630225,\n        0.87216619, 0.87292987, 0.87520709, 0.87930495, 0.87944716,\n        0.88300953, 0.88752506, 0.88940096, 0.8953673 , 0.90476625,\n        0.90657285, 0.91308067, 0.91993575, 0.93986392, 0.94998145,\n        0.96265016, 0.96717835, 0.96855524, 0.        , 0.        ,\n        0.        , 0.        , 0.        , 0.        , 0.        ,\n        0.        , 0.        , 0.        , 0.        , 0.        ,\n        0.        , 0.        , 0.        , 0.        , 0.        ],\n       [0.00533806, 0.00626847, 0.01055125, 0.01102493, 0.03036732,\n        0.05287006, 0.06140556, 0.06429893, 0.06627057, 0.06834131,\n        0.06925583, 0.07426747, 0.07529471, 0.07785288, 0.08447145,\n        0.09320503, 0.09337007, 0.09714703, 0.10423927, 0.11712861,\n        0.12146072, 0.14483775, 0.14691151, 0.14700286, 0.15144374,\n        0.153431  , 0.16508897, 0.16686871, 0.16936716, 0.17988895,\n        0.18832358, 0.19380818, 0.20200662, 0.20564962, 0.20568538,\n        0.20576209, 0.21057022, 0.21115434, 0.21150647, 0.23412348,\n        0.2472816 , 0.24838923, 0.2483937 , 0.26747989, 0.26967075,\n        0.27105217, 0.27895142, 0.27972588, 0.28179065, 0.30659325,\n        0.31344536, 0.31838471, 0.32179251, 0.33179664, 0.33281716,\n        0.35579861, 0.36905851, 0.3755162 , 0.37581075, 0.38391667,\n        0.40033982, 0.40533403, 0.40827127, 0.40913201, 0.41857633,\n        0.43310465, 0.4338142 , 0.44337136, 0.44348694, 0.46641048,\n        0.47282266, 0.47822251, 0.48057944, 0.49837328, 0.50044953,\n        0.51227842, 0.54053544, 0.5508099 , 0.55572564, 0.55618478,\n        0.56047973, 0.56435331, 0.56587562, 0.56957607, 0.57255016,\n        0.57375076, 0.57766173, 0.57970963, 0.58466841, 0.58490882,\n        0.60080676, 0.61219024, 0.61759222, 0.63041609, 0.65245105,\n        0.65323772, 0.65993094, 0.70165251, 0.73129774, 0.73750822,\n        0.73842834, 0.74430634, 0.74432023, 0.74580988, 0.76680878,\n        0.76950309, 0.77633525, 0.77854974, 0.79838479, 0.80714343,\n        0.80982983, 0.82036881, 0.82113771, 0.82448333, 0.82616267,\n        0.83389459, 0.83462055, 0.8380184 , 0.84019369, 0.8449351 ,\n        0.84782749, 0.8560593 , 0.85622644, 0.86297731, 0.8647378 ,\n        0.86683976, 0.87765847, 0.89857297, 0.90112936, 0.91290602,\n        0.91364355, 0.92039432, 0.92973344, 0.93087244, 0.93460108,\n        0.94959407, 0.95032851, 0.95045117, 0.95644937, 0.96029045,\n        0.9710567 , 0.98831785, 0.99070541, 0.99400791, 0.99848164,\n        0.        , 0.        , 0.        , 0.        , 0.        ,\n        0.        , 0.        , 0.        , 0.        , 0.        ,\n        0.        , 0.        , 0.        , 0.        , 0.        ,\n        0.        , 0.        , 0.        , 0.        , 0.        ],\n       [0.00444003, 0.03215365, 0.04018087, 0.04349594, 0.04555266,\n        0.06498839, 0.06596674, 0.07452326, 0.09195679, 0.09929565,\n        0.10298988, 0.10448021, 0.1075567 , 0.11579907, 0.12284149,\n        0.14051151, 0.15405482, 0.16543049, 0.18171311, 0.1838855 ,\n        0.18698377, 0.19019345, 0.19571462, 0.20312501, 0.20539443,\n        0.20552644, 0.20894881, 0.21142682, 0.2305728 , 0.2452933 ,\n        0.25851403, 0.26562319, 0.26845788, 0.27380406, 0.285146  ,\n        0.28584332, 0.29668963, 0.29697208, 0.30835764, 0.31942671,\n        0.31977835, 0.32640511, 0.33109381, 0.33234387, 0.33342266,\n        0.3433899 , 0.34902266, 0.37638981, 0.40346649, 0.43648159,\n        0.43732965, 0.45603406, 0.45791788, 0.46203442, 0.47154775,\n        0.47307701, 0.47868834, 0.48006909, 0.48081221, 0.48164461,\n        0.48461746, 0.4846488 , 0.48836402, 0.49569349, 0.49914348,\n        0.49974597, 0.50018081, 0.50236973, 0.50361569, 0.52615107,\n        0.52725239, 0.53824851, 0.54417365, 0.54983122, 0.55465117,\n        0.57861049, 0.58164855, 0.59206462, 0.59750745, 0.60088981,\n        0.62178885, 0.62791509, 0.62876544, 0.63239578, 0.64261419,\n        0.65056237, 0.6672265 , 0.66924329, 0.67877844, 0.68291563,\n        0.68864095, 0.70947705, 0.73551746, 0.74880002, 0.75178813,\n        0.76647481, 0.77331104, 0.77708659, 0.77733106, 0.78720618,\n        0.79189019, 0.80225179, 0.81151021, 0.8221077 , 0.82450963,\n        0.83534662, 0.84069277, 0.84499934, 0.85255105, 0.85269607,\n        0.85342106, 0.85574209, 0.88310568, 0.88411673, 0.8868126 ,\n        0.88716457, 0.8898672 , 0.8924608 , 0.91216648, 0.92469532,\n        0.92793616, 0.92810462, 0.9400472 , 0.94730384, 0.94841415,\n        0.98562093, 0.98633035, 0.99988646, 0.        , 0.        ,\n        0.        , 0.        , 0.        , 0.        , 0.        ,\n        0.        , 0.        , 0.        , 0.        , 0.        ,\n        0.        , 0.        , 0.        , 0.        , 0.        ,\n        0.        , 0.        , 0.        , 0.        , 0.        ,\n        0.        , 0.        , 0.        , 0.        , 0.        ,\n        0.        , 0.        , 0.        , 0.        , 0.        ,\n        0.        , 0.        , 0.        , 0.        , 0.        ]])"
     },
     "execution_count": 22,
     "metadata": {},
     "output_type": "execute_result"
    }
   ],
   "source": [
    "time_arrays\n"
   ],
   "metadata": {
    "collapsed": false,
    "pycharm": {
     "name": "#%%\n"
    }
   }
  },
  {
   "cell_type": "code",
   "execution_count": 32,
   "outputs": [],
   "source": [
    "gaps_lengths = _season_gap_sampler(2*dataset.years_number).reshape(2,dataset.years_number)\n",
    "season_borders = np.array([gaps_lengths[0],365-gaps_lengths[1]])"
   ],
   "metadata": {
    "collapsed": false,
    "pycharm": {
     "name": "#%%\n"
    }
   }
  },
  {
   "cell_type": "code",
   "execution_count": 35,
   "outputs": [
    {
     "data": {
      "text/plain": "array([[ 80.65771769, 312.63185807],\n       [ 75.42388986, 298.70761585],\n       [ 75.7795308 , 266.68971681],\n       [ 59.27200357, 311.02435437],\n       [ 25.95251493, 331.83261524],\n       [ 68.08863852, 307.36264629]])"
     },
     "execution_count": 35,
     "metadata": {},
     "output_type": "execute_result"
    }
   ],
   "source": [
    "season_borders.T"
   ],
   "metadata": {
    "collapsed": false,
    "pycharm": {
     "name": "#%%\n"
    }
   }
  },
  {
   "cell_type": "code",
   "execution_count": 59,
   "outputs": [
    {
     "data": {
      "text/plain": "(6, 165)"
     },
     "execution_count": 59,
     "metadata": {},
     "output_type": "execute_result"
    }
   ],
   "source": [
    "time_arrays.shape"
   ],
   "metadata": {
    "collapsed": false,
    "pycharm": {
     "name": "#%%\n"
    }
   }
  },
  {
   "cell_type": "code",
   "execution_count": 47,
   "outputs": [],
   "source": [
    "q = time_arrays[:,:,None] - season_borders.T[:,None,:]/365"
   ],
   "metadata": {
    "collapsed": false,
    "pycharm": {
     "name": "#%%\n"
    }
   }
  },
  {
   "cell_type": "code",
   "execution_count": 49,
   "outputs": [
    {
     "data": {
      "text/plain": "array([0.        , 0.02843192, 0.05175807, 0.06756473, 0.06992744,\n       0.10236725, 0.10429434, 0.10504623, 0.12529689, 0.1270823 ,\n       0.13494377, 0.13534764, 0.14415971, 0.15849787, 0.16063415,\n       0.16383477, 0.16698408, 0.17626294, 0.1780869 , 0.17935343,\n       0.18336028, 0.18579898, 0.19807393, 0.19989732, 0.20458516,\n       0.22377764, 0.23052871, 0.24409366, 0.26301403, 0.27234594,\n       0.28042316, 0.30353497, 0.33836196, 0.34239974, 0.34289346,\n       0.34522035, 0.34633057, 0.3499603 , 0.35090564, 0.3571296 ,\n       0.36037092, 0.37553372, 0.39860979, 0.4039268 , 0.40608515,\n       0.41211039, 0.42736208, 0.43086895, 0.43626338, 0.43839243,\n       0.44247474, 0.44592501, 0.44784309, 0.45257803, 0.45507406,\n       0.45820985, 0.46320962, 0.47253696, 0.47526211, 0.49258525,\n       0.50590322, 0.50623849, 0.50820346, 0.51217193, 0.51291423,\n       0.51579194, 0.52484236, 0.53250641, 0.53904767, 0.54737435,\n       0.54891461, 0.55172281, 0.55929764, 0.57349613, 0.57876577,\n       0.58099747, 0.58120368, 0.58952592, 0.58957909, 0.59271107,\n       0.59779002, 0.61493425, 0.61556398, 0.61906189, 0.61922722,\n       0.62204474, 0.62858326, 0.63078104, 0.63236219, 0.63318809,\n       0.63896926, 0.64695092, 0.65443743, 0.6744076 , 0.67442578,\n       0.68142354, 0.68758459, 0.69355257, 0.71565489, 0.71576918,\n       0.72377761, 0.73506358, 0.7398523 , 0.74258205, 0.75309139,\n       0.75377852, 0.75769745, 0.76262664, 0.7705794 , 0.7712194 ,\n       0.7729554 , 0.77650278, 0.78306025, 0.79770281, 0.80418107,\n       0.80514323, 0.83161684, 0.84541331, 0.85010562, 0.86727028,\n       0.87250619, 0.88975424, 0.9016519 , 0.92483131, 0.94177768,\n       0.94202418, 0.94331443, 0.94662495, 0.96704059, 0.96943654,\n       0.97061136, 0.98521505, 0.98918665, 0.        , 0.        ,\n       0.        , 0.        , 0.        , 0.        , 0.        ,\n       0.        , 0.        , 0.        , 0.        , 0.        ,\n       0.        , 0.        , 0.        , 0.        , 0.        ,\n       0.        , 0.        , 0.        , 0.        , 0.        ,\n       0.        , 0.        , 0.        , 0.        , 0.        ,\n       0.        , 0.        , 0.        , 0.        , 0.        ])"
     },
     "execution_count": 49,
     "metadata": {},
     "output_type": "execute_result"
    }
   ],
   "source": [
    "time_arrays[0]"
   ],
   "metadata": {
    "collapsed": false,
    "pycharm": {
     "name": "#%%\n"
    }
   }
  },
  {
   "cell_type": "code",
   "execution_count": 52,
   "outputs": [
    {
     "data": {
      "text/plain": "array([0.22098005, 0.85652564])"
     },
     "execution_count": 52,
     "metadata": {},
     "output_type": "execute_result"
    }
   ],
   "source": [
    "season_borders.T[0]/365"
   ],
   "metadata": {
    "collapsed": false,
    "pycharm": {
     "name": "#%%\n"
    }
   }
  },
  {
   "cell_type": "code",
   "execution_count": 54,
   "outputs": [
    {
     "data": {
      "text/plain": "array([False, False, False, False, False, False, False, False, False,\n       False, False, False, False, False, False, False, False, False,\n       False, False, False, False, False, False, False,  True,  True,\n        True,  True,  True,  True,  True,  True,  True,  True,  True,\n        True,  True,  True,  True,  True,  True,  True,  True,  True,\n        True,  True,  True,  True,  True,  True,  True,  True,  True,\n        True,  True,  True,  True,  True,  True,  True,  True,  True,\n        True,  True,  True,  True,  True,  True,  True,  True,  True,\n        True,  True,  True,  True,  True,  True,  True,  True,  True,\n        True,  True,  True,  True,  True,  True,  True,  True,  True,\n        True,  True,  True,  True,  True,  True,  True,  True,  True,\n        True,  True,  True,  True,  True,  True,  True,  True,  True,\n        True,  True,  True,  True,  True,  True,  True,  True,  True,\n        True,  True, False, False, False, False, False, False, False,\n       False, False, False, False, False, False, False, False, False,\n       False, False, False, False, False, False, False, False, False,\n       False, False, False, False, False, False, False, False, False,\n       False, False, False, False, False, False, False, False, False,\n       False, False, False])"
     },
     "execution_count": 54,
     "metadata": {},
     "output_type": "execute_result"
    }
   ],
   "source": [
    "(time_arrays[0]>season_borders.T[0,0]/365) & (time_arrays[0]<season_borders.T[0,1]/365)"
   ],
   "metadata": {
    "collapsed": false,
    "pycharm": {
     "name": "#%%\n"
    }
   }
  },
  {
   "cell_type": "code",
   "execution_count": 58,
   "outputs": [],
   "source": [
    "season_masks = (time_arrays>season_borders.T[:,None,0]/365) & (time_arrays<season_borders.T[:,None,1]/365)"
   ],
   "metadata": {
    "collapsed": false,
    "pycharm": {
     "name": "#%%\n"
    }
   }
  },
  {
   "cell_type": "code",
   "execution_count": 64,
   "outputs": [
    {
     "data": {
      "text/plain": "array([[False, False, False, False, False, False, False, False, False,\n        False, False, False, False, False, False, False, False, False,\n        False, False, False, False, False, False, False,  True,  True,\n         True,  True,  True,  True,  True,  True,  True,  True,  True,\n         True,  True,  True,  True,  True,  True,  True,  True,  True,\n         True,  True,  True,  True,  True,  True,  True,  True,  True,\n         True,  True,  True,  True,  True,  True,  True,  True,  True,\n         True,  True,  True,  True,  True,  True,  True,  True,  True,\n         True,  True,  True,  True,  True,  True,  True,  True,  True,\n         True,  True,  True,  True,  True,  True,  True,  True,  True,\n         True,  True,  True,  True,  True,  True,  True,  True,  True,\n         True,  True,  True,  True,  True,  True,  True,  True,  True,\n         True,  True,  True,  True,  True,  True,  True,  True,  True,\n         True,  True, False, False, False, False, False, False, False,\n        False, False, False, False, False, False, False, False, False,\n        False, False, False, False, False, False, False, False, False,\n        False, False, False, False, False, False, False, False, False,\n        False, False, False, False, False, False, False, False, False,\n        False, False, False],\n       [False, False, False, False, False, False, False, False, False,\n        False, False, False, False, False, False, False, False, False,\n        False, False, False, False, False, False, False, False, False,\n        False, False, False, False, False, False,  True,  True,  True,\n         True,  True,  True,  True,  True,  True,  True,  True,  True,\n         True,  True,  True,  True,  True,  True,  True,  True,  True,\n         True,  True,  True,  True,  True,  True,  True,  True,  True,\n         True,  True,  True,  True,  True,  True,  True,  True,  True,\n         True,  True,  True,  True,  True,  True,  True,  True,  True,\n         True,  True,  True,  True,  True,  True,  True,  True,  True,\n         True,  True,  True,  True,  True,  True,  True,  True,  True,\n         True,  True,  True,  True,  True,  True,  True,  True,  True,\n         True,  True,  True,  True,  True,  True,  True,  True,  True,\n         True,  True,  True,  True, False, False, False, False, False,\n        False, False, False, False, False, False, False, False, False,\n        False, False, False, False, False, False, False, False, False,\n        False, False, False, False, False, False, False, False, False,\n        False, False, False, False, False, False, False, False, False,\n        False, False, False],\n       [False, False, False, False, False, False, False, False, False,\n        False, False, False, False, False, False, False, False, False,\n        False, False, False, False, False, False, False, False, False,\n        False, False, False, False, False, False, False, False,  True,\n         True,  True,  True,  True,  True,  True,  True,  True,  True,\n         True,  True,  True,  True,  True,  True,  True,  True,  True,\n         True,  True,  True,  True,  True,  True,  True,  True,  True,\n         True,  True,  True,  True,  True,  True,  True,  True,  True,\n         True,  True,  True,  True,  True,  True,  True,  True,  True,\n         True,  True,  True,  True,  True,  True,  True,  True,  True,\n         True,  True,  True,  True,  True,  True,  True,  True,  True,\n         True,  True,  True,  True,  True,  True,  True,  True,  True,\n         True,  True,  True,  True,  True, False, False, False, False,\n        False, False, False, False, False, False, False, False, False,\n        False, False, False, False, False, False, False, False, False,\n        False, False, False, False, False, False, False, False, False,\n        False, False, False, False, False, False, False, False, False,\n        False, False, False, False, False, False, False, False, False,\n        False, False, False],\n       [False, False, False, False, False, False, False, False, False,\n        False, False, False, False, False, False, False, False, False,\n        False, False, False, False, False, False, False,  True,  True,\n         True,  True,  True,  True,  True,  True,  True,  True,  True,\n         True,  True,  True,  True,  True,  True,  True,  True,  True,\n         True,  True,  True,  True,  True,  True,  True,  True,  True,\n         True,  True,  True,  True,  True,  True,  True,  True,  True,\n         True,  True,  True,  True,  True,  True,  True,  True,  True,\n         True,  True,  True,  True,  True,  True,  True,  True,  True,\n         True,  True,  True,  True,  True,  True,  True,  True,  True,\n         True,  True,  True,  True,  True,  True,  True,  True,  True,\n         True,  True,  True,  True,  True,  True,  True,  True,  True,\n         True,  True,  True,  True,  True,  True,  True,  True,  True,\n         True,  True,  True,  True,  True,  True,  True,  True,  True,\n         True,  True,  True, False, False, False, False, False, False,\n        False, False, False, False, False, False, False, False, False,\n        False, False, False, False, False, False, False, False, False,\n        False, False, False, False, False, False, False, False, False,\n        False, False, False],\n       [False, False, False, False, False, False, False, False, False,\n        False, False,  True,  True,  True,  True,  True,  True,  True,\n         True,  True,  True,  True,  True,  True,  True,  True,  True,\n         True,  True,  True,  True,  True,  True,  True,  True,  True,\n         True,  True,  True,  True,  True,  True,  True,  True,  True,\n         True,  True,  True,  True,  True,  True,  True,  True,  True,\n         True,  True,  True,  True,  True,  True,  True,  True,  True,\n         True,  True,  True,  True,  True,  True,  True,  True,  True,\n         True,  True,  True,  True,  True,  True,  True,  True,  True,\n         True,  True,  True,  True,  True,  True,  True,  True,  True,\n         True,  True,  True,  True,  True,  True,  True,  True,  True,\n         True,  True,  True,  True,  True,  True,  True,  True,  True,\n         True,  True,  True,  True,  True,  True,  True,  True,  True,\n         True,  True,  True,  True,  True,  True,  True,  True,  True,\n         True,  True,  True, False, False, False, False, False, False,\n        False, False, False, False, False, False, False, False, False,\n        False, False, False, False, False, False, False, False, False,\n        False, False, False, False, False, False, False, False, False,\n        False, False, False],\n       [False, False, False, False, False, False, False, False, False,\n        False, False, False, False, False, False, False, False, False,\n        False, False,  True,  True,  True,  True,  True,  True,  True,\n         True,  True,  True,  True,  True,  True,  True,  True,  True,\n         True,  True,  True,  True,  True,  True,  True,  True,  True,\n         True,  True,  True,  True,  True,  True,  True,  True,  True,\n         True,  True,  True,  True,  True,  True,  True,  True,  True,\n         True,  True,  True,  True,  True,  True,  True,  True,  True,\n         True,  True,  True,  True,  True,  True,  True,  True,  True,\n         True,  True,  True,  True,  True,  True,  True,  True,  True,\n         True,  True,  True,  True,  True,  True,  True,  True,  True,\n         True,  True,  True,  True,  True,  True,  True,  True, False,\n        False, False, False, False, False, False, False, False, False,\n        False, False, False, False, False, False, False, False, False,\n        False, False, False, False, False, False, False, False, False,\n        False, False, False, False, False, False, False, False, False,\n        False, False, False, False, False, False, False, False, False,\n        False, False, False, False, False, False, False, False, False,\n        False, False, False]])"
     },
     "execution_count": 64,
     "metadata": {},
     "output_type": "execute_result"
    }
   ],
   "source": [
    "season_masks"
   ],
   "metadata": {
    "collapsed": false,
    "pycharm": {
     "name": "#%%\n"
    }
   }
  },
  {
   "cell_type": "code",
   "execution_count": null,
   "outputs": [],
   "source": [],
   "metadata": {
    "collapsed": false,
    "pycharm": {
     "name": "#%%\n"
    }
   }
  },
  {
   "cell_type": "code",
   "execution_count": null,
   "outputs": [],
   "source": [],
   "metadata": {
    "collapsed": false,
    "pycharm": {
     "name": "#%%\n"
    }
   }
  },
  {
   "cell_type": "code",
   "execution_count": null,
   "outputs": [],
   "source": [],
   "metadata": {
    "collapsed": false,
    "pycharm": {
     "name": "#%%\n"
    }
   }
  },
  {
   "cell_type": "code",
   "execution_count": 63,
   "outputs": [
    {
     "data": {
      "text/plain": "(array([0, 0, 0, 0, 0, 0, 0, 0, 0, 0, 0, 0, 0, 0, 0, 0, 0, 0, 0, 0, 0, 0,\n        0, 0, 0, 0, 0, 0, 0, 0, 0, 0, 0, 0, 0, 0, 0, 0, 0, 0, 0, 0, 0, 0,\n        0, 0, 0, 0, 0, 0, 0, 0, 0, 0, 0, 0, 0, 0, 0, 0, 0, 0, 0, 0, 0, 0,\n        0, 0, 0, 0, 0, 0, 0, 0, 0, 0, 0, 0, 0, 0, 0, 0, 0, 0, 0, 0, 0, 0,\n        0, 0, 0, 0, 0, 0, 0, 0, 0, 0, 0, 0, 0, 0, 0, 0, 0, 0, 0, 0, 0, 0,\n        0, 0, 0, 0, 0, 0, 0, 0, 0, 0, 0, 0, 0, 0, 0, 0, 0, 0, 0, 0, 0, 0,\n        0, 1, 1, 1, 1, 1, 1, 1, 1, 1, 1, 1, 1, 1, 1, 1, 1, 1, 1, 1, 1, 1,\n        1, 1, 1, 1, 1, 1, 1, 1, 1, 1, 1, 1, 1, 1, 1, 1, 1, 1, 1, 1, 1, 1,\n        1, 1, 1, 1, 1, 1, 1, 1, 1, 1, 1, 1, 1, 1, 1, 1, 1, 1, 1, 1, 1, 1,\n        1, 1, 1, 1, 1, 1, 1, 1, 1, 1, 1, 1, 1, 1, 1, 1, 1, 1, 1, 1, 1, 1,\n        1, 1, 1, 1, 1, 1, 1, 1, 1, 1, 1, 1, 1, 1, 1, 1, 1, 1, 1, 1, 1, 1,\n        1, 1, 1, 1, 1, 1, 1, 1, 1, 1, 1, 1, 1, 1, 1, 1, 1, 1, 1, 1, 1, 1,\n        1, 1, 1, 1, 1, 1, 1, 1, 1, 1, 1, 1, 1, 1, 1, 1, 1, 1, 1, 1, 2, 2,\n        2, 2, 2, 2, 2, 2, 2, 2, 2, 2, 2, 2, 2, 2, 2, 2, 2, 2, 2, 2, 2, 2,\n        2, 2, 2, 2, 2, 2, 2, 2, 2, 2, 2, 2, 2, 2, 2, 2, 2, 2, 2, 2, 2, 2,\n        2, 2, 2, 2, 2, 2, 2, 2, 2, 2, 2, 2, 2, 2, 2, 2, 2, 2, 2, 2, 2, 2,\n        2, 2, 2, 2, 2, 2, 2, 2, 2, 2, 2, 2, 2, 2, 2, 2, 2, 2, 2, 2, 2, 2,\n        2, 2, 2, 2, 2, 2, 2, 2, 2, 2, 2, 2, 2, 2, 2, 2, 2, 2, 2, 2, 2, 2,\n        2, 2, 2, 2, 2, 2, 2, 2, 2, 2, 2, 2, 2, 2, 2, 2, 2, 2, 2, 2, 2, 2,\n        2, 2, 2, 2, 2, 2, 2, 2, 2, 2, 2, 2, 2, 2, 2, 2, 3, 3, 3, 3, 3, 3,\n        3, 3, 3, 3, 3, 3, 3, 3, 3, 3, 3, 3, 3, 3, 3, 3, 3, 3, 3, 3, 3, 3,\n        3, 3, 3, 3, 3, 3, 3, 3, 3, 3, 3, 3, 3, 3, 3, 3, 3, 3, 3, 3, 3, 3,\n        3, 3, 3, 3, 3, 3, 3, 3, 3, 3, 3, 3, 3, 3, 3, 3, 3, 3, 3, 3, 3, 3,\n        3, 3, 3, 3, 3, 3, 3, 3, 3, 3, 3, 3, 3, 3, 3, 3, 3, 3, 3, 3, 3, 3,\n        3, 3, 3, 3, 3, 3, 3, 3, 3, 3, 3, 3, 3, 3, 3, 3, 3, 3, 3, 3, 3, 3,\n        3, 3, 3, 3, 3, 3, 3, 3, 3, 3, 3, 3, 3, 3, 3, 3, 3, 3, 3, 3, 3, 3,\n        3, 3, 3, 3, 3, 3, 3, 3, 3, 3, 4, 4, 4, 4, 4, 4, 4, 4, 4, 4, 4, 4,\n        4, 4, 4, 4, 4, 4, 4, 4, 4, 4, 4, 4, 4, 4, 4, 4, 4, 4, 4, 4, 4, 4,\n        4, 4, 4, 4, 4, 4, 4, 4, 4, 4, 4, 4, 4, 4, 4, 4, 4, 4, 4, 4, 4, 4,\n        4, 4, 4, 4, 4, 4, 4, 4, 4, 4, 4, 4, 4, 4, 4, 4, 4, 4, 4, 4, 4, 4,\n        4, 4, 4, 4, 4, 4, 4, 4, 4, 4, 4, 4, 4, 4, 4, 4, 4, 4, 4, 4, 4, 4,\n        4, 4, 4, 4, 4, 4, 4, 4, 4, 4, 4, 4, 4, 4, 4, 4, 4, 4, 4, 4, 4, 4,\n        4, 4, 4, 4, 4, 4, 4, 4, 4, 4, 4, 4, 4, 4, 4, 4, 4, 4, 4, 4, 4, 4,\n        4, 5, 5, 5, 5, 5, 5, 5, 5, 5, 5, 5, 5, 5, 5, 5, 5, 5, 5, 5, 5, 5,\n        5, 5, 5, 5, 5, 5, 5, 5, 5, 5, 5, 5, 5, 5, 5, 5, 5, 5, 5, 5, 5, 5,\n        5, 5, 5, 5, 5, 5, 5, 5, 5, 5, 5, 5, 5, 5, 5, 5, 5, 5, 5, 5, 5, 5,\n        5, 5, 5, 5, 5, 5, 5, 5, 5, 5, 5, 5, 5, 5, 5, 5, 5, 5, 5, 5, 5, 5,\n        5, 5, 5, 5, 5, 5, 5, 5, 5, 5, 5, 5, 5, 5, 5, 5, 5, 5, 5, 5, 5, 5,\n        5, 5, 5, 5, 5, 5, 5, 5, 5, 5, 5, 5, 5, 5, 5, 5, 5, 5, 5]),\n array([  0,   1,   2,   3,   4,   5,   6,   7,   8,   9,  10,  11,  12,\n         13,  14,  15,  16,  17,  18,  19,  20,  21,  22,  23,  24,  25,\n         26,  27,  28,  29,  30,  31,  32,  33,  34,  35,  36,  37,  38,\n         39,  40,  41,  42,  43,  44,  45,  46,  47,  48,  49,  50,  51,\n         52,  53,  54,  55,  56,  57,  58,  59,  60,  61,  62,  63,  64,\n         65,  66,  67,  68,  69,  70,  71,  72,  73,  74,  75,  76,  77,\n         78,  79,  80,  81,  82,  83,  84,  85,  86,  87,  88,  89,  90,\n         91,  92,  93,  94,  95,  96,  97,  98,  99, 100, 101, 102, 103,\n        104, 105, 106, 107, 108, 109, 110, 111, 112, 113, 114, 115, 116,\n        117, 118, 119, 120, 121, 122, 123, 124, 125, 126, 127, 128, 129,\n        130, 131, 132,   0,   1,   2,   3,   4,   5,   6,   7,   8,   9,\n         10,  11,  12,  13,  14,  15,  16,  17,  18,  19,  20,  21,  22,\n         23,  24,  25,  26,  27,  28,  29,  30,  31,  32,  33,  34,  35,\n         36,  37,  38,  39,  40,  41,  42,  43,  44,  45,  46,  47,  48,\n         49,  50,  51,  52,  53,  54,  55,  56,  57,  58,  59,  60,  61,\n         62,  63,  64,  65,  66,  67,  68,  69,  70,  71,  72,  73,  74,\n         75,  76,  77,  78,  79,  80,  81,  82,  83,  84,  85,  86,  87,\n         88,  89,  90,  91,  92,  93,  94,  95,  96,  97,  98,  99, 100,\n        101, 102, 103, 104, 105, 106, 107, 108, 109, 110, 111, 112, 113,\n        114, 115, 116, 117, 118, 119, 120, 121, 122, 123, 124, 125, 126,\n        127, 128, 129, 130, 131, 132, 133, 134, 135, 136, 137, 138, 139,\n        140, 141, 142, 143, 144, 145, 146, 147, 148, 149, 150,   0,   1,\n          2,   3,   4,   5,   6,   7,   8,   9,  10,  11,  12,  13,  14,\n         15,  16,  17,  18,  19,  20,  21,  22,  23,  24,  25,  26,  27,\n         28,  29,  30,  31,  32,  33,  34,  35,  36,  37,  38,  39,  40,\n         41,  42,  43,  44,  45,  46,  47,  48,  49,  50,  51,  52,  53,\n         54,  55,  56,  57,  58,  59,  60,  61,  62,  63,  64,  65,  66,\n         67,  68,  69,  70,  71,  72,  73,  74,  75,  76,  77,  78,  79,\n         80,  81,  82,  83,  84,  85,  86,  87,  88,  89,  90,  91,  92,\n         93,  94,  95,  96,  97,  98,  99, 100, 101, 102, 103, 104, 105,\n        106, 107, 108, 109, 110, 111, 112, 113, 114, 115, 116, 117, 118,\n        119, 120, 121, 122, 123, 124, 125, 126, 127, 128, 129, 130, 131,\n        132, 133, 134, 135, 136, 137, 138, 139, 140, 141, 142, 143, 144,\n        145, 146, 147, 148, 149,   0,   1,   2,   3,   4,   5,   6,   7,\n          8,   9,  10,  11,  12,  13,  14,  15,  16,  17,  18,  19,  20,\n         21,  22,  23,  24,  25,  26,  27,  28,  29,  30,  31,  32,  33,\n         34,  35,  36,  37,  38,  39,  40,  41,  42,  43,  44,  45,  46,\n         47,  48,  49,  50,  51,  52,  53,  54,  55,  56,  57,  58,  59,\n         60,  61,  62,  63,  64,  65,  66,  67,  68,  69,  70,  71,  72,\n         73,  74,  75,  76,  77,  78,  79,  80,  81,  82,  83,  84,  85,\n         86,  87,  88,  89,  90,  91,  92,  93,  94,  95,  96,  97,  98,\n         99, 100, 101, 102, 103, 104, 105, 106, 107, 108, 109, 110, 111,\n        112, 113, 114, 115, 116, 117, 118, 119, 120, 121, 122, 123, 124,\n        125, 126, 127, 128, 129, 130, 131, 132, 133, 134, 135, 136, 137,\n        138, 139, 140, 141, 142, 143, 144, 145, 146, 147,   0,   1,   2,\n          3,   4,   5,   6,   7,   8,   9,  10,  11,  12,  13,  14,  15,\n         16,  17,  18,  19,  20,  21,  22,  23,  24,  25,  26,  27,  28,\n         29,  30,  31,  32,  33,  34,  35,  36,  37,  38,  39,  40,  41,\n         42,  43,  44,  45,  46,  47,  48,  49,  50,  51,  52,  53,  54,\n         55,  56,  57,  58,  59,  60,  61,  62,  63,  64,  65,  66,  67,\n         68,  69,  70,  71,  72,  73,  74,  75,  76,  77,  78,  79,  80,\n         81,  82,  83,  84,  85,  86,  87,  88,  89,  90,  91,  92,  93,\n         94,  95,  96,  97,  98,  99, 100, 101, 102, 103, 104, 105, 106,\n        107, 108, 109, 110, 111, 112, 113, 114, 115, 116, 117, 118, 119,\n        120, 121, 122, 123, 124, 125, 126, 127, 128, 129, 130, 131, 132,\n        133, 134, 135, 136, 137, 138, 139, 140, 141, 142, 143, 144,   0,\n          1,   2,   3,   4,   5,   6,   7,   8,   9,  10,  11,  12,  13,\n         14,  15,  16,  17,  18,  19,  20,  21,  22,  23,  24,  25,  26,\n         27,  28,  29,  30,  31,  32,  33,  34,  35,  36,  37,  38,  39,\n         40,  41,  42,  43,  44,  45,  46,  47,  48,  49,  50,  51,  52,\n         53,  54,  55,  56,  57,  58,  59,  60,  61,  62,  63,  64,  65,\n         66,  67,  68,  69,  70,  71,  72,  73,  74,  75,  76,  77,  78,\n         79,  80,  81,  82,  83,  84,  85,  86,  87,  88,  89,  90,  91,\n         92,  93,  94,  95,  96,  97,  98,  99, 100, 101, 102, 103, 104,\n        105, 106, 107, 108, 109, 110, 111, 112, 113, 114, 115, 116, 117,\n        118, 119, 120, 121, 122, 123, 124, 125, 126, 127]))"
     },
     "execution_count": 63,
     "metadata": {},
     "output_type": "execute_result"
    }
   ],
   "source": [
    "np.where(padding_masks)"
   ],
   "metadata": {
    "collapsed": false,
    "pycharm": {
     "name": "#%%\n"
    }
   }
  },
  {
   "cell_type": "code",
   "execution_count": null,
   "outputs": [],
   "source": [
    "padding_masks"
   ],
   "metadata": {
    "collapsed": false,
    "pycharm": {
     "name": "#%%\n"
    }
   }
  },
  {
   "cell_type": "code",
   "execution_count": 62,
   "outputs": [
    {
     "data": {
      "text/plain": "72.5"
     },
     "execution_count": 62,
     "metadata": {},
     "output_type": "execute_result"
    }
   ],
   "source": [
    "dataset.seasons_lengths('pixel').mean()/2"
   ],
   "metadata": {
    "collapsed": false,
    "pycharm": {
     "name": "#%%\n"
    }
   }
  },
  {
   "cell_type": "code",
   "execution_count": null,
   "outputs": [],
   "source": [],
   "metadata": {
    "collapsed": false,
    "pycharm": {
     "name": "#%%\n"
    }
   }
  },
  {
   "cell_type": "code",
   "execution_count": null,
   "outputs": [],
   "source": [],
   "metadata": {
    "collapsed": false,
    "pycharm": {
     "name": "#%%\n"
    }
   }
  },
  {
   "cell_type": "code",
   "execution_count": 38,
   "outputs": [
    {
     "data": {
      "text/plain": "(6, 2)"
     },
     "execution_count": 38,
     "metadata": {},
     "output_type": "execute_result"
    }
   ],
   "source": [
    "season_borders.T.shape"
   ],
   "metadata": {
    "collapsed": false,
    "pycharm": {
     "name": "#%%\n"
    }
   }
  },
  {
   "cell_type": "code",
   "execution_count": null,
   "outputs": [],
   "source": [
    "season_borders"
   ],
   "metadata": {
    "collapsed": false,
    "pycharm": {
     "name": "#%%\n"
    }
   }
  },
  {
   "cell_type": "code",
   "execution_count": 21,
   "outputs": [],
   "source": [
    "season_borders = np.array([gaps_lengths[0],365-gaps_lengths[1]])\n"
   ],
   "metadata": {
    "collapsed": false,
    "pycharm": {
     "name": "#%%\n"
    }
   }
  },
  {
   "cell_type": "code",
   "execution_count": 22,
   "outputs": [
    {
     "data": {
      "text/plain": "array([ 98.88242163, 280.03574339])"
     },
     "execution_count": 22,
     "metadata": {},
     "output_type": "execute_result"
    }
   ],
   "source": [
    "season_borders"
   ],
   "metadata": {
    "collapsed": false,
    "pycharm": {
     "name": "#%%\n"
    }
   }
  },
  {
   "cell_type": "code",
   "execution_count": 23,
   "outputs": [],
   "source": [
    "def _closest_indices(array, time_array):\n",
    "        return np.argmin(np.abs(time_array[:, None] - array), axis=0)"
   ],
   "metadata": {
    "collapsed": false,
    "pycharm": {
     "name": "#%%\n"
    }
   }
  },
  {
   "cell_type": "code",
   "execution_count": 24,
   "outputs": [
    {
     "data": {
      "text/plain": "array([ 29, 108])"
     },
     "execution_count": 24,
     "metadata": {},
     "output_type": "execute_result"
    }
   ],
   "source": [
    "idx = _closest_indices(season_borders/365,time_arrays[0])\n",
    "idx"
   ],
   "metadata": {
    "collapsed": false,
    "pycharm": {
     "name": "#%%\n"
    }
   }
  },
  {
   "cell_type": "code",
   "execution_count": 24,
   "outputs": [],
   "source": [],
   "metadata": {
    "collapsed": false,
    "pycharm": {
     "name": "#%%\n"
    }
   }
  },
  {
   "cell_type": "code",
   "execution_count": 28,
   "outputs": [
    {
     "data": {
      "text/plain": "165"
     },
     "execution_count": 28,
     "metadata": {},
     "output_type": "execute_result"
    }
   ],
   "source": [
    "dataset.seasons_lengths('pixel').max()\n"
   ],
   "metadata": {
    "collapsed": false,
    "pycharm": {
     "name": "#%%\n"
    }
   }
  },
  {
   "cell_type": "code",
   "execution_count": 31,
   "outputs": [
    {
     "data": {
      "text/plain": "array([0.])"
     },
     "execution_count": 31,
     "metadata": {},
     "output_type": "execute_result"
    }
   ],
   "source": [
    "time_arrays[0][:1]\n"
   ],
   "metadata": {
    "collapsed": false,
    "pycharm": {
     "name": "#%%\n"
    }
   }
  },
  {
   "cell_type": "code",
   "execution_count": null,
   "outputs": [],
   "source": [],
   "metadata": {
    "collapsed": false,
    "pycharm": {
     "name": "#%%\n"
    }
   }
  }
 ],
 "metadata": {
  "kernelspec": {
   "display_name": "Python 3",
   "language": "python",
   "name": "python3"
  },
  "language_info": {
   "codemirror_mode": {
    "name": "ipython",
    "version": 2
   },
   "file_extension": ".py",
   "mimetype": "text/x-python",
   "name": "python",
   "nbconvert_exporter": "python",
   "pygments_lexer": "ipython2",
   "version": "2.7.6"
  }
 },
 "nbformat": 4,
 "nbformat_minor": 0
}